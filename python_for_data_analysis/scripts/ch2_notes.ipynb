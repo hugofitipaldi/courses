{
 "cells": [
  {
   "attachments": {},
   "cell_type": "markdown",
   "metadata": {},
   "source": [
    "### My notes on: 2  Python Language Basics, IPython, and Jupyter Notebooks"
   ]
  },
  {
   "attachments": {},
   "cell_type": "markdown",
   "metadata": {},
   "source": [
    "#### Introspection\n",
    "\n",
    "Using a question mark (?) before or after a variable will display some general information about the object."
   ]
  },
  {
   "cell_type": "code",
   "execution_count": 1,
   "metadata": {},
   "outputs": [
    {
     "name": "stdout",
     "output_type": "stream",
     "text": [
      "\u001b[0;31mType:\u001b[0m        list\n",
      "\u001b[0;31mString form:\u001b[0m [1, 2, 3]\n",
      "\u001b[0;31mLength:\u001b[0m      3\n",
      "\u001b[0;31mDocstring:\u001b[0m  \n",
      "Built-in mutable sequence.\n",
      "\n",
      "If no argument is given, the constructor creates a new empty list.\n",
      "The argument must be an iterable if specified."
     ]
    }
   ],
   "source": [
    "b = [1,2,3]\n",
    "\n",
    "b?"
   ]
  },
  {
   "attachments": {},
   "cell_type": "markdown",
   "metadata": {},
   "source": [
    "The \"?\" command in IPython allows for searching the namespace by using wildcards to match and display names that match a specific expression, such as listing functions in the top-level NumPy namespace containing \"load\"."
   ]
  },
  {
   "cell_type": "code",
   "execution_count": 2,
   "metadata": {},
   "outputs": [
    {
     "name": "stdout",
     "output_type": "stream",
     "text": [
      "np.__loader__\n",
      "np.load\n",
      "np.loadtxt"
     ]
    }
   ],
   "source": [
    "import numpy as np\n",
    "\n",
    "np.*load*?"
   ]
  },
  {
   "attachments": {},
   "cell_type": "markdown",
   "metadata": {},
   "source": [
    "#### Python Language Basics\n",
    "\n",
    "* Python's language design emphasizes readability, simplicity, and explicitness.\n",
    "* Python uses indentation instead of braces for structuring code.\n",
    "* Objects in Python have their own \"box\" called a Python object, making the language flexible.\n",
    "* Comments in Python start with a hash mark (#) and are ignored by the interpreter.\n",
    "* Functions and object methods are called using parentheses and can take positional and keyword arguments.\n",
    "* Assigning variables creates references to objects; modifying one affects the other if they refer to the same object."
   ]
  },
  {
   "cell_type": "code",
   "execution_count": 4,
   "metadata": {},
   "outputs": [
    {
     "name": "stdout",
     "output_type": "stream",
     "text": [
      "[1, 2, 3, 4]\n"
     ]
    }
   ],
   "source": [
    "# Variables and argument passing\n",
    "a = [1,2,3]\n",
    "b = a\n",
    "a.append(4)\n",
    "print(b)"
   ]
  },
  {
   "attachments": {},
   "cell_type": "markdown",
   "metadata": {},
   "source": [
    "* Variables in Python are dynamically referenced and have no inherent type.\n",
    "* Python is a strongly typed language, meaning implicit conversions are limited.\n",
    "* The type of an object can be checked using the isinstance function, which can accept a tuple of types for checking multiple types.\n",
    "* Objects in Python have <B>attributes</B> and <B>methods</B> that can be accessed using dot notation.\n",
    "* Duck typing allows checking for specific methods or behavior without caring about the object's type.\n",
    "* Modules in Python are files with the .py extension that contain Python code and can be imported.\n",
    "* Binary operators and comparisons in Python use familiar mathematical syntax.\n",
    "* The \"is\" keyword checks if two variables refer to the same object, while \"is not\" checks if they refer to different objects.\n",
    "* Mutable objects can be modified, while immutable objects cannot be changed.\n",
    "* It is recommended to avoid side effects and favor immutability when possible."
   ]
  },
  {
   "attachments": {},
   "cell_type": "markdown",
   "metadata": {},
   "source": [
    "#### Scalar Types\n",
    "\n",
    "* In Python, strings are immutable, meaning they cannot be modified. However, in R, strings are mutable, allowing for in-place modifications by changing individual characters or updating the entire string directly."
   ]
  },
  {
   "cell_type": "code",
   "execution_count": 5,
   "metadata": {},
   "outputs": [
    {
     "ename": "TypeError",
     "evalue": "'str' object does not support item assignment",
     "output_type": "error",
     "traceback": [
      "\u001b[0;31m---------------------------------------------------------------------------\u001b[0m",
      "\u001b[0;31mTypeError\u001b[0m                                 Traceback (most recent call last)",
      "Cell \u001b[0;32mIn[5], line 2\u001b[0m\n\u001b[1;32m      1\u001b[0m a \u001b[39m=\u001b[39m \u001b[39m\"\u001b[39m\u001b[39mthis is a string\u001b[39m\u001b[39m\"\u001b[39m\n\u001b[0;32m----> 2\u001b[0m a[\u001b[39m10\u001b[39;49m] \u001b[39m=\u001b[39m \u001b[39m'\u001b[39m\u001b[39mf\u001b[39m\u001b[39m'\u001b[39m\n",
      "\u001b[0;31mTypeError\u001b[0m: 'str' object does not support item assignment"
     ]
    }
   ],
   "source": [
    "a = \"this is a string\"\n",
    "a[10] = 'f'"
   ]
  },
  {
   "attachments": {},
   "cell_type": "markdown",
   "metadata": {},
   "source": [
    "If we need to modify a string, we have to use a function or method that creates a new string, such as the string replace method:"
   ]
  },
  {
   "cell_type": "code",
   "execution_count": 7,
   "metadata": {},
   "outputs": [
    {
     "name": "stdout",
     "output_type": "stream",
     "text": [
      "this is a longer string\n"
     ]
    }
   ],
   "source": [
    "b = a.replace(\"string\", \"longer string\")\n",
    "print(b)"
   ]
  },
  {
   "attachments": {},
   "cell_type": "markdown",
   "metadata": {},
   "source": [
    "* Python strings are Unicode sequences and can be treated like other sequences such as lists and tuples.\n",
    "* Slicing, denoted by the syntax s[:3], allows extracting specific parts of a string. For example, s = \"python\" and s[:3] would yield the result 'pyt'.\n",
    "* The backslash character \\ is used as an escape character for special and Unicode characters in strings.\n",
    "* To include a literal backslash in a string, you need to escape it with another backslash. For example, s = \"12\\\\34\" would print as '12\\34'.\n",
    "* Alternatively, you can use a raw string by prefixing the leading quote with \"r\". This treats backslashes as literal characters. For example:"
   ]
  },
  {
   "cell_type": "code",
   "execution_count": 9,
   "metadata": {},
   "outputs": [
    {
     "name": "stdout",
     "output_type": "stream",
     "text": [
      "this\\has\\no\\special\\characters\n"
     ]
    }
   ],
   "source": [
    "s = r\"this\\has\\no\\special\\characters\"\n",
    "print(s)"
   ]
  },
  {
   "attachments": {},
   "cell_type": "markdown",
   "metadata": {},
   "source": [
    "* String templating or formatting allows you to create dynamic strings by substituting values into predefined templates.\n",
    "* In Python, strings have a format method that facilitates this process.\n",
    "* The format method uses curly braces {} as placeholders for the values to be substituted.\n",
    "* Inside the curly braces, you can include format specifiers that define how the values should be formatted.\n",
    "* For example, `{0:.2f}` specifies that the first argument should be formatted as a floating-point number with two decimal places.\n",
    "* Similarly, `{1:s}` specifies that the second argument should be treated as a string, and `{2:d}` specifies that the third argument should be an exact integer.\n",
    "* To substitute values into the template, you pass a sequence of values as arguments to the format method.\n",
    "* The values are inserted into the corresponding placeholders in the order they appear in the argument sequence.\n",
    "* The format method returns a new string with the substituted values.\n",
    "\n",
    "Here's an example to illustrate the concept:"
   ]
  },
  {
   "cell_type": "code",
   "execution_count": 10,
   "metadata": {},
   "outputs": [
    {
     "name": "stdout",
     "output_type": "stream",
     "text": [
      "88.46 Argentine Pesos are worth US$1\n"
     ]
    }
   ],
   "source": [
    "template = \"{0:.2f} {1:s} are worth US${2:d}\"\n",
    "result = template.format(88.46, \"Argentine Pesos\", 1)\n",
    "print(result)"
   ]
  },
  {
   "attachments": {},
   "cell_type": "markdown",
   "metadata": {},
   "source": [
    "Python 3.6 introduced a convenient feature called f-strings (formatted string literals) for creating formatted strings. Here's an explanation of how they work:\n",
    "\n",
    "* To create an f-string, prefix the string literal with the letter \"f\".\n",
    "* Within the f-string, you can enclose Python expressions in curly braces {} to substitute their values into the formatted string.\n",
    "\n",
    "For example:"
   ]
  },
  {
   "cell_type": "code",
   "execution_count": 11,
   "metadata": {},
   "outputs": [
    {
     "name": "stdout",
     "output_type": "stream",
     "text": [
      "10 Argentine Pesos are worth US$88.46\n"
     ]
    }
   ],
   "source": [
    "amount = 10\n",
    "rate = 88.46\n",
    "currency = \"Argentine Pesos\"\n",
    "\n",
    "result = f\"{amount} {currency} are worth US${rate}\"\n",
    "print(result)"
   ]
  },
  {
   "attachments": {},
   "cell_type": "markdown",
   "metadata": {},
   "source": [
    "* You can also add format specifiers to control how the values are displayed. The format specifier follows a colon (:) after the expression and uses the same syntax as string templates."
   ]
  },
  {
   "cell_type": "code",
   "execution_count": 12,
   "metadata": {},
   "outputs": [
    {
     "data": {
      "text/plain": [
       "'10 Argentine Pesos is worth US$0.11'"
      ]
     },
     "execution_count": 12,
     "metadata": {},
     "output_type": "execute_result"
    }
   ],
   "source": [
    "f\"{amount} {currency} is worth US${amount / rate:.2f}\""
   ]
  },
  {
   "cell_type": "code",
   "execution_count": null,
   "metadata": {},
   "outputs": [],
   "source": []
  }
 ],
 "metadata": {
  "kernelspec": {
   "display_name": "pydata-book",
   "language": "python",
   "name": "python3"
  },
  "language_info": {
   "codemirror_mode": {
    "name": "ipython",
    "version": 3
   },
   "file_extension": ".py",
   "mimetype": "text/x-python",
   "name": "python",
   "nbconvert_exporter": "python",
   "pygments_lexer": "ipython3",
   "version": "3.9.16"
  },
  "orig_nbformat": 4
 },
 "nbformat": 4,
 "nbformat_minor": 2
}
