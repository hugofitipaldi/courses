{
 "cells": [
  {
   "cell_type": "markdown",
   "metadata": {},
   "source": [
    "### Notes on Ch 7: Data Cleaning and Preparation\n",
    "\n",
    "When working with data for analysis and modeling, a significant amount of time is spent on tasks like loading, cleaning, and transforming data. Pandas, a Python library, offers tools to make these tasks easier and more efficient.\n",
    "\n",
    "#### Handling Missing Data\n",
    "\n",
    "<b>NaN as Sentinel Value:</b>\n",
    "\n",
    "For numerical data, pandas uses `NaN` (Not a Number) to represent missing values.\n",
    "It's like a signal that indicates a missing value in the data."
   ]
  },
  {
   "cell_type": "code",
   "execution_count": 2,
   "metadata": {},
   "outputs": [
    {
     "data": {
      "text/plain": [
       "0    1.2\n",
       "1   -3.5\n",
       "2    NaN\n",
       "3    0.0\n",
       "dtype: float64"
      ]
     },
     "execution_count": 2,
     "metadata": {},
     "output_type": "execute_result"
    }
   ],
   "source": [
    "import pandas as pd\n",
    "import numpy as np\n",
    "\n",
    "float_data = pd.Series([1.2,-3.5,np.nan,0])\n",
    "float_data"
   ]
  },
  {
   "cell_type": "markdown",
   "metadata": {},
   "source": [
    "The `isna()` method helps identify missing values in a dataset.\n",
    "It returns a Boolean series, marking True where values are missing."
   ]
  },
  {
   "cell_type": "code",
   "execution_count": 2,
   "metadata": {},
   "outputs": [
    {
     "data": {
      "text/plain": [
       "0    False\n",
       "1    False\n",
       "2     True\n",
       "3    False\n",
       "dtype: bool"
      ]
     },
     "execution_count": 2,
     "metadata": {},
     "output_type": "execute_result"
    }
   ],
   "source": [
    "float_data.isna()"
   ]
  },
  {
   "cell_type": "markdown",
   "metadata": {},
   "source": [
    "The built-in Python `None` value is also treated as NA:"
   ]
  },
  {
   "cell_type": "code",
   "execution_count": 3,
   "metadata": {},
   "outputs": [
    {
     "data": {
      "text/plain": [
       "0    False\n",
       "1     True\n",
       "2     True\n",
       "3    False\n",
       "dtype: bool"
      ]
     },
     "execution_count": 3,
     "metadata": {},
     "output_type": "execute_result"
    }
   ],
   "source": [
    "string_data = pd.Series([\"aardvark\", np.nan, None, \"avocado\"])\n",
    "string_data.isna()"
   ]
  },
  {
   "cell_type": "markdown",
   "metadata": {},
   "source": [
    "##### Filtering Out Missing Data\n",
    "\n",
    "<b>Filtering Missing Values in a Series:</b>\n",
    "\n",
    "You can filter out missing values from a Series using the dropna() method:"
   ]
  },
  {
   "cell_type": "code",
   "execution_count": 4,
   "metadata": {},
   "outputs": [
    {
     "data": {
      "text/plain": [
       "0    1.0\n",
       "2    3.5\n",
       "4    7.0\n",
       "dtype: float64"
      ]
     },
     "execution_count": 4,
     "metadata": {},
     "output_type": "execute_result"
    }
   ],
   "source": [
    "data = pd.Series([1, np.nan, 3.5, np.nan, 7])\n",
    "\n",
    "# Drop missing values\n",
    "data.dropna()"
   ]
  },
  {
   "cell_type": "markdown",
   "metadata": {},
   "source": [
    "You can achieve the same result using boolean indexing:"
   ]
  },
  {
   "cell_type": "code",
   "execution_count": 5,
   "metadata": {},
   "outputs": [
    {
     "data": {
      "text/plain": [
       "0    1.0\n",
       "2    3.5\n",
       "4    7.0\n",
       "dtype: float64"
      ]
     },
     "execution_count": 5,
     "metadata": {},
     "output_type": "execute_result"
    }
   ],
   "source": [
    "data[data.notna()]"
   ]
  },
  {
   "cell_type": "markdown",
   "metadata": {},
   "source": [
    "<b>Filtering Missing Values in a DataFrame:</b>\n",
    "\n",
    "For DataFrames, there are different ways to remove missing data. The dropna() method, by default, drops any row containing a missing value:"
   ]
  },
  {
   "cell_type": "code",
   "execution_count": 3,
   "metadata": {},
   "outputs": [
    {
     "name": "stdout",
     "output_type": "stream",
     "text": [
      "     0    1    2\n",
      "0  1.0  6.5  3.0\n",
      "1  1.0  NaN  NaN\n",
      "2  NaN  NaN  NaN\n",
      "3  NaN  6.5  3.0\n",
      "\n",
      "     0    1    2\n",
      "0  1.0  6.5  3.0\n",
      "\n",
      "     0    1    2\n",
      "0  1.0  6.5  3.0\n",
      "1  1.0  NaN  NaN\n",
      "3  NaN  6.5  3.0\n"
     ]
    }
   ],
   "source": [
    "data = pd.DataFrame([[1., 6.5, 3.], [1., np.nan, np.nan],\n",
    "                        [np.nan, np.nan, np.nan], [np.nan, 6.5, 3.]])\n",
    "\n",
    "print(data)\n",
    "print(\"\")\n",
    "print(data.dropna())\n",
    "print(\"\")\n",
    "# Passing how=\"all\" will drop only rows that are all NA:\n",
    "print(data.dropna(how=\"all\"))"
   ]
  },
  {
   "cell_type": "markdown",
   "metadata": {},
   "source": [
    "To drop columns with missing values, you can use axis=\"columns\":"
   ]
  },
  {
   "cell_type": "code",
   "execution_count": 4,
   "metadata": {},
   "outputs": [
    {
     "data": {
      "text/html": [
       "<div>\n",
       "<style scoped>\n",
       "    .dataframe tbody tr th:only-of-type {\n",
       "        vertical-align: middle;\n",
       "    }\n",
       "\n",
       "    .dataframe tbody tr th {\n",
       "        vertical-align: top;\n",
       "    }\n",
       "\n",
       "    .dataframe thead th {\n",
       "        text-align: right;\n",
       "    }\n",
       "</style>\n",
       "<table border=\"1\" class=\"dataframe\">\n",
       "  <thead>\n",
       "    <tr style=\"text-align: right;\">\n",
       "      <th></th>\n",
       "      <th>0</th>\n",
       "      <th>1</th>\n",
       "      <th>2</th>\n",
       "    </tr>\n",
       "  </thead>\n",
       "  <tbody>\n",
       "    <tr>\n",
       "      <th>0</th>\n",
       "      <td>1.0</td>\n",
       "      <td>6.5</td>\n",
       "      <td>3.0</td>\n",
       "    </tr>\n",
       "    <tr>\n",
       "      <th>1</th>\n",
       "      <td>1.0</td>\n",
       "      <td>NaN</td>\n",
       "      <td>NaN</td>\n",
       "    </tr>\n",
       "    <tr>\n",
       "      <th>2</th>\n",
       "      <td>NaN</td>\n",
       "      <td>NaN</td>\n",
       "      <td>NaN</td>\n",
       "    </tr>\n",
       "    <tr>\n",
       "      <th>3</th>\n",
       "      <td>NaN</td>\n",
       "      <td>6.5</td>\n",
       "      <td>3.0</td>\n",
       "    </tr>\n",
       "  </tbody>\n",
       "</table>\n",
       "</div>"
      ],
      "text/plain": [
       "     0    1    2\n",
       "0  1.0  6.5  3.0\n",
       "1  1.0  NaN  NaN\n",
       "2  NaN  NaN  NaN\n",
       "3  NaN  6.5  3.0"
      ]
     },
     "execution_count": 4,
     "metadata": {},
     "output_type": "execute_result"
    }
   ],
   "source": [
    "# Adding a column with missing values\n",
    "data[4] = np.nan\n",
    "\n",
    "# Drop columns with missing values\n",
    "data.dropna(axis=\"columns\", how=\"all\")"
   ]
  },
  {
   "cell_type": "markdown",
   "metadata": {},
   "source": [
    "<b>Handling Missing Data Based on a Threshold:</b>\n",
    "\n",
    "You can also specify a threshold to keep only rows with a certain number of non-missing values using the thresh argument:"
   ]
  },
  {
   "cell_type": "code",
   "execution_count": 7,
   "metadata": {},
   "outputs": [
    {
     "name": "stdout",
     "output_type": "stream",
     "text": [
      "          0         1         2\n",
      "0 -1.292988       NaN  0.950515\n",
      "1  0.710997       NaN -0.316265\n",
      "2  0.963413       NaN -1.531206\n",
      "3  0.965523       NaN  2.023745\n",
      "4  0.169033 -1.603368 -0.326718\n",
      "5 -0.614326  1.457363 -1.173855\n",
      "6  0.845100  2.039895 -0.572499\n",
      "\n",
      "          0         1         2\n",
      "4  0.169033 -1.603368 -0.326718\n",
      "5 -0.614326  1.457363 -1.173855\n",
      "6  0.845100  2.039895 -0.572499\n",
      "\n",
      "          0         1         2\n",
      "0 -1.292988       NaN  0.950515\n",
      "1  0.710997       NaN -0.316265\n",
      "2  0.963413       NaN -1.531206\n",
      "3  0.965523       NaN  2.023745\n",
      "4  0.169033 -1.603368 -0.326718\n",
      "5 -0.614326  1.457363 -1.173855\n",
      "6  0.845100  2.039895 -0.572499\n"
     ]
    }
   ],
   "source": [
    " df = pd.DataFrame(np.random.standard_normal((7, 3)))\n",
    "\n",
    "# Introducing missing values\n",
    "df.iloc[:4, 1] = np.nan\n",
    "\n",
    "print(df)\n",
    "print(\"\")\n",
    "print(df.dropna())\n",
    "print(\"\")\n",
    "print(df.dropna(thresh=2)) # This will keep rows with at least 2 non-missing values.\n",
    "\n"
   ]
  },
  {
   "cell_type": "markdown",
   "metadata": {},
   "source": [
    "##### Filling In Missing Data\n",
    "\n",
    "Instead of filtering out missing data, you might want to fill in the missing values. The `fillna()` method is useful for this purpose."
   ]
  },
  {
   "cell_type": "code",
   "execution_count": 8,
   "metadata": {},
   "outputs": [
    {
     "data": {
      "text/html": [
       "<div>\n",
       "<style scoped>\n",
       "    .dataframe tbody tr th:only-of-type {\n",
       "        vertical-align: middle;\n",
       "    }\n",
       "\n",
       "    .dataframe tbody tr th {\n",
       "        vertical-align: top;\n",
       "    }\n",
       "\n",
       "    .dataframe thead th {\n",
       "        text-align: right;\n",
       "    }\n",
       "</style>\n",
       "<table border=\"1\" class=\"dataframe\">\n",
       "  <thead>\n",
       "    <tr style=\"text-align: right;\">\n",
       "      <th></th>\n",
       "      <th>0</th>\n",
       "      <th>1</th>\n",
       "      <th>2</th>\n",
       "    </tr>\n",
       "  </thead>\n",
       "  <tbody>\n",
       "    <tr>\n",
       "      <th>0</th>\n",
       "      <td>-1.292988</td>\n",
       "      <td>0.000000</td>\n",
       "      <td>0.950515</td>\n",
       "    </tr>\n",
       "    <tr>\n",
       "      <th>1</th>\n",
       "      <td>0.710997</td>\n",
       "      <td>0.000000</td>\n",
       "      <td>-0.316265</td>\n",
       "    </tr>\n",
       "    <tr>\n",
       "      <th>2</th>\n",
       "      <td>0.963413</td>\n",
       "      <td>0.000000</td>\n",
       "      <td>-1.531206</td>\n",
       "    </tr>\n",
       "    <tr>\n",
       "      <th>3</th>\n",
       "      <td>0.965523</td>\n",
       "      <td>0.000000</td>\n",
       "      <td>2.023745</td>\n",
       "    </tr>\n",
       "    <tr>\n",
       "      <th>4</th>\n",
       "      <td>0.169033</td>\n",
       "      <td>-1.603368</td>\n",
       "      <td>-0.326718</td>\n",
       "    </tr>\n",
       "    <tr>\n",
       "      <th>5</th>\n",
       "      <td>-0.614326</td>\n",
       "      <td>1.457363</td>\n",
       "      <td>-1.173855</td>\n",
       "    </tr>\n",
       "    <tr>\n",
       "      <th>6</th>\n",
       "      <td>0.845100</td>\n",
       "      <td>2.039895</td>\n",
       "      <td>-0.572499</td>\n",
       "    </tr>\n",
       "  </tbody>\n",
       "</table>\n",
       "</div>"
      ],
      "text/plain": [
       "          0         1         2\n",
       "0 -1.292988  0.000000  0.950515\n",
       "1  0.710997  0.000000 -0.316265\n",
       "2  0.963413  0.000000 -1.531206\n",
       "3  0.965523  0.000000  2.023745\n",
       "4  0.169033 -1.603368 -0.326718\n",
       "5 -0.614326  1.457363 -1.173855\n",
       "6  0.845100  2.039895 -0.572499"
      ]
     },
     "execution_count": 8,
     "metadata": {},
     "output_type": "execute_result"
    }
   ],
   "source": [
    "# Filling in missing data with a constant\n",
    "df.fillna(0)"
   ]
  },
  {
   "cell_type": "markdown",
   "metadata": {},
   "source": [
    "You can also fill missing values with different values for each column using a dictionary:"
   ]
  },
  {
   "cell_type": "code",
   "execution_count": 9,
   "metadata": {},
   "outputs": [
    {
     "data": {
      "text/html": [
       "<div>\n",
       "<style scoped>\n",
       "    .dataframe tbody tr th:only-of-type {\n",
       "        vertical-align: middle;\n",
       "    }\n",
       "\n",
       "    .dataframe tbody tr th {\n",
       "        vertical-align: top;\n",
       "    }\n",
       "\n",
       "    .dataframe thead th {\n",
       "        text-align: right;\n",
       "    }\n",
       "</style>\n",
       "<table border=\"1\" class=\"dataframe\">\n",
       "  <thead>\n",
       "    <tr style=\"text-align: right;\">\n",
       "      <th></th>\n",
       "      <th>0</th>\n",
       "      <th>1</th>\n",
       "      <th>2</th>\n",
       "    </tr>\n",
       "  </thead>\n",
       "  <tbody>\n",
       "    <tr>\n",
       "      <th>0</th>\n",
       "      <td>-1.292988</td>\n",
       "      <td>0.500000</td>\n",
       "      <td>0.950515</td>\n",
       "    </tr>\n",
       "    <tr>\n",
       "      <th>1</th>\n",
       "      <td>0.710997</td>\n",
       "      <td>0.500000</td>\n",
       "      <td>-0.316265</td>\n",
       "    </tr>\n",
       "    <tr>\n",
       "      <th>2</th>\n",
       "      <td>0.963413</td>\n",
       "      <td>0.500000</td>\n",
       "      <td>-1.531206</td>\n",
       "    </tr>\n",
       "    <tr>\n",
       "      <th>3</th>\n",
       "      <td>0.965523</td>\n",
       "      <td>0.500000</td>\n",
       "      <td>2.023745</td>\n",
       "    </tr>\n",
       "    <tr>\n",
       "      <th>4</th>\n",
       "      <td>0.169033</td>\n",
       "      <td>-1.603368</td>\n",
       "      <td>-0.326718</td>\n",
       "    </tr>\n",
       "    <tr>\n",
       "      <th>5</th>\n",
       "      <td>-0.614326</td>\n",
       "      <td>1.457363</td>\n",
       "      <td>-1.173855</td>\n",
       "    </tr>\n",
       "    <tr>\n",
       "      <th>6</th>\n",
       "      <td>0.845100</td>\n",
       "      <td>2.039895</td>\n",
       "      <td>-0.572499</td>\n",
       "    </tr>\n",
       "  </tbody>\n",
       "</table>\n",
       "</div>"
      ],
      "text/plain": [
       "          0         1         2\n",
       "0 -1.292988  0.500000  0.950515\n",
       "1  0.710997  0.500000 -0.316265\n",
       "2  0.963413  0.500000 -1.531206\n",
       "3  0.965523  0.500000  2.023745\n",
       "4  0.169033 -1.603368 -0.326718\n",
       "5 -0.614326  1.457363 -1.173855\n",
       "6  0.845100  2.039895 -0.572499"
      ]
     },
     "execution_count": 9,
     "metadata": {},
     "output_type": "execute_result"
    }
   ],
   "source": [
    "df.fillna({1: 0.5, 2: 0}) # Fill column 1 with 0.5 and column 2 with 0"
   ]
  },
  {
   "cell_type": "markdown",
   "metadata": {},
   "source": [
    "Interpolation methods, like forward fill (`ffill`), can also be applied with `fillna()`:"
   ]
  },
  {
   "cell_type": "code",
   "execution_count": 11,
   "metadata": {},
   "outputs": [
    {
     "name": "stdout",
     "output_type": "stream",
     "text": [
      "          0         1         2\n",
      "0 -1.634233  0.364611 -0.148496\n",
      "1 -0.205130 -1.054656  0.505615\n",
      "2  1.960879       NaN  0.129398\n",
      "3  0.013551       NaN -0.403024\n",
      "4 -1.927891       NaN       NaN\n",
      "5 -1.330447       NaN       NaN\n",
      "6  0.269430       NaN       NaN\n",
      "\n",
      "          0         1         2\n",
      "0 -1.634233  0.364611 -0.148496\n",
      "1 -0.205130 -1.054656  0.505615\n",
      "2  1.960879 -1.054656  0.129398\n",
      "3  0.013551 -1.054656 -0.403024\n",
      "4 -1.927891 -1.054656 -0.403024\n",
      "5 -1.330447 -1.054656 -0.403024\n",
      "6  0.269430 -1.054656 -0.403024\n",
      "\n",
      "          0         1         2\n",
      "0 -1.634233  0.364611 -0.148496\n",
      "1 -0.205130 -1.054656  0.505615\n",
      "2  1.960879       NaN  0.129398\n",
      "3  0.013551       NaN -0.403024\n",
      "4 -1.927891       NaN       NaN\n",
      "5 -1.330447       NaN       NaN\n",
      "6  0.269430       NaN       NaN\n"
     ]
    }
   ],
   "source": [
    "df = pd.DataFrame(np.random.standard_normal((7, 3)))\n",
    "\n",
    "# Introducing missing values\n",
    "df.iloc[2:, 1] = np.nan\n",
    "df.iloc[4:, 2] = np.nan\n",
    "\n",
    "print(df)\n",
    "print(\"\")\n",
    "print(df.fillna(method=\"ffill\")) # Forward fill\n",
    "print(\"\")\n",
    "print(df.fillna(method=\"bfill\")) # Backward fill"
   ]
  },
  {
   "cell_type": "markdown",
   "metadata": {},
   "source": [
    "The `fillna()` method can also be used for data imputation, such as filling missing values with the mean:"
   ]
  },
  {
   "cell_type": "code",
   "execution_count": 12,
   "metadata": {},
   "outputs": [
    {
     "data": {
      "text/html": [
       "<div>\n",
       "<style scoped>\n",
       "    .dataframe tbody tr th:only-of-type {\n",
       "        vertical-align: middle;\n",
       "    }\n",
       "\n",
       "    .dataframe tbody tr th {\n",
       "        vertical-align: top;\n",
       "    }\n",
       "\n",
       "    .dataframe thead th {\n",
       "        text-align: right;\n",
       "    }\n",
       "</style>\n",
       "<table border=\"1\" class=\"dataframe\">\n",
       "  <thead>\n",
       "    <tr style=\"text-align: right;\">\n",
       "      <th></th>\n",
       "      <th>0</th>\n",
       "      <th>1</th>\n",
       "      <th>2</th>\n",
       "      <th>4</th>\n",
       "    </tr>\n",
       "  </thead>\n",
       "  <tbody>\n",
       "    <tr>\n",
       "      <th>0</th>\n",
       "      <td>1.0</td>\n",
       "      <td>6.5</td>\n",
       "      <td>3.0</td>\n",
       "      <td>NaN</td>\n",
       "    </tr>\n",
       "    <tr>\n",
       "      <th>1</th>\n",
       "      <td>1.0</td>\n",
       "      <td>6.5</td>\n",
       "      <td>3.0</td>\n",
       "      <td>NaN</td>\n",
       "    </tr>\n",
       "    <tr>\n",
       "      <th>2</th>\n",
       "      <td>1.0</td>\n",
       "      <td>6.5</td>\n",
       "      <td>3.0</td>\n",
       "      <td>NaN</td>\n",
       "    </tr>\n",
       "    <tr>\n",
       "      <th>3</th>\n",
       "      <td>1.0</td>\n",
       "      <td>6.5</td>\n",
       "      <td>3.0</td>\n",
       "      <td>NaN</td>\n",
       "    </tr>\n",
       "  </tbody>\n",
       "</table>\n",
       "</div>"
      ],
      "text/plain": [
       "     0    1    2   4\n",
       "0  1.0  6.5  3.0 NaN\n",
       "1  1.0  6.5  3.0 NaN\n",
       "2  1.0  6.5  3.0 NaN\n",
       "3  1.0  6.5  3.0 NaN"
      ]
     },
     "execution_count": 12,
     "metadata": {},
     "output_type": "execute_result"
    }
   ],
   "source": [
    "# Filling missing values with the mean\n",
    "data.fillna(data.mean())"
   ]
  },
  {
   "cell_type": "markdown",
   "metadata": {},
   "source": []
  }
 ],
 "metadata": {
  "kernelspec": {
   "display_name": "pydata-book",
   "language": "python",
   "name": "python3"
  },
  "language_info": {
   "codemirror_mode": {
    "name": "ipython",
    "version": 3
   },
   "file_extension": ".py",
   "mimetype": "text/x-python",
   "name": "python",
   "nbconvert_exporter": "python",
   "pygments_lexer": "ipython3",
   "version": "3.9.16"
  }
 },
 "nbformat": 4,
 "nbformat_minor": 2
}
