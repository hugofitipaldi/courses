{
 "cells": [
  {
   "attachments": {},
   "cell_type": "markdown",
   "metadata": {},
   "source": [
    "### Notes on 3  Built-In Data Structures, Functions, and Files\n",
    "\n",
    "#### Data Structures and Sequences\n",
    "\n",
    "##### Tuple\n",
    "\n",
    "* A tuple in Python is a fixed-length, immutable sequence of Python objects that cannot be changed once assigned.\n",
    "* Tuples are created by comma-separated sequences of values, which can be enclosed in parentheses. Parentheses can be omitted in many contexts."
   ]
  },
  {
   "cell_type": "code",
   "execution_count": 1,
   "metadata": {},
   "outputs": [
    {
     "name": "stdout",
     "output_type": "stream",
     "text": [
      "(4, 5, 6)\n"
     ]
    }
   ],
   "source": [
    "tup = (4, 5, 6)\n",
    "print(tup)"
   ]
  },
  {
   "attachments": {},
   "cell_type": "markdown",
   "metadata": {},
   "source": [
    "* Tuples can be created from any sequence or iterator by invoking the tuple keyword."
   ]
  },
  {
   "cell_type": "code",
   "execution_count": 3,
   "metadata": {},
   "outputs": [
    {
     "name": "stdout",
     "output_type": "stream",
     "text": [
      "('s', 't', 'r', 'i', 'n', 'g')\n"
     ]
    }
   ],
   "source": [
    "tuple([4, 0, 2])\n",
    "tup = tuple('string')\n",
    "print(tup)"
   ]
  },
  {
   "attachments": {},
   "cell_type": "markdown",
   "metadata": {},
   "source": [
    "* Elements in a tuple are accessed using square brackets [], similar to most other sequence types."
   ]
  },
  {
   "cell_type": "code",
   "execution_count": 4,
   "metadata": {},
   "outputs": [
    {
     "data": {
      "text/plain": [
       "'s'"
      ]
     },
     "execution_count": 4,
     "metadata": {},
     "output_type": "execute_result"
    }
   ],
   "source": [
    "tup[0]"
   ]
  },
  {
   "attachments": {},
   "cell_type": "markdown",
   "metadata": {},
   "source": [
    "* Tuples can contain mutable objects, like lists, but the objects' positions can't be changed.\n",
    "* Concatenate tuples with +, repeat with *."
   ]
  },
  {
   "cell_type": "code",
   "execution_count": 7,
   "metadata": {},
   "outputs": [
    {
     "name": "stdout",
     "output_type": "stream",
     "text": [
      "(4, None, 'foo', 6, 0, 'bar')\n",
      "('foo', 'bar', 'foo', 'bar', 'foo', 'bar', 'foo', 'bar')\n"
     ]
    }
   ],
   "source": [
    "print((4, None, 'foo') + (6, 0) + ('bar',))\n",
    "print(('foo', 'bar') * 4)"
   ]
  },
  {
   "attachments": {},
   "cell_type": "markdown",
   "metadata": {},
   "source": [
    "* Tuples support unpacking: a, b, c = (4, 5, 6)."
   ]
  },
  {
   "cell_type": "code",
   "execution_count": 8,
   "metadata": {},
   "outputs": [
    {
     "name": "stdout",
     "output_type": "stream",
     "text": [
      "5\n"
     ]
    }
   ],
   "source": [
    "tup = (4, 5, 6)\n",
    "a, b, c = tup\n",
    "print(b)"
   ]
  },
  {
   "attachments": {},
   "cell_type": "markdown",
   "metadata": {},
   "source": [
    "* Nested tuples can be unpacked: a, b, (c, d) = 4, 5, (6, 7).\n",
    "* Swapping variables can be done via unpacking: b, a = a, b."
   ]
  },
  {
   "cell_type": "code",
   "execution_count": 10,
   "metadata": {},
   "outputs": [
    {
     "name": "stdout",
     "output_type": "stream",
     "text": [
      "1\n",
      "2\n",
      "2\n",
      "1\n"
     ]
    }
   ],
   "source": [
    "a, b = 1, 2\n",
    "print(a)\n",
    "print(b)\n",
    "\n",
    "b, a = a, b\n",
    "print(a)\n",
    "print(b)"
   ]
  },
  {
   "attachments": {},
   "cell_type": "markdown",
   "metadata": {},
   "source": [
    "* Unpacking can be used in loop iterations over tuple sequences."
   ]
  },
  {
   "cell_type": "code",
   "execution_count": 12,
   "metadata": {},
   "outputs": [
    {
     "name": "stdout",
     "output_type": "stream",
     "text": [
      "a=1, b=2, c=3\n",
      "a=4, b=5, c=6\n",
      "a=7, b=8, c=9\n"
     ]
    }
   ],
   "source": [
    "seq = [(1,2,3), (4,5,6), (7,8,9)]\n",
    "\n",
    "for a, b, c in seq:\n",
    "    print(f'a={a}, b={b}, c={c}')"
   ]
  },
  {
   "attachments": {},
   "cell_type": "markdown",
   "metadata": {},
   "source": [
    "* Python has a *rest syntax for capturing the rest of a tuple into a list.\n",
    "* Discard unwanted variables in unpacking by assigning to _."
   ]
  },
  {
   "cell_type": "code",
   "execution_count": 14,
   "metadata": {},
   "outputs": [
    {
     "name": "stdout",
     "output_type": "stream",
     "text": [
      "[3, 4, 5]\n",
      "[3, 4, 5]\n"
     ]
    }
   ],
   "source": [
    "values = 1, 2, 3, 4, 5\n",
    "a, b, *rest = values\n",
    "print(rest)\n",
    "\n",
    "a, b, *_ = values\n",
    "print(_)"
   ]
  },
  {
   "attachments": {},
   "cell_type": "markdown",
   "metadata": {},
   "source": [
    "* Tuples have a count() method for counting value occurrences."
   ]
  },
  {
   "cell_type": "code",
   "execution_count": 15,
   "metadata": {},
   "outputs": [
    {
     "name": "stdout",
     "output_type": "stream",
     "text": [
      "4\n"
     ]
    }
   ],
   "source": [
    "a = (1, 2, 2, 2, 3, 4, 2)\n",
    "print(a.count(2))"
   ]
  },
  {
   "attachments": {},
   "cell_type": "markdown",
   "metadata": {},
   "source": [
    "#### Lists"
   ]
  },
  {
   "attachments": {},
   "cell_type": "markdown",
   "metadata": {},
   "source": [
    "* Lists in Python are mutable, variable-length sequences defined using square brackets [] or list().\n",
    "* You can convert a tuple to a list: b_list = list((\"foo\", \"bar\", \"baz\")).\n",
    "* Modify a list element by its index: b_list[1] = \"peekaboo\"."
   ]
  },
  {
   "cell_type": "code",
   "execution_count": 1,
   "metadata": {},
   "outputs": [
    {
     "name": "stdout",
     "output_type": "stream",
     "text": [
      "['foo', 'bar', 'baz']\n",
      "['foo', 'peekaboo', 'baz']\n"
     ]
    }
   ],
   "source": [
    "a_list = [2, 3, 7, None]\n",
    "\n",
    "tup = ('foo', 'bar', 'baz')\n",
    "b_list = list(tup)\n",
    "print(b_list)\n",
    "\n",
    "b_list[1] = 'peekaboo'\n",
    "print(b_list)"
   ]
  },
  {
   "attachments": {},
   "cell_type": "markdown",
   "metadata": {},
   "source": [
    "* Generate a list from an iterator or a generator: list(range(10)).\n",
    "* Use append() to add elements to the end of the list.\n",
    "* Insert elements at specific positions with insert(), but it's computationally expensive.\n",
    "* Use pop() to remove and return an element at a specific index.\n",
    "* Remove elements by value with remove(), which finds the first occurrence and removes it.\n",
    "* Use the in keyword to check if a list contains a value: \"dwarf\" in b_list."
   ]
  },
  {
   "cell_type": "code",
   "execution_count": 4,
   "metadata": {},
   "outputs": [
    {
     "name": "stdout",
     "output_type": "stream",
     "text": [
      "range(0, 10)\n",
      "This is a list generated from the range: [0, 1, 2, 3, 4, 5, 6, 7, 8, 9]\n",
      "This is a list after removing one element: ['red', 'red', 'dwarf', 'dwarf', 'foo', 'dwarf']\n",
      "This is a list after inserting one element: ['red', 'red', 'red', 'dwarf', 'dwarf', 'foo', 'dwarf']\n",
      "This is a list after removing one element at a particular index: ['red', 'red', 'dwarf', 'dwarf', 'foo', 'dwarf']\n",
      "This is a list after appending one element: ['red', 'red', 'dwarf', 'dwarf', 'foo', 'dwarf', 'foo']\n",
      "This is a list after removing one element: ['red', 'red', 'dwarf', 'dwarf', 'dwarf', 'foo']\n",
      "True\n"
     ]
    }
   ],
   "source": [
    "# Range\n",
    "gen = range(10)\n",
    "print(gen)\n",
    "print(f'This is a list generated from the range: {list(gen)}')\n",
    "\n",
    "# Adding and removing elements\n",
    "b_list.append('dwarf')\n",
    "print(f'This is a list after removing one element: {b_list}')\n",
    "\n",
    "b_list.insert(1, 'red')\n",
    "print(f'This is a list after inserting one element: {b_list}')\n",
    "\n",
    "b_list.pop(2)\n",
    "print(f'This is a list after removing one element at a particular index: {b_list}')\n",
    "\n",
    "b_list.append('foo')\n",
    "print(f'This is a list after appending one element: {b_list}')\n",
    "\n",
    "b_list.remove('foo')\n",
    "print(f'This is a list after removing one element: {b_list}')\n",
    "\n",
    "print(\"dwarf\" in b_list)\n"
   ]
  },
  {
   "attachments": {},
   "cell_type": "markdown",
   "metadata": {},
   "source": [
    "* Concatenate lists with + or add multiple elements with extend().\n",
    "* Sort a list with sort(), you can pass a secondary sort key as a function with key= parameter."
   ]
  },
  {
   "cell_type": "code",
   "execution_count": 5,
   "metadata": {},
   "outputs": [
    {
     "name": "stdout",
     "output_type": "stream",
     "text": [
      "[4, None, 'foo', 7, 8, (2, 3)]\n",
      "[4, None, 'foo', 7, 8, (2, 3)]\n",
      "[1, 2, 3, 5, 7]\n",
      "['He', 'saw', 'six', 'small', 'foxes']\n"
     ]
    }
   ],
   "source": [
    "# Concatenating and combining lists\n",
    "print([4, None, 'foo'] + [7, 8, (2, 3)])\n",
    "\n",
    "x = [4, None, 'foo']\n",
    "x.extend([7, 8, (2, 3)])\n",
    "print(x)\n",
    "\n",
    "# Sorting\n",
    "a = [7, 2, 5, 1, 3]\n",
    "a.sort()\n",
    "print(a)\n",
    "\n",
    "# Sorting by length\n",
    "b = ['saw', 'small', 'He', 'foxes', 'six']\n",
    "b.sort(key=len)\n",
    "print(b)"
   ]
  },
  {
   "attachments": {},
   "cell_type": "markdown",
   "metadata": {},
   "source": [
    "* Slice lists using start:stop notation in square brackets, you can also assign to slices.\n",
    "* Use a step after a second colon to get every other element: seq[::2], -1 to reverse a list or tuple.\n",
    "* Remember, list operations like checking for value, insertion, and removal can be slower than in sets or dictionaries. Use collections.deque for efficient insertions and deletions at both ends."
   ]
  },
  {
   "cell_type": "code",
   "execution_count": 6,
   "metadata": {},
   "outputs": [
    {
     "name": "stdout",
     "output_type": "stream",
     "text": [
      "[2, 3, 7, 5]\n",
      "[7, 2, 3, 6, 3, 5, 6, 0, 1]\n",
      "[5, 6, 0, 1]\n",
      "[6, 3, 5, 6]\n",
      "[7, 3, 3, 6, 1]\n",
      "[1, 0, 6, 5, 3, 6, 3, 2, 7]\n"
     ]
    }
   ],
   "source": [
    "# Slicing\n",
    "seq = [7, 2, 3, 7, 5, 6, 0, 1]\n",
    "print(seq[1:5])\n",
    "\n",
    "seq[3:4] = [6, 3]\n",
    "print(seq)\n",
    "\n",
    "# Negative indices\n",
    "print(seq[-4:])\n",
    "print(seq[-6:-2])\n",
    "\n",
    "# Step\n",
    "print(seq[::2])\n",
    "print(seq[::-1])"
   ]
  },
  {
   "attachments": {},
   "cell_type": "markdown",
   "metadata": {},
   "source": [
    "#### Dictionaries\n",
    "\n",
    "<b>1. Creation and Access</b>\n",
    "\n",
    "Dictionaries in Python are created using curly braces {} with keys and values separated by colons :. They can also be created by the dict() constructor."
   ]
  },
  {
   "cell_type": "code",
   "execution_count": 19,
   "metadata": {},
   "outputs": [
    {
     "name": "stdout",
     "output_type": "stream",
     "text": [
      "{'a': 'some value', 'b': [1, 2, 3, 4]}\n",
      "{'a': 'some value', 'b': [1, 2, 3, 4]}\n"
     ]
    }
   ],
   "source": [
    "empty_dict = {}\n",
    "\n",
    "d1 = {'a': 'some value', 'b': [1, 2, 3, 4]}\n",
    "print(d1)\n",
    "d2 = dict(a = 'some value', b = [1, 2, 3, 4])\n",
    "print(d2)"
   ]
  },
  {
   "attachments": {},
   "cell_type": "markdown",
   "metadata": {},
   "source": [
    "Elements in a dictionary can be accessed, inserted, or modified using the square bracket notation."
   ]
  },
  {
   "cell_type": "code",
   "execution_count": 20,
   "metadata": {},
   "outputs": [
    {
     "name": "stdout",
     "output_type": "stream",
     "text": [
      "some value\n",
      "new value\n"
     ]
    }
   ],
   "source": [
    "print(d1['a'])\n",
    "\n",
    "d1[\"c\"] = \"new value\"\n",
    "print(d1[\"c\"])"
   ]
  },
  {
   "attachments": {},
   "cell_type": "markdown",
   "metadata": {},
   "source": [
    "<b>2. Checking for Keys and Deleting Entries</b>\n",
    "\n",
    "To check if a dictionary contains a key, you can use the in keyword."
   ]
  },
  {
   "cell_type": "code",
   "execution_count": 10,
   "metadata": {},
   "outputs": [
    {
     "name": "stdout",
     "output_type": "stream",
     "text": [
      "True\n"
     ]
    }
   ],
   "source": [
    "print(\"a\" in d1)"
   ]
  },
  {
   "attachments": {},
   "cell_type": "markdown",
   "metadata": {},
   "source": [
    "You can delete dictionary entries using the `del` keyword or the `pop()` method. The `pop()` method returns the value of the key being removed."
   ]
  },
  {
   "cell_type": "code",
   "execution_count": 11,
   "metadata": {},
   "outputs": [
    {
     "name": "stdout",
     "output_type": "stream",
     "text": [
      "some value\n"
     ]
    }
   ],
   "source": [
    "del d1[\"c\"]\n",
    "removed_value = d1.pop(\"a\")\n",
    "print(removed_value)"
   ]
  },
  {
   "attachments": {},
   "cell_type": "markdown",
   "metadata": {},
   "source": [
    "<b>3. Iterating over Dictionaries</b>\n",
    "\n",
    "The `keys()`, `values()` and `items()` methods provide iterators over dictionary's keys, values and key-value pairs repectively."
   ]
  },
  {
   "cell_type": "code",
   "execution_count": 12,
   "metadata": {},
   "outputs": [
    {
     "name": "stdout",
     "output_type": "stream",
     "text": [
      "['b']\n",
      "[[1, 2, 3, 4]]\n",
      "dict_items([('b', [1, 2, 3, 4])])\n"
     ]
    }
   ],
   "source": [
    "print(list(d1.keys()))\n",
    "print(list(d1.values()))\n",
    "print(d1.items())"
   ]
  },
  {
   "attachments": {},
   "cell_type": "markdown",
   "metadata": {},
   "source": [
    "<b>4. Merging Dictionaries</b>\n",
    "\n",
    "The `update()` method merge dictionaries. If keys overlap, the values from the provided dictionary are used."
   ]
  },
  {
   "cell_type": "code",
   "execution_count": 13,
   "metadata": {},
   "outputs": [
    {
     "name": "stdout",
     "output_type": "stream",
     "text": [
      "{'b': 'foo', 'c': 12}\n"
     ]
    }
   ],
   "source": [
    "d1.update({'b': 'foo', 'c': 12})\n",
    "print(d1)"
   ]
  },
  {
   "attachments": {},
   "cell_type": "markdown",
   "metadata": {},
   "source": [
    "<b>5. Default values</b>\n",
    "\n",
    "The `get()` and `pop()` methods can return a default value if the key is not presented."
   ]
  },
  {
   "cell_type": "code",
   "execution_count": 14,
   "metadata": {},
   "outputs": [
    {
     "name": "stdout",
     "output_type": "stream",
     "text": [
      "default_value\n"
     ]
    }
   ],
   "source": [
    "print(d1.get(\"non_existent_key\", \"default_value\"))"
   ]
  },
  {
   "attachments": {},
   "cell_type": "markdown",
   "metadata": {},
   "source": [
    "The `setdefault()` method and `defaultdict` class from the `collections` modeule help simplify assigning default values."
   ]
  },
  {
   "cell_type": "code",
   "execution_count": 15,
   "metadata": {},
   "outputs": [
    {
     "name": "stdout",
     "output_type": "stream",
     "text": [
      "{'a': ['apple', 'atom'], 'b': ['bat', 'bar', 'book']}\n"
     ]
    }
   ],
   "source": [
    "from collections import defaultdict\n",
    "\n",
    "d = defaultdict(list)\n",
    "words = [\"apple\", \"bat\", \"bar\", \"atom\", \"book\"]\n",
    "for word in words:\n",
    "    d[word[0]].append(word)\n",
    "\n",
    "print(dict(d))"
   ]
  },
  {
   "attachments": {},
   "cell_type": "markdown",
   "metadata": {},
   "source": [
    "<b>6. Hashability and Key types</b>\n",
    "\n",
    "Dictionary keys must be immutable (hashable) Python objects. Strings, integers, floats, tuples, and frozensets can serve as dictionary keys, but lists and sets cannot. You can use the `hash()`function to check if an object is hashable."
   ]
  },
  {
   "cell_type": "code",
   "execution_count": 16,
   "metadata": {},
   "outputs": [
    {
     "name": "stdout",
     "output_type": "stream",
     "text": [
      "-894698539344563496\n"
     ]
    }
   ],
   "source": [
    "print(hash(\"string\"))"
   ]
  },
  {
   "attachments": {},
   "cell_type": "markdown",
   "metadata": {},
   "source": [
    "To use a list as a key, it must first be converted into a tuple."
   ]
  },
  {
   "cell_type": "code",
   "execution_count": 17,
   "metadata": {},
   "outputs": [
    {
     "name": "stdout",
     "output_type": "stream",
     "text": [
      "{(1, 2, 3): 5}\n"
     ]
    }
   ],
   "source": [
    "d = {}\n",
    "d[tuple([1, 2, 3])] = 5\n",
    "print(d)"
   ]
  },
  {
   "attachments": {},
   "cell_type": "markdown",
   "metadata": {},
   "source": [
    "#### Set\n",
    "1. Creation and Access\n",
    "\n",
    "Sets in Python are an unordered collection of unique elements. Sets can be created either through the `set()` function or using curly braces {}."
   ]
  },
  {
   "cell_type": "code",
   "execution_count": 1,
   "metadata": {},
   "outputs": [
    {
     "name": "stdout",
     "output_type": "stream",
     "text": [
      "{1, 2, 3}\n",
      "{1, 2, 3}\n"
     ]
    }
   ],
   "source": [
    "s1 = set([2, 2, 2, 1, 3, 3])\n",
    "s2 = {2, 2, 2, 1, 3, 3} # another way to create the same set\n",
    "print(s1)\n",
    "print(s2)"
   ]
  },
  {
   "attachments": {},
   "cell_type": "markdown",
   "metadata": {},
   "source": [
    "2. Set Operations\n",
    "\n",
    "Sets in Python support mathematical set operations such as union (|), intersection (&), difference (-), and symmetric difference (^)."
   ]
  },
  {
   "cell_type": "code",
   "execution_count": 15,
   "metadata": {},
   "outputs": [
    {
     "name": "stdout",
     "output_type": "stream",
     "text": [
      "The union of these two sets is the set\n",
      "of distinct elements occurring in either set.\n",
      "{1, 2, 3, 4, 5, 6, 7, 8}\n",
      "{1, 2, 3, 4, 5, 6, 7, 8}\n",
      "\n",
      "The intersection of these two sets is\n",
      "the set containing elements occurring in both sets.\n",
      "{3, 4, 5}\n",
      "{3, 4, 5}\n",
      "\n",
      "The difference of these two sets is the\n",
      "set containing elements occurring in the first set but not the second.\n",
      "{1, 2}\n",
      "{1, 2}\n",
      "\n",
      "The symmetric difference of these two sets\n",
      "is the set containing elements occurring in either set but not both.\n",
      "{1, 2, 6, 7, 8}\n",
      "{1, 2, 6, 7, 8}\n"
     ]
    }
   ],
   "source": [
    "a = {1, 2, 3, 4, 5}\n",
    "b = {3, 4, 5, 6, 7, 8}\n",
    "\n",
    "# Union\n",
    "print(\"The union of these two sets is the set\\nof distinct elements occurring in either set.\")\n",
    "print(a.union(b))\n",
    "print(a | b)\n",
    "print(\"\")\n",
    "# Intersection\n",
    "print(\"The intersection of these two sets is\\nthe set containing elements occurring in both sets.\")\n",
    "print(a.intersection(b))\n",
    "print(a & b)\n",
    "print(\"\")\n",
    "# Difference\n",
    "print(\"The difference of these two sets is the\\nset containing elements occurring in the first set but not the second.\")\n",
    "print(a.difference(b))\n",
    "print(a - b)\n",
    "print(\"\")\n",
    "# Symmetric difference\n",
    "print(\"The symmetric difference of these two sets\\nis the set containing elements occurring in either set but not both.\")\n",
    "print(a.symmetric_difference(b))\n",
    "print(a ^ b)"
   ]
  },
  {
   "attachments": {},
   "cell_type": "markdown",
   "metadata": {},
   "source": [
    "3. In-Palce Operations\n",
    "\n",
    "All the logical set operations have in-place counterparts which allow you to replace the contents of the set on the left side of the operation with the result. This can be more efficient for large sets."
   ]
  },
  {
   "cell_type": "code",
   "execution_count": 3,
   "metadata": {},
   "outputs": [
    {
     "name": "stdout",
     "output_type": "stream",
     "text": [
      "{1, 2, 3, 4, 5, 6, 7, 8}\n",
      "{3, 4, 5}\n"
     ]
    }
   ],
   "source": [
    "c = a.copy()\n",
    "c |= b\n",
    "print(c)\n",
    "\n",
    "d = a.copy()\n",
    "d &= b\n",
    "print(d)"
   ]
  },
  {
   "attachments": {},
   "cell_type": "markdown",
   "metadata": {},
   "source": [
    "4. Adding and Removing Elements\n",
    "\n",
    "You can add elements to a set using the add() method, and remove elements using the remove() method. If you need to remove an element that might not exist, you can use discard(), which won't raise an error."
   ]
  },
  {
   "cell_type": "code",
   "execution_count": 4,
   "metadata": {},
   "outputs": [
    {
     "name": "stdout",
     "output_type": "stream",
     "text": [
      "{1, 2, 3, 4, 5, 6}\n",
      "{1, 2, 3, 4, 5}\n"
     ]
    }
   ],
   "source": [
    "a.add(6)\n",
    "print(a)\n",
    "\n",
    "a.remove(6)\n",
    "print(a)"
   ]
  },
  {
   "attachments": {},
   "cell_type": "markdown",
   "metadata": {},
   "source": [
    "5. Hashability and Element Types\n",
    "\n",
    "Similar to dictionary keys, set elements must be hashable. Immutable objects like strings, integers, tuples, and frozensets can be elements of a set. Lists and dictionaries cannot be elements of a set due to their mutability."
   ]
  },
  {
   "cell_type": "code",
   "execution_count": 5,
   "metadata": {},
   "outputs": [
    {
     "name": "stdout",
     "output_type": "stream",
     "text": [
      "{(1, 2, 3, 4)}\n"
     ]
    }
   ],
   "source": [
    "my_data = [1, 2, 3, 4]\n",
    "my_set = {tuple(my_data)}\n",
    "print(my_set)"
   ]
  },
  {
   "attachments": {},
   "cell_type": "markdown",
   "metadata": {},
   "source": [
    "6. Set Comparisons\n",
    "\n",
    "You can compare sets using methods such as `issubset()`, `issuperset()`, and `isdisjoint()`. Two sets are considered equal if their contents are equal, regardless of order."
   ]
  },
  {
   "cell_type": "code",
   "execution_count": 7,
   "metadata": {},
   "outputs": [
    {
     "name": "stdout",
     "output_type": "stream",
     "text": [
      "True\n",
      "True\n",
      "True\n",
      "True\n"
     ]
    }
   ],
   "source": [
    "a_set = {1, 2, 3, 4, 5}\n",
    "print({1, 2, 3}.issubset(a_set))\n",
    "print(a_set.issuperset({1, 2, 3}))\n",
    "print({1, 2, 3} == {3, 2, 1})\n",
    "print(a_set.isdisjoint({6, 7, 8}))  "
   ]
  },
  {
   "attachments": {},
   "cell_type": "markdown",
   "metadata": {},
   "source": [
    "#### Built-In Sequence Functions\n",
    "\n",
    "1. `enumarate()`\n",
    "\n",
    "The `enumerate()` function is used for getting an indexed list, meaning you get the elements along with their index values."
   ]
  },
  {
   "cell_type": "code",
   "execution_count": 16,
   "metadata": {},
   "outputs": [
    {
     "name": "stdout",
     "output_type": "stream",
     "text": [
      "Index 0 has value a\n",
      "Index 1 has value b\n",
      "Index 2 has value c\n"
     ]
    }
   ],
   "source": [
    "collection = [\"a\", \"b\", \"c\"]\n",
    "for i, value in enumerate(collection):\n",
    "    print(f'Index {i} has value {value}')"
   ]
  },
  {
   "attachments": {},
   "cell_type": "markdown",
   "metadata": {},
   "source": [
    "2. `sorted()`\n",
    "\n",
    "The `sorted()` function returns a new sorted list from the elements of any sequence, leaving the original sequence unaltered. It can take a sequence of any type and return the sorted list."
   ]
  },
  {
   "cell_type": "code",
   "execution_count": 17,
   "metadata": {},
   "outputs": [
    {
     "name": "stdout",
     "output_type": "stream",
     "text": [
      "[0, 1, 2, 2, 3, 6, 7]\n",
      "[' ', 'a', 'c', 'e', 'e', 'h', 'o', 'r', 'r', 's']\n"
     ]
    }
   ],
   "source": [
    "print(sorted([7, 1, 2, 6, 0, 3, 2]))\n",
    "print(sorted(\"horse race\"))"
   ]
  },
  {
   "attachments": {},
   "cell_type": "markdown",
   "metadata": {},
   "source": [
    "3. `zip()`\n",
    "\n",
    "The `zip()` function takes a number of iterable items (lists, tuples, etc.) and returns a list of tuples, where the i-th tuple contains the i-th element from each of the argument sequences. The returned list is truncated in length to the length of the shortest input iterable.\n"
   ]
  },
  {
   "cell_type": "code",
   "execution_count": 18,
   "metadata": {},
   "outputs": [
    {
     "name": "stdout",
     "output_type": "stream",
     "text": [
      "[('foo', 'one'), ('bar', 'two'), ('baz', 'three')]\n",
      "[('foo', 'one', False), ('bar', 'two', True)]\n"
     ]
    }
   ],
   "source": [
    "seq1 = [\"foo\", \"bar\", \"baz\"]\n",
    "seq2 = [\"one\", \"two\", \"three\"]\n",
    "seq3 = [False, True]\n",
    "\n",
    "print(list(zip(seq1, seq2)))\n",
    "print(list(zip(seq1, seq2, seq3)))"
   ]
  },
  {
   "attachments": {},
   "cell_type": "markdown",
   "metadata": {},
   "source": [
    "4. `reversed()`\n",
    "\n",
    "The `reversed()` function returns a reverse iterator. It doesn’t modify the original sequence but creates a new one with elements in reverse order."
   ]
  },
  {
   "cell_type": "code",
   "execution_count": 20,
   "metadata": {},
   "outputs": [
    {
     "name": "stdout",
     "output_type": "stream",
     "text": [
      "[9, 8, 7, 6, 5, 4, 3, 2, 1, 0]\n"
     ]
    }
   ],
   "source": [
    "print(list(reversed(range(10))))"
   ]
  },
  {
   "attachments": {},
   "cell_type": "markdown",
   "metadata": {},
   "source": [
    "Note: Since reversed() returns an iterator, you need to use a function like list() to see the contents immediately."
   ]
  },
  {
   "attachments": {},
   "cell_type": "markdown",
   "metadata": {},
   "source": [
    "5. Combination of Functions\n",
    "\n",
    "These functions can often be used together for more complex operations. For example, `zip()` can be combined with `enumerate()` to iterate over multiple sequences at once while still keeping track of the index."
   ]
  },
  {
   "cell_type": "code",
   "execution_count": 21,
   "metadata": {},
   "outputs": [
    {
     "name": "stdout",
     "output_type": "stream",
     "text": [
      "0: foo, one\n",
      "1: bar, two\n",
      "2: baz, three\n"
     ]
    }
   ],
   "source": [
    "for i, (a, b) in enumerate(zip(seq1, seq2)):\n",
    "    print(f'{i}: {a}, {b}')"
   ]
  },
  {
   "attachments": {},
   "cell_type": "markdown",
   "metadata": {},
   "source": [
    "#### List, Set, and Dictionary Comprehensions\n",
    "\n",
    "1. List comprehensions:\n",
    "\n",
    "This is a way of creating lists in Python using a single line of code. They are used for creating new lists from other iterables (like lists, tuples, sets, etc.). The output list can be created by applying a condition and/or function on the input iterable.\n",
    "\n",
    "Here's an example where we're converting all the strings longer than 2 characters to upper case."
   ]
  },
  {
   "cell_type": "code",
   "execution_count": 22,
   "metadata": {},
   "outputs": [
    {
     "name": "stdout",
     "output_type": "stream",
     "text": [
      "['BAT', 'CAR', 'DOVE', 'PYTHON']\n"
     ]
    }
   ],
   "source": [
    "strings = [\"a\", \"as\", \"bat\", \"car\", \"dove\", \"python\"]\n",
    "result = [x.upper() for x in strings if len(x) > 2]\n",
    "print(result)"
   ]
  },
  {
   "attachments": {},
   "cell_type": "markdown",
   "metadata": {},
   "source": [
    "2. Set comprehensions:\n",
    "\n",
    "These are similar to list comprehensions, but they create a set instead of a list. Sets, by nature, contain unique elements.\n",
    "\n",
    "Here's an example where we're finding the unique lengths of the strings."
   ]
  },
  {
   "cell_type": "code",
   "execution_count": 23,
   "metadata": {},
   "outputs": [
    {
     "name": "stdout",
     "output_type": "stream",
     "text": [
      "{1, 2, 3, 4, 6}\n"
     ]
    }
   ],
   "source": [
    "unique_lengths = {len(x) for x in strings}\n",
    "print(unique_lengths)"
   ]
  },
  {
   "attachments": {},
   "cell_type": "markdown",
   "metadata": {},
   "source": [
    "3. Dictionary comprehensions:\n",
    "\n",
    "These are similar to list and set comprehensions, but they create a dictionary instead. Each key-value pair is generated in a loop.\n",
    "\n",
    "Here's an example where we're creating a lookup map of the strings for their locations in the list."
   ]
  },
  {
   "cell_type": "code",
   "execution_count": 24,
   "metadata": {},
   "outputs": [
    {
     "name": "stdout",
     "output_type": "stream",
     "text": [
      "{'a': 0, 'as': 1, 'bat': 2, 'car': 3, 'dove': 4, 'python': 5}\n"
     ]
    }
   ],
   "source": [
    "loc_mapping = {val: index for index, val in enumerate(strings)}\n",
    "print(loc_mapping)"
   ]
  },
  {
   "attachments": {},
   "cell_type": "markdown",
   "metadata": {},
   "source": [
    "4. Nested list comprehensions:\n",
    "\n",
    "A list comprehension can contain another list comprehension in it. This is useful when dealing with lists of lists.\n",
    "\n",
    "For instance, suppose we have a list of names and we want to get a single list containing all names with two or more 'a's in them. This can be done with a single nested list comprehension:"
   ]
  },
  {
   "cell_type": "code",
   "execution_count": 26,
   "metadata": {},
   "outputs": [
    {
     "name": "stdout",
     "output_type": "stream",
     "text": [
      "['Maria', 'Natalia']\n"
     ]
    }
   ],
   "source": [
    "all_data = [[\"John\", \"Emily\", \"Michael\", \"Mary\", \"Steven\"],\n",
    "            [\"Maria\", \"Juan\", \"Javier\", \"Natalia\", \"Pilar\"]]\n",
    "\n",
    "result = [name for names in all_data for name in names if name.count(\"a\") >= 2]\n",
    "print(result) "
   ]
  },
  {
   "attachments": {},
   "cell_type": "markdown",
   "metadata": {},
   "source": [
    "Or another example where we \"flatten\" a list of tuples into a list:"
   ]
  },
  {
   "cell_type": "code",
   "execution_count": 27,
   "metadata": {},
   "outputs": [
    {
     "name": "stdout",
     "output_type": "stream",
     "text": [
      "[1, 2, 3, 4, 5, 6, 7, 8, 9]\n"
     ]
    }
   ],
   "source": [
    "some_tuples = [(1, 2, 3), (4, 5, 6), (7, 8, 9)]\n",
    "flattened = [x for tup in some_tuples for x in tup]\n",
    "print(flattened) "
   ]
  },
  {
   "attachments": {},
   "cell_type": "markdown",
   "metadata": {},
   "source": [
    "5. List comprehension inside a list comprehension:\n",
    "\n",
    "In this case, instead of flattening the data, we maintain the same level of nesting as the original data.\n",
    "\n",
    "Here's an example:"
   ]
  },
  {
   "cell_type": "code",
   "execution_count": 28,
   "metadata": {},
   "outputs": [
    {
     "name": "stdout",
     "output_type": "stream",
     "text": [
      "[[1, 2, 3], [4, 5, 6], [7, 8, 9]]\n"
     ]
    }
   ],
   "source": [
    "nested_list = [[x for x in tup] for tup in some_tuples]\n",
    "print(nested_list)"
   ]
  },
  {
   "attachments": {},
   "cell_type": "markdown",
   "metadata": {},
   "source": [
    "#### Functions\n",
    "\n",
    "A function in Python is defined using the `def` keyword, followed by the function's name and parentheses ( ).\n",
    "\n",
    "Here's a simple Python function that takes two arguments and returns their sum:"
   ]
  },
  {
   "cell_type": "code",
   "execution_count": 29,
   "metadata": {},
   "outputs": [
    {
     "name": "stdout",
     "output_type": "stream",
     "text": [
      "3\n"
     ]
    }
   ],
   "source": [
    "def my_function(x, y):\n",
    "    return x + y\n",
    "\n",
    "result = my_function(1, 2)\n",
    "print(result)"
   ]
  },
  {
   "attachments": {},
   "cell_type": "markdown",
   "metadata": {},
   "source": [
    "If a function doesn't explicitly return a value using the return statement, it will return None by default:"
   ]
  },
  {
   "cell_type": "code",
   "execution_count": 31,
   "metadata": {},
   "outputs": [
    {
     "name": "stdout",
     "output_type": "stream",
     "text": [
      "hello!\n",
      "None\n"
     ]
    }
   ],
   "source": [
    "def function_without_return(x):\n",
    "    print(x)\n",
    "\n",
    "result = function_without_return(\"hello!\")\n",
    "print(result)"
   ]
  },
  {
   "attachments": {},
   "cell_type": "markdown",
   "metadata": {},
   "source": [
    "A function can take positional arguments and keyword arguments. Positional arguments are mandatory and must be provided in the same order as they are defined. Keyword arguments are optional and can be provided in any order. If a keyword argument is not provided, its default value (specified in the function definition) is used:"
   ]
  },
  {
   "cell_type": "code",
   "execution_count": 32,
   "metadata": {},
   "outputs": [
    {
     "name": "stdout",
     "output_type": "stream",
     "text": [
      "0.06363636363636363\n",
      "35.49\n",
      "45.0\n"
     ]
    }
   ],
   "source": [
    "def my_function2(x, y, z=1.5):\n",
    "    if z > 1:\n",
    "        return z * (x + y)\n",
    "    else:\n",
    "        return z / (x + y)\n",
    "\n",
    "print(my_function2(5, 6, z=0.7)) \n",
    "print(my_function2(3.14, 7, 3.5))\n",
    "print(my_function2(10, 20))"
   ]
  },
  {
   "attachments": {},
   "cell_type": "markdown",
   "metadata": {},
   "source": [
    "1. Namespaces and Scope\n",
    "\n",
    "A <b>namespace</b> is essentially a container where names are mapped to objects. These names can be variables, functions, and other objects. Namespaces are essential in Python to avoid naming conflicts.\n",
    "\n",
    "There are various namespaces like:\n",
    "\n",
    "* Local namespace: Specific to a function or a method. Created when a function is called and cleared once the function exits.\n",
    "\n",
    "* Global namespace: Specific to a module. Created when a module is imported.\n",
    "\n",
    "* Built-in namespace: Exists as long as the Python interpreter is running. It contains the built-in functions and exceptions.\n",
    "\n",
    "The <b>scope</b>. of a variable determines its visibility throughout the code. The sequence in which namespaces are checked is: local → enclosing → global → built-in. This sequence is termed as the LEGB rule."
   ]
  },
  {
   "cell_type": "code",
   "execution_count": 37,
   "metadata": {},
   "outputs": [],
   "source": [
    "def func():\n",
    "    a = []\n",
    "    for i in range(5):\n",
    "        a.append(i)\n",
    "\n",
    "a = []\n",
    "def func():\n",
    "    for i in range(5):\n",
    "        a.append(i)"
   ]
  },
  {
   "attachments": {},
   "cell_type": "markdown",
   "metadata": {},
   "source": [
    "<b>Global and nonlocal Keywords</b>\n",
    "\n",
    "`global` and `nonlocal` keywords modify variables in higher-level scopes. global affects global variables, while nonlocal impacts non-global variables."
   ]
  },
  {
   "cell_type": "code",
   "execution_count": 39,
   "metadata": {},
   "outputs": [
    {
     "name": "stdout",
     "output_type": "stream",
     "text": [
      "[]\n"
     ]
    }
   ],
   "source": [
    "a = None\n",
    "def bind_a_variable():\n",
    "    global a\n",
    "    a = []\n",
    "\n",
    "bind_a_variable()\n",
    "print(a)"
   ]
  },
  {
   "attachments": {},
   "cell_type": "markdown",
   "metadata": {},
   "source": [
    "2. Returning Multiple Values\n",
    "\n",
    "Python easily returns multiple values as tuples. Unpack them into variables for cleaner code."
   ]
  },
  {
   "cell_type": "code",
   "execution_count": 40,
   "metadata": {},
   "outputs": [],
   "source": [
    "def f():\n",
    "    a = 5\n",
    "    b = 6\n",
    "    c = 7\n",
    "    return a, b, c\n",
    "\n",
    "a, b, c = f()"
   ]
  },
  {
   "attachments": {},
   "cell_type": "markdown",
   "metadata": {},
   "source": [
    "3. Functions are objects\n",
    "\n",
    "Python treats functions as objects, allowing for powerful constructs not as easily achieved in other languages. Consider a scenario involving messy user-submitted survey data represented as a list of strings:"
   ]
  },
  {
   "cell_type": "code",
   "execution_count": 41,
   "metadata": {},
   "outputs": [],
   "source": [
    "states = [\"   Alabama \", \"Georgia!\", \"Georgia\", \"georgia\", \"FlOrIda\",\n",
    "          \"south   carolina##\", \"West virginia?\"]"
   ]
  },
  {
   "attachments": {},
   "cell_type": "markdown",
   "metadata": {},
   "source": [
    "<b>Cleaning Strings Using Functions</b>\n",
    "\n",
    "Cleaning this data involves tasks like:\n",
    "* Removing leading and trailing whitespace.\n",
    "* Eliminating punctuation symbols.\n",
    "* Standardizing capitalization.\n",
    "\n",
    "A common approach utilizes built-in string methods and the re module for regular expressions:"
   ]
  },
  {
   "cell_type": "code",
   "execution_count": 43,
   "metadata": {},
   "outputs": [
    {
     "name": "stdout",
     "output_type": "stream",
     "text": [
      "['Alabama', 'Georgia', 'Georgia', 'Georgia', 'Florida', 'South   Carolina', 'West Virginia']\n"
     ]
    }
   ],
   "source": [
    "import re\n",
    "\n",
    "def clean_strings(strings):\n",
    "    result = []\n",
    "    for value in strings:\n",
    "        value = value.strip()\n",
    "        value = re.sub(\"[!#?]\", \"\", value)\n",
    "        value = value.title()\n",
    "        result.append(value)\n",
    "    return result\n",
    "\n",
    "print(clean_strings(states))"
   ]
  },
  {
   "attachments": {},
   "cell_type": "markdown",
   "metadata": {},
   "source": [
    "<b>Cleaning Using a List of Operations</b>\n",
    "\n",
    "An alternative strategy revolves around creating a list of transformation operations:"
   ]
  },
  {
   "cell_type": "code",
   "execution_count": 44,
   "metadata": {},
   "outputs": [
    {
     "name": "stdout",
     "output_type": "stream",
     "text": [
      "['Alabama', 'Georgia', 'Georgia', 'Georgia', 'Florida', 'South   Carolina', 'West Virginia']\n"
     ]
    }
   ],
   "source": [
    "def remove_punctuation(value):\n",
    "    return re.sub(\"[!#?]\", \"\", value)\n",
    "\n",
    "clean_ops = [str.strip, remove_punctuation, str.title]\n",
    "\n",
    "def clean_strings2(strings, ops):\n",
    "    result = []\n",
    "    for value in strings:\n",
    "        for function in ops:\n",
    "            value = function(value)\n",
    "        result.append(value)\n",
    "    return result\n",
    "\n",
    "print(clean_strings2(states, clean_ops))"
   ]
  },
  {
   "attachments": {},
   "cell_type": "markdown",
   "metadata": {},
   "source": [
    "This approach separates the transformations from the core function, enhancing reusability and generality."
   ]
  },
  {
   "attachments": {},
   "cell_type": "markdown",
   "metadata": {},
   "source": [
    "<b>Applying Functions as Arguments</b>\n",
    "\n",
    "Functions can be passed as arguments to other functions, exemplified by the `map` function. `map` applies a specified function to each element of a sequence:"
   ]
  },
  {
   "cell_type": "code",
   "execution_count": 45,
   "metadata": {},
   "outputs": [
    {
     "name": "stdout",
     "output_type": "stream",
     "text": [
      "   Alabama \n",
      "Georgia\n",
      "Georgia\n",
      "georgia\n",
      "FlOrIda\n",
      "south   carolina\n",
      "West virginia\n"
     ]
    }
   ],
   "source": [
    "for x in map(remove_punctuation, states):\n",
    "    print(x)"
   ]
  },
  {
   "attachments": {},
   "cell_type": "markdown",
   "metadata": {},
   "source": [
    "`map` is a versatile tool, serving as an alternative to list comprehensions when no filtering is necessary."
   ]
  },
  {
   "attachments": {},
   "cell_type": "markdown",
   "metadata": {},
   "source": [
    "3. Anonymous (Lambda) Functions\n",
    "\n",
    "Lambda functions are concise anonymous functions. They're practical for data transformations and arguments in other functions."
   ]
  },
  {
   "cell_type": "code",
   "execution_count": 47,
   "metadata": {},
   "outputs": [
    {
     "name": "stdout",
     "output_type": "stream",
     "text": [
      "4\n"
     ]
    }
   ],
   "source": [
    "def short_function(x):\n",
    "    return x * 2\n",
    "\n",
    "equiv_anon = lambda x: x * 2\n",
    "\n",
    "print(short_function(2))"
   ]
  },
  {
   "cell_type": "code",
   "execution_count": 48,
   "metadata": {},
   "outputs": [
    {
     "name": "stdout",
     "output_type": "stream",
     "text": [
      "[8, 0, 2, 10, 12]\n"
     ]
    }
   ],
   "source": [
    "def apply_to_list(some_list, f):\n",
    "    return [f(x) for x in some_list]\n",
    "\n",
    "ints = [4, 0, 1, 5, 6]\n",
    "\n",
    "print(apply_to_list(ints, lambda x: x * 2))"
   ]
  },
  {
   "attachments": {},
   "cell_type": "markdown",
   "metadata": {},
   "source": [
    "4. Generators\n",
    "\n",
    "Many Python objects support iteration, achieved through the iterator protocol.The iterator protocol allows objects to be iterable. For instance, iterating over a dictionary yields its keys:\n"
   ]
  },
  {
   "cell_type": "code",
   "execution_count": 52,
   "metadata": {},
   "outputs": [
    {
     "name": "stdout",
     "output_type": "stream",
     "text": [
      "a\n",
      "b\n",
      "c\n"
     ]
    }
   ],
   "source": [
    "some_dict = {\"a\": 1, \"b\": 2, \"c\": 3}\n",
    "\n",
    "for key in some_dict:\n",
    "    print(key)"
   ]
  },
  {
   "attachments": {},
   "cell_type": "markdown",
   "metadata": {},
   "source": [
    "The Python interpreter creates an iterator from `some_dict` when you use a `for` loop:"
   ]
  },
  {
   "cell_type": "code",
   "execution_count": 51,
   "metadata": {},
   "outputs": [
    {
     "data": {
      "text/plain": [
       "<dict_keyiterator at 0x111856ef0>"
      ]
     },
     "execution_count": 51,
     "metadata": {},
     "output_type": "execute_result"
    }
   ],
   "source": [
    "dict_iterator = iter(some_dict)\n",
    "dict_iterator"
   ]
  },
  {
   "attachments": {},
   "cell_type": "markdown",
   "metadata": {},
   "source": [
    "An iterator returns objects to the interpreter when used in a loop context. Methods like min, max, sum, list, and tuple can accept any iterable object, not just lists.\n",
    "\n",
    "Generators provide a way to construct iterable objects similar to regular functions. Generators return a sequence of values by pausing and resuming execution. Use the yield keyword in a function to create a generator:"
   ]
  },
  {
   "cell_type": "code",
   "execution_count": 55,
   "metadata": {},
   "outputs": [
    {
     "name": "stdout",
     "output_type": "stream",
     "text": [
      "<generator object squares at 0x111803dd0>\n",
      "Generating squares from 1 to 100\n",
      "1 4 9 16 25 36 49 64 81 100 "
     ]
    }
   ],
   "source": [
    "def squares(n=10):\n",
    "    print(\"Generating squares from 1 to {0}\".format(n ** 2))\n",
    "    for i in range(1, n + 1):\n",
    "        yield i ** 2\n",
    "\n",
    "gen = squares()\n",
    "print(gen)\n",
    "\n",
    "#Generators don't execute immediately upon creation; they execute when elements are requested.\n",
    "# Request elements using a for loop:\n",
    "\n",
    "for x in gen:\n",
    "    print(x, end=\" \")"
   ]
  },
  {
   "attachments": {},
   "cell_type": "markdown",
   "metadata": {},
   "source": [
    "<b>Generator Expressions</b>\n",
    "\n",
    "Generator expressions provide a way to create generators using syntax similar to list comprehensions. Enclose a comprehension in parentheses to create a generator expression:"
   ]
  },
  {
   "cell_type": "code",
   "execution_count": 57,
   "metadata": {},
   "outputs": [
    {
     "name": "stdout",
     "output_type": "stream",
     "text": [
      "<generator object <genexpr> at 0x10c116740>\n",
      "0 1 4 9 16 25 36 49 64 81 100 121 144 169 196 225 256 289 324 361 400 441 484 529 576 625 676 729 784 841 900 961 1024 1089 1156 1225 1296 1369 1444 1521 1600 1681 1764 1849 1936 2025 2116 2209 2304 2401 2500 2601 2704 2809 2916 3025 3136 3249 3364 3481 3600 3721 3844 3969 4096 4225 4356 4489 4624 4761 4900 5041 5184 5329 5476 5625 5776 5929 6084 6241 6400 6561 6724 6889 7056 7225 7396 7569 7744 7921 8100 8281 8464 8649 8836 9025 9216 9409 9604 9801 "
     ]
    }
   ],
   "source": [
    "gen = (x ** 2 for x in range(100))\n",
    "print(gen)\n",
    "\n",
    "for x in gen:\n",
    "    print(x, end=\" \")"
   ]
  },
  {
   "attachments": {},
   "cell_type": "markdown",
   "metadata": {},
   "source": [
    "Generator expressions can replace list comprehensions in some function arguments. They can lead to performance improvements in cases with many elements.\n",
    "\n",
    "<b>`itertools` Module</b>\n",
    "\n",
    "The `itertools` module in the standard library offers generators for common data algorithms. The groupby function groups consecutive elements by a specified key function:"
   ]
  },
  {
   "cell_type": "code",
   "execution_count": 58,
   "metadata": {},
   "outputs": [
    {
     "name": "stdout",
     "output_type": "stream",
     "text": [
      "A ['Alan', 'Adam']\n",
      "W ['Wes', 'Will']\n",
      "A ['Albert']\n",
      "S ['Steven']\n"
     ]
    }
   ],
   "source": [
    "import itertools\n",
    "\n",
    "def first_letter(x):\n",
    "    return x[0]\n",
    "\n",
    "names = [\"Alan\", \"Adam\", \"Wes\", \"Will\", \"Albert\", \"Steven\"]\n",
    "\n",
    "for letter, names in itertools.groupby(names, first_letter):\n",
    "    print(letter, list(names))"
   ]
  },
  {
   "attachments": {},
   "cell_type": "markdown",
   "metadata": {},
   "source": [
    "<b>Errors and Exception Handling</b>\n",
    "\n",
    "* Handling Python errors or exceptions gracefully is crucial for building robust programs.\n",
    "* In data analysis applications, certain functions only work with specific input types.\n",
    "* As an example, Python's float function can convert a string to a float, but it raises a `ValueError` on invalid input.\n",
    "\n",
    "<b>Handling Exceptions with try and except</b>\n",
    "\n",
    "* You can handle exceptions using the try and except blocks.\n",
    "* To create a version of float that fails gracefully, enclose it in a try/except block.\n",
    "* Code in the except block is executed when an exception occurs inside the try block.\n",
    "* The except part can be refined to catch specific exceptions (e.g., `ValueError`, `TypeError`).\n",
    "\n",
    "<b>Handling Specific Exceptions</b>\n",
    "\n",
    "* `float` can raise exceptions other than `ValueError`, like `TypeError`.\n",
    "* You can target specific exceptions to handle using except.\n",
    "* This allows you to suppress only specific types of exceptions, ignoring legitimate bugs.\n",
    "\n",
    "<b>Handling Multiple Exceptions</b>\n",
    "* You can handle multiple exception types by specifying a tuple of exception types in `except`.\n",
    "\n",
    "<b>Using finally and else</b>\n",
    "* The finally block executes code regardless of whether an exception was raised.\n",
    "* For instance, closing a file using finally ensures it's closed, even if an error occurs.\n",
    "* You can use the else block to execute code only if the try block succeeds.\n"
   ]
  },
  {
   "attachments": {},
   "cell_type": "markdown",
   "metadata": {},
   "source": [
    "#### Files and the Operating System\n",
    "\n",
    "To open a file for reading or writing, use the built-in `open` function with either a relative or absolute file path and an optional file encoding:"
   ]
  },
  {
   "cell_type": "code",
   "execution_count": 66,
   "metadata": {},
   "outputs": [],
   "source": [
    "path = \"../data/segismundo.txt\"\n",
    "f = open(path, encoding=\"utf-8\")"
   ]
  },
  {
   "attachments": {},
   "cell_type": "markdown",
   "metadata": {},
   "source": [
    "By default, the file is opened in read-only mode \"r\". You can iterate over the lines of the file as if it were a list:"
   ]
  },
  {
   "cell_type": "code",
   "execution_count": 67,
   "metadata": {},
   "outputs": [
    {
     "name": "stdout",
     "output_type": "stream",
     "text": [
      "Sueña el rico en su riqueza,\n",
      "\n",
      "que más cuidados le ofrece;\n",
      "\n",
      "\n",
      "\n",
      "sueña el pobre que padece\n",
      "\n",
      "su miseria y su pobreza;\n",
      "\n",
      "\n",
      "\n",
      "sueña el que a medrar empieza,\n",
      "\n",
      "sueña el que afana y pretende,\n",
      "\n",
      "sueña el que agravia y ofende,\n",
      "\n",
      "\n",
      "\n",
      "y en el mundo, en conclusión,\n",
      "\n",
      "todos sueñan lo que son,\n",
      "\n",
      "aunque ninguno lo entiende.\n",
      "\n",
      "\n",
      "\n"
     ]
    }
   ],
   "source": [
    "for line in f:\n",
    "    print(line)\n",
    "\n",
    "f.close()"
   ]
  },
  {
   "attachments": {},
   "cell_type": "markdown",
   "metadata": {},
   "source": [
    "To ensure proper file closure, use the with statement:"
   ]
  },
  {
   "cell_type": "code",
   "execution_count": 68,
   "metadata": {},
   "outputs": [],
   "source": [
    "with open(path, encoding=\"utf-8\") as f:\n",
    "    lines = [x.rstrip() for x in f]"
   ]
  },
  {
   "attachments": {},
   "cell_type": "markdown",
   "metadata": {},
   "source": [
    "Use the read method to read a certain number of characters from the file:"
   ]
  },
  {
   "cell_type": "code",
   "execution_count": 69,
   "metadata": {},
   "outputs": [
    {
     "name": "stdout",
     "output_type": "stream",
     "text": [
      "Sueña el r\n"
     ]
    }
   ],
   "source": [
    "f1 = open(path)\n",
    "data = f1.read(10)\n",
    "print(data)"
   ]
  },
  {
   "attachments": {},
   "cell_type": "markdown",
   "metadata": {},
   "source": [
    "The tell method gives you the current position:"
   ]
  },
  {
   "cell_type": "code",
   "execution_count": 70,
   "metadata": {},
   "outputs": [
    {
     "name": "stdout",
     "output_type": "stream",
     "text": [
      "11\n"
     ]
    }
   ],
   "source": [
    "position = f1.tell()\n",
    "print(position)"
   ]
  },
  {
   "attachments": {},
   "cell_type": "markdown",
   "metadata": {},
   "source": [
    "To write text to a file, use the file’s write or writelines methods:"
   ]
  },
  {
   "cell_type": "code",
   "execution_count": 71,
   "metadata": {},
   "outputs": [],
   "source": [
    "#with open(\"tmp.txt\", mode=\"w\") as handle:\n",
    "#    handle.writelines(x for x in open(path) if len(x) > 1)"
   ]
  },
  {
   "attachments": {},
   "cell_type": "markdown",
   "metadata": {},
   "source": [
    "Python file modes include \"r\" (read), \"w\" (write), \"x\" (exclusive write), and \"a\" (append). You can also add \"b\" for binary mode and \"t\" for text mode.\n",
    "\n",
    "In text mode, files are read as Unicode strings. In binary mode (\"rb\"), files are read as raw bytes:"
   ]
  },
  {
   "cell_type": "code",
   "execution_count": 72,
   "metadata": {},
   "outputs": [],
   "source": [
    "with open(path) as f:\n",
    "    chars = f.read(10)  # Read 10 characters\n",
    "\n",
    "with open(path, mode=\"rb\") as f:\n",
    "    data = f.read(10)  # Read 10 bytes"
   ]
  },
  {
   "attachments": {},
   "cell_type": "markdown",
   "metadata": {},
   "source": [
    "When decoding bytes to strings, ensure each encoded Unicode character is fully formed:"
   ]
  },
  {
   "cell_type": "code",
   "execution_count": 73,
   "metadata": {},
   "outputs": [],
   "source": [
    "decoded_chars = data.decode(\"utf-8\")  # Decode bytes to string"
   ]
  },
  {
   "attachments": {},
   "cell_type": "markdown",
   "metadata": {},
   "source": [
    "Don't forget to close files after you're done:"
   ]
  },
  {
   "cell_type": "code",
   "execution_count": 74,
   "metadata": {},
   "outputs": [],
   "source": [
    "f1.close()"
   ]
  }
 ],
 "metadata": {
  "kernelspec": {
   "display_name": "pydata-book",
   "language": "python",
   "name": "python3"
  },
  "language_info": {
   "codemirror_mode": {
    "name": "ipython",
    "version": 3
   },
   "file_extension": ".py",
   "mimetype": "text/x-python",
   "name": "python",
   "nbconvert_exporter": "python",
   "pygments_lexer": "ipython3",
   "version": "3.9.16"
  },
  "orig_nbformat": 4
 },
 "nbformat": 4,
 "nbformat_minor": 2
}
