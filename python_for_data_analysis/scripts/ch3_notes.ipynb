{
 "cells": [
  {
   "attachments": {},
   "cell_type": "markdown",
   "metadata": {},
   "source": [
    "### Notes on 3  Built-In Data Structures, Functions, and Files\n",
    "\n",
    "#### Data Structures and Sequences\n",
    "\n",
    "##### Tuple\n",
    "\n",
    "* A tuple in Python is a fixed-length, immutable sequence of Python objects that cannot be changed once assigned.\n",
    "* Tuples are created by comma-separated sequences of values, which can be enclosed in parentheses. Parentheses can be omitted in many contexts."
   ]
  },
  {
   "cell_type": "code",
   "execution_count": 1,
   "metadata": {},
   "outputs": [
    {
     "name": "stdout",
     "output_type": "stream",
     "text": [
      "(4, 5, 6)\n"
     ]
    }
   ],
   "source": [
    "tup = (4, 5, 6)\n",
    "print(tup)"
   ]
  },
  {
   "attachments": {},
   "cell_type": "markdown",
   "metadata": {},
   "source": [
    "* Tuples can be created from any sequence or iterator by invoking the tuple keyword."
   ]
  },
  {
   "cell_type": "code",
   "execution_count": 3,
   "metadata": {},
   "outputs": [
    {
     "name": "stdout",
     "output_type": "stream",
     "text": [
      "('s', 't', 'r', 'i', 'n', 'g')\n"
     ]
    }
   ],
   "source": [
    "tuple([4, 0, 2])\n",
    "tup = tuple('string')\n",
    "print(tup)"
   ]
  },
  {
   "attachments": {},
   "cell_type": "markdown",
   "metadata": {},
   "source": [
    "* Elements in a tuple are accessed using square brackets [], similar to most other sequence types."
   ]
  },
  {
   "cell_type": "code",
   "execution_count": 4,
   "metadata": {},
   "outputs": [
    {
     "data": {
      "text/plain": [
       "'s'"
      ]
     },
     "execution_count": 4,
     "metadata": {},
     "output_type": "execute_result"
    }
   ],
   "source": [
    "tup[0]"
   ]
  },
  {
   "attachments": {},
   "cell_type": "markdown",
   "metadata": {},
   "source": [
    "* Tuples can contain mutable objects, like lists, but the objects' positions can't be changed.\n",
    "* Concatenate tuples with +, repeat with *."
   ]
  },
  {
   "cell_type": "code",
   "execution_count": 7,
   "metadata": {},
   "outputs": [
    {
     "name": "stdout",
     "output_type": "stream",
     "text": [
      "(4, None, 'foo', 6, 0, 'bar')\n",
      "('foo', 'bar', 'foo', 'bar', 'foo', 'bar', 'foo', 'bar')\n"
     ]
    }
   ],
   "source": [
    "print((4, None, 'foo') + (6, 0) + ('bar',))\n",
    "print(('foo', 'bar') * 4)"
   ]
  },
  {
   "attachments": {},
   "cell_type": "markdown",
   "metadata": {},
   "source": [
    "* Tuples support unpacking: a, b, c = (4, 5, 6)."
   ]
  },
  {
   "cell_type": "code",
   "execution_count": 8,
   "metadata": {},
   "outputs": [
    {
     "name": "stdout",
     "output_type": "stream",
     "text": [
      "5\n"
     ]
    }
   ],
   "source": [
    "tup = (4, 5, 6)\n",
    "a, b, c = tup\n",
    "print(b)"
   ]
  },
  {
   "attachments": {},
   "cell_type": "markdown",
   "metadata": {},
   "source": [
    "* Nested tuples can be unpacked: a, b, (c, d) = 4, 5, (6, 7).\n",
    "* Swapping variables can be done via unpacking: b, a = a, b."
   ]
  },
  {
   "cell_type": "code",
   "execution_count": 10,
   "metadata": {},
   "outputs": [
    {
     "name": "stdout",
     "output_type": "stream",
     "text": [
      "1\n",
      "2\n",
      "2\n",
      "1\n"
     ]
    }
   ],
   "source": [
    "a, b = 1, 2\n",
    "print(a)\n",
    "print(b)\n",
    "\n",
    "b, a = a, b\n",
    "print(a)\n",
    "print(b)"
   ]
  },
  {
   "attachments": {},
   "cell_type": "markdown",
   "metadata": {},
   "source": [
    "* Unpacking can be used in loop iterations over tuple sequences."
   ]
  },
  {
   "cell_type": "code",
   "execution_count": 12,
   "metadata": {},
   "outputs": [
    {
     "name": "stdout",
     "output_type": "stream",
     "text": [
      "a=1, b=2, c=3\n",
      "a=4, b=5, c=6\n",
      "a=7, b=8, c=9\n"
     ]
    }
   ],
   "source": [
    "seq = [(1,2,3), (4,5,6), (7,8,9)]\n",
    "\n",
    "for a, b, c in seq:\n",
    "    print(f'a={a}, b={b}, c={c}')"
   ]
  },
  {
   "attachments": {},
   "cell_type": "markdown",
   "metadata": {},
   "source": [
    "* Python has a *rest syntax for capturing the rest of a tuple into a list.\n",
    "* Discard unwanted variables in unpacking by assigning to _."
   ]
  },
  {
   "cell_type": "code",
   "execution_count": 14,
   "metadata": {},
   "outputs": [
    {
     "name": "stdout",
     "output_type": "stream",
     "text": [
      "[3, 4, 5]\n",
      "[3, 4, 5]\n"
     ]
    }
   ],
   "source": [
    "values = 1, 2, 3, 4, 5\n",
    "a, b, *rest = values\n",
    "print(rest)\n",
    "\n",
    "a, b, *_ = values\n",
    "print(_)"
   ]
  },
  {
   "attachments": {},
   "cell_type": "markdown",
   "metadata": {},
   "source": [
    "* Tuples have a count() method for counting value occurrences."
   ]
  },
  {
   "cell_type": "code",
   "execution_count": 15,
   "metadata": {},
   "outputs": [
    {
     "name": "stdout",
     "output_type": "stream",
     "text": [
      "4\n"
     ]
    }
   ],
   "source": [
    "a = (1, 2, 2, 2, 3, 4, 2)\n",
    "print(a.count(2))"
   ]
  },
  {
   "attachments": {},
   "cell_type": "markdown",
   "metadata": {},
   "source": [
    "#### Lists"
   ]
  },
  {
   "attachments": {},
   "cell_type": "markdown",
   "metadata": {},
   "source": [
    "* Lists in Python are mutable, variable-length sequences defined using square brackets [] or list().\n",
    "* You can convert a tuple to a list: b_list = list((\"foo\", \"bar\", \"baz\")).\n",
    "* Modify a list element by its index: b_list[1] = \"peekaboo\"."
   ]
  },
  {
   "cell_type": "code",
   "execution_count": 1,
   "metadata": {},
   "outputs": [
    {
     "name": "stdout",
     "output_type": "stream",
     "text": [
      "['foo', 'bar', 'baz']\n",
      "['foo', 'peekaboo', 'baz']\n"
     ]
    }
   ],
   "source": [
    "a_list = [2, 3, 7, None]\n",
    "\n",
    "tup = ('foo', 'bar', 'baz')\n",
    "b_list = list(tup)\n",
    "print(b_list)\n",
    "\n",
    "b_list[1] = 'peekaboo'\n",
    "print(b_list)"
   ]
  },
  {
   "attachments": {},
   "cell_type": "markdown",
   "metadata": {},
   "source": [
    "* Generate a list from an iterator or a generator: list(range(10)).\n",
    "* Use append() to add elements to the end of the list.\n",
    "* Insert elements at specific positions with insert(), but it's computationally expensive.\n",
    "* Use pop() to remove and return an element at a specific index.\n",
    "* Remove elements by value with remove(), which finds the first occurrence and removes it.\n",
    "* Use the in keyword to check if a list contains a value: \"dwarf\" in b_list."
   ]
  },
  {
   "cell_type": "code",
   "execution_count": 2,
   "metadata": {},
   "outputs": [
    {
     "name": "stdout",
     "output_type": "stream",
     "text": [
      "range(0, 10)\n",
      "This is a list generated from the range: [0, 1, 2, 3, 4, 5, 6, 7, 8, 9]\n",
      "This is a list after removing one element: ['foo', 'peekaboo', 'baz', 'dwarf']\n",
      "This is a list after inserting one element: ['foo', 'red', 'peekaboo', 'baz', 'dwarf']\n",
      "This is a list after removing one element at a particular index: ['foo', 'red', 'baz', 'dwarf']\n",
      "This is a list after appending one element: ['foo', 'red', 'baz', 'dwarf', 'foo']\n",
      "This is a list after removing one element: ['red', 'baz', 'dwarf', 'foo']\n"
     ]
    }
   ],
   "source": [
    "# Range\n",
    "gen = range(10)\n",
    "print(gen)\n",
    "print(f'This is a list generated from the range: {list(gen)}')\n",
    "\n",
    "# Adding and removing elements\n",
    "b_list.append('dwarf')\n",
    "print(f'This is a list after removing one element: {b_list}')\n",
    "\n",
    "b_list.insert(1, 'red')\n",
    "print(f'This is a list after inserting one element: {b_list}')\n",
    "\n",
    "b_list.pop(2)\n",
    "print(f'This is a list after removing one element at a particular index: {b_list}')\n",
    "\n",
    "b_list.append('foo')\n",
    "print(f'This is a list after appending one element: {b_list}')\n",
    "\n",
    "b_list.remove('foo')\n",
    "print(f'This is a list after removing one element: {b_list}')\n"
   ]
  },
  {
   "attachments": {},
   "cell_type": "markdown",
   "metadata": {},
   "source": [
    "* Use the in keyword to check if a list contains a value: \"dwarf\" in b_list.\n",
    "* Concatenate lists with + or add multiple elements with extend().\n",
    "* Sort a list with sort(), you can pass a secondary sort key as a function with key= parameter.\n",
    "* Slice lists using start:stop notation in square brackets, you can also assign to slices.\n",
    "* Use a step after a second colon to get every other element: seq[::2], -1 to reverse a list or tuple.\n",
    "* Remember, list operations like checking for value, insertion, and removal can be slower than in sets or dictionaries. Use collections.deque for efficient insertions and deletions at both ends."
   ]
  },
  {
   "attachments": {},
   "cell_type": "markdown",
   "metadata": {},
   "source": []
  }
 ],
 "metadata": {
  "kernelspec": {
   "display_name": "pydata-book",
   "language": "python",
   "name": "python3"
  },
  "language_info": {
   "codemirror_mode": {
    "name": "ipython",
    "version": 3
   },
   "file_extension": ".py",
   "mimetype": "text/x-python",
   "name": "python",
   "nbconvert_exporter": "python",
   "pygments_lexer": "ipython3",
   "version": "3.9.16"
  },
  "orig_nbformat": 4
 },
 "nbformat": 4,
 "nbformat_minor": 2
}
