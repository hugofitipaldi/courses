{
 "cells": [
  {
   "attachments": {},
   "cell_type": "markdown",
   "metadata": {},
   "source": [
    "### Notes on 3  Built-In Data Structures, Functions, and Files\n",
    "\n",
    "#### Data Structures and Sequences\n",
    "\n",
    "##### Tuple\n",
    "\n",
    "* A tuple in Python is a fixed-length, immutable sequence of Python objects that cannot be changed once assigned.\n",
    "* Tuples are created by comma-separated sequences of values, which can be enclosed in parentheses. Parentheses can be omitted in many contexts."
   ]
  },
  {
   "cell_type": "code",
   "execution_count": 1,
   "metadata": {},
   "outputs": [
    {
     "name": "stdout",
     "output_type": "stream",
     "text": [
      "(4, 5, 6)\n"
     ]
    }
   ],
   "source": [
    "tup = (4, 5, 6)\n",
    "print(tup)"
   ]
  },
  {
   "attachments": {},
   "cell_type": "markdown",
   "metadata": {},
   "source": [
    "* Tuples can be created from any sequence or iterator by invoking the tuple keyword."
   ]
  },
  {
   "cell_type": "code",
   "execution_count": 3,
   "metadata": {},
   "outputs": [
    {
     "name": "stdout",
     "output_type": "stream",
     "text": [
      "('s', 't', 'r', 'i', 'n', 'g')\n"
     ]
    }
   ],
   "source": [
    "tuple([4, 0, 2])\n",
    "tup = tuple('string')\n",
    "print(tup)"
   ]
  },
  {
   "attachments": {},
   "cell_type": "markdown",
   "metadata": {},
   "source": [
    "* Elements in a tuple are accessed using square brackets [], similar to most other sequence types."
   ]
  },
  {
   "cell_type": "code",
   "execution_count": 4,
   "metadata": {},
   "outputs": [
    {
     "data": {
      "text/plain": [
       "'s'"
      ]
     },
     "execution_count": 4,
     "metadata": {},
     "output_type": "execute_result"
    }
   ],
   "source": [
    "tup[0]"
   ]
  },
  {
   "attachments": {},
   "cell_type": "markdown",
   "metadata": {},
   "source": [
    "* Tuples can contain mutable objects, like lists, but the objects' positions can't be changed.\n",
    "* Concatenate tuples with +, repeat with *."
   ]
  },
  {
   "cell_type": "code",
   "execution_count": 7,
   "metadata": {},
   "outputs": [
    {
     "name": "stdout",
     "output_type": "stream",
     "text": [
      "(4, None, 'foo', 6, 0, 'bar')\n",
      "('foo', 'bar', 'foo', 'bar', 'foo', 'bar', 'foo', 'bar')\n"
     ]
    }
   ],
   "source": [
    "print((4, None, 'foo') + (6, 0) + ('bar',))\n",
    "print(('foo', 'bar') * 4)"
   ]
  },
  {
   "attachments": {},
   "cell_type": "markdown",
   "metadata": {},
   "source": [
    "* Tuples support unpacking: a, b, c = (4, 5, 6)."
   ]
  },
  {
   "cell_type": "code",
   "execution_count": 8,
   "metadata": {},
   "outputs": [
    {
     "name": "stdout",
     "output_type": "stream",
     "text": [
      "5\n"
     ]
    }
   ],
   "source": [
    "tup = (4, 5, 6)\n",
    "a, b, c = tup\n",
    "print(b)"
   ]
  },
  {
   "attachments": {},
   "cell_type": "markdown",
   "metadata": {},
   "source": [
    "* Nested tuples can be unpacked: a, b, (c, d) = 4, 5, (6, 7).\n",
    "* Swapping variables can be done via unpacking: b, a = a, b."
   ]
  },
  {
   "cell_type": "code",
   "execution_count": 10,
   "metadata": {},
   "outputs": [
    {
     "name": "stdout",
     "output_type": "stream",
     "text": [
      "1\n",
      "2\n",
      "2\n",
      "1\n"
     ]
    }
   ],
   "source": [
    "a, b = 1, 2\n",
    "print(a)\n",
    "print(b)\n",
    "\n",
    "b, a = a, b\n",
    "print(a)\n",
    "print(b)"
   ]
  },
  {
   "attachments": {},
   "cell_type": "markdown",
   "metadata": {},
   "source": [
    "* Unpacking can be used in loop iterations over tuple sequences."
   ]
  },
  {
   "cell_type": "code",
   "execution_count": 12,
   "metadata": {},
   "outputs": [
    {
     "name": "stdout",
     "output_type": "stream",
     "text": [
      "a=1, b=2, c=3\n",
      "a=4, b=5, c=6\n",
      "a=7, b=8, c=9\n"
     ]
    }
   ],
   "source": [
    "seq = [(1,2,3), (4,5,6), (7,8,9)]\n",
    "\n",
    "for a, b, c in seq:\n",
    "    print(f'a={a}, b={b}, c={c}')"
   ]
  },
  {
   "attachments": {},
   "cell_type": "markdown",
   "metadata": {},
   "source": [
    "* Python has a *rest syntax for capturing the rest of a tuple into a list.\n",
    "* Discard unwanted variables in unpacking by assigning to _."
   ]
  },
  {
   "cell_type": "code",
   "execution_count": 14,
   "metadata": {},
   "outputs": [
    {
     "name": "stdout",
     "output_type": "stream",
     "text": [
      "[3, 4, 5]\n",
      "[3, 4, 5]\n"
     ]
    }
   ],
   "source": [
    "values = 1, 2, 3, 4, 5\n",
    "a, b, *rest = values\n",
    "print(rest)\n",
    "\n",
    "a, b, *_ = values\n",
    "print(_)"
   ]
  },
  {
   "attachments": {},
   "cell_type": "markdown",
   "metadata": {},
   "source": [
    "* Tuples have a count() method for counting value occurrences."
   ]
  },
  {
   "cell_type": "code",
   "execution_count": 15,
   "metadata": {},
   "outputs": [
    {
     "name": "stdout",
     "output_type": "stream",
     "text": [
      "4\n"
     ]
    }
   ],
   "source": [
    "a = (1, 2, 2, 2, 3, 4, 2)\n",
    "print(a.count(2))"
   ]
  },
  {
   "attachments": {},
   "cell_type": "markdown",
   "metadata": {},
   "source": [
    "#### Lists"
   ]
  },
  {
   "attachments": {},
   "cell_type": "markdown",
   "metadata": {},
   "source": [
    "* Lists in Python are mutable, variable-length sequences defined using square brackets [] or list().\n",
    "* You can convert a tuple to a list: b_list = list((\"foo\", \"bar\", \"baz\")).\n",
    "* Modify a list element by its index: b_list[1] = \"peekaboo\"."
   ]
  },
  {
   "cell_type": "code",
   "execution_count": 1,
   "metadata": {},
   "outputs": [
    {
     "name": "stdout",
     "output_type": "stream",
     "text": [
      "['foo', 'bar', 'baz']\n",
      "['foo', 'peekaboo', 'baz']\n"
     ]
    }
   ],
   "source": [
    "a_list = [2, 3, 7, None]\n",
    "\n",
    "tup = ('foo', 'bar', 'baz')\n",
    "b_list = list(tup)\n",
    "print(b_list)\n",
    "\n",
    "b_list[1] = 'peekaboo'\n",
    "print(b_list)"
   ]
  },
  {
   "attachments": {},
   "cell_type": "markdown",
   "metadata": {},
   "source": [
    "* Generate a list from an iterator or a generator: list(range(10)).\n",
    "* Use append() to add elements to the end of the list.\n",
    "* Insert elements at specific positions with insert(), but it's computationally expensive.\n",
    "* Use pop() to remove and return an element at a specific index.\n",
    "* Remove elements by value with remove(), which finds the first occurrence and removes it.\n",
    "* Use the in keyword to check if a list contains a value: \"dwarf\" in b_list."
   ]
  },
  {
   "cell_type": "code",
   "execution_count": 4,
   "metadata": {},
   "outputs": [
    {
     "name": "stdout",
     "output_type": "stream",
     "text": [
      "range(0, 10)\n",
      "This is a list generated from the range: [0, 1, 2, 3, 4, 5, 6, 7, 8, 9]\n",
      "This is a list after removing one element: ['red', 'red', 'dwarf', 'dwarf', 'foo', 'dwarf']\n",
      "This is a list after inserting one element: ['red', 'red', 'red', 'dwarf', 'dwarf', 'foo', 'dwarf']\n",
      "This is a list after removing one element at a particular index: ['red', 'red', 'dwarf', 'dwarf', 'foo', 'dwarf']\n",
      "This is a list after appending one element: ['red', 'red', 'dwarf', 'dwarf', 'foo', 'dwarf', 'foo']\n",
      "This is a list after removing one element: ['red', 'red', 'dwarf', 'dwarf', 'dwarf', 'foo']\n",
      "True\n"
     ]
    }
   ],
   "source": [
    "# Range\n",
    "gen = range(10)\n",
    "print(gen)\n",
    "print(f'This is a list generated from the range: {list(gen)}')\n",
    "\n",
    "# Adding and removing elements\n",
    "b_list.append('dwarf')\n",
    "print(f'This is a list after removing one element: {b_list}')\n",
    "\n",
    "b_list.insert(1, 'red')\n",
    "print(f'This is a list after inserting one element: {b_list}')\n",
    "\n",
    "b_list.pop(2)\n",
    "print(f'This is a list after removing one element at a particular index: {b_list}')\n",
    "\n",
    "b_list.append('foo')\n",
    "print(f'This is a list after appending one element: {b_list}')\n",
    "\n",
    "b_list.remove('foo')\n",
    "print(f'This is a list after removing one element: {b_list}')\n",
    "\n",
    "print(\"dwarf\" in b_list)\n"
   ]
  },
  {
   "attachments": {},
   "cell_type": "markdown",
   "metadata": {},
   "source": [
    "* Concatenate lists with + or add multiple elements with extend().\n",
    "* Sort a list with sort(), you can pass a secondary sort key as a function with key= parameter."
   ]
  },
  {
   "cell_type": "code",
   "execution_count": 5,
   "metadata": {},
   "outputs": [
    {
     "name": "stdout",
     "output_type": "stream",
     "text": [
      "[4, None, 'foo', 7, 8, (2, 3)]\n",
      "[4, None, 'foo', 7, 8, (2, 3)]\n",
      "[1, 2, 3, 5, 7]\n",
      "['He', 'saw', 'six', 'small', 'foxes']\n"
     ]
    }
   ],
   "source": [
    "# Concatenating and combining lists\n",
    "print([4, None, 'foo'] + [7, 8, (2, 3)])\n",
    "\n",
    "x = [4, None, 'foo']\n",
    "x.extend([7, 8, (2, 3)])\n",
    "print(x)\n",
    "\n",
    "# Sorting\n",
    "a = [7, 2, 5, 1, 3]\n",
    "a.sort()\n",
    "print(a)\n",
    "\n",
    "# Sorting by length\n",
    "b = ['saw', 'small', 'He', 'foxes', 'six']\n",
    "b.sort(key=len)\n",
    "print(b)"
   ]
  },
  {
   "attachments": {},
   "cell_type": "markdown",
   "metadata": {},
   "source": [
    "* Slice lists using start:stop notation in square brackets, you can also assign to slices.\n",
    "* Use a step after a second colon to get every other element: seq[::2], -1 to reverse a list or tuple.\n",
    "* Remember, list operations like checking for value, insertion, and removal can be slower than in sets or dictionaries. Use collections.deque for efficient insertions and deletions at both ends."
   ]
  },
  {
   "cell_type": "code",
   "execution_count": 6,
   "metadata": {},
   "outputs": [
    {
     "name": "stdout",
     "output_type": "stream",
     "text": [
      "[2, 3, 7, 5]\n",
      "[7, 2, 3, 6, 3, 5, 6, 0, 1]\n",
      "[5, 6, 0, 1]\n",
      "[6, 3, 5, 6]\n",
      "[7, 3, 3, 6, 1]\n",
      "[1, 0, 6, 5, 3, 6, 3, 2, 7]\n"
     ]
    }
   ],
   "source": [
    "# Slicing\n",
    "seq = [7, 2, 3, 7, 5, 6, 0, 1]\n",
    "print(seq[1:5])\n",
    "\n",
    "seq[3:4] = [6, 3]\n",
    "print(seq)\n",
    "\n",
    "# Negative indices\n",
    "print(seq[-4:])\n",
    "print(seq[-6:-2])\n",
    "\n",
    "# Step\n",
    "print(seq[::2])\n",
    "print(seq[::-1])"
   ]
  },
  {
   "attachments": {},
   "cell_type": "markdown",
   "metadata": {},
   "source": [
    "#### Dictionaries\n",
    "\n",
    "<b>1. Creation and Access</b>\n",
    "\n",
    "Dictionaries in Python are created using curly braces {} with keys and values separated by colons :. They can also be created by the dict() constructor."
   ]
  },
  {
   "cell_type": "code",
   "execution_count": 19,
   "metadata": {},
   "outputs": [
    {
     "name": "stdout",
     "output_type": "stream",
     "text": [
      "{'a': 'some value', 'b': [1, 2, 3, 4]}\n",
      "{'a': 'some value', 'b': [1, 2, 3, 4]}\n"
     ]
    }
   ],
   "source": [
    "empty_dict = {}\n",
    "\n",
    "d1 = {'a': 'some value', 'b': [1, 2, 3, 4]}\n",
    "print(d1)\n",
    "d2 = dict(a = 'some value', b = [1, 2, 3, 4])\n",
    "print(d2)"
   ]
  },
  {
   "attachments": {},
   "cell_type": "markdown",
   "metadata": {},
   "source": [
    "Elements in a dictionary can be accessed, inserted, or modified using the square bracket notation."
   ]
  },
  {
   "cell_type": "code",
   "execution_count": 20,
   "metadata": {},
   "outputs": [
    {
     "name": "stdout",
     "output_type": "stream",
     "text": [
      "some value\n",
      "new value\n"
     ]
    }
   ],
   "source": [
    "print(d1['a'])\n",
    "\n",
    "d1[\"c\"] = \"new value\"\n",
    "print(d1[\"c\"])"
   ]
  },
  {
   "attachments": {},
   "cell_type": "markdown",
   "metadata": {},
   "source": [
    "<b>2. Checking for Keys and Deleting Entries</b>\n",
    "\n",
    "To check if a dictionary contains a key, you can use the in keyword."
   ]
  },
  {
   "cell_type": "code",
   "execution_count": 10,
   "metadata": {},
   "outputs": [
    {
     "name": "stdout",
     "output_type": "stream",
     "text": [
      "True\n"
     ]
    }
   ],
   "source": [
    "print(\"a\" in d1)"
   ]
  },
  {
   "attachments": {},
   "cell_type": "markdown",
   "metadata": {},
   "source": [
    "You can delete dictionary entries using the `del` keyword or the `pop()` method. The `pop()` method returns the value of the key being removed."
   ]
  },
  {
   "cell_type": "code",
   "execution_count": 11,
   "metadata": {},
   "outputs": [
    {
     "name": "stdout",
     "output_type": "stream",
     "text": [
      "some value\n"
     ]
    }
   ],
   "source": [
    "del d1[\"c\"]\n",
    "removed_value = d1.pop(\"a\")\n",
    "print(removed_value)"
   ]
  },
  {
   "attachments": {},
   "cell_type": "markdown",
   "metadata": {},
   "source": [
    "<b>3. Iterating over Dictionaries</b>\n",
    "\n",
    "The `keys()`, `values()` and `items()` methods provide iterators over dictionary's keys, values and key-value pairs repectively."
   ]
  },
  {
   "cell_type": "code",
   "execution_count": 12,
   "metadata": {},
   "outputs": [
    {
     "name": "stdout",
     "output_type": "stream",
     "text": [
      "['b']\n",
      "[[1, 2, 3, 4]]\n",
      "dict_items([('b', [1, 2, 3, 4])])\n"
     ]
    }
   ],
   "source": [
    "print(list(d1.keys()))\n",
    "print(list(d1.values()))\n",
    "print(d1.items())"
   ]
  },
  {
   "attachments": {},
   "cell_type": "markdown",
   "metadata": {},
   "source": [
    "<b>4. Merging Dictionaries</b>\n",
    "\n",
    "The `update()` method merge dictionaries. If keys overlap, the values from the provided dictionary are used."
   ]
  },
  {
   "cell_type": "code",
   "execution_count": 13,
   "metadata": {},
   "outputs": [
    {
     "name": "stdout",
     "output_type": "stream",
     "text": [
      "{'b': 'foo', 'c': 12}\n"
     ]
    }
   ],
   "source": [
    "d1.update({'b': 'foo', 'c': 12})\n",
    "print(d1)"
   ]
  },
  {
   "attachments": {},
   "cell_type": "markdown",
   "metadata": {},
   "source": [
    "<b>5. Default values</b>\n",
    "\n",
    "The `get()` and `pop()` methods can return a default value if the key is not presented."
   ]
  },
  {
   "cell_type": "code",
   "execution_count": 14,
   "metadata": {},
   "outputs": [
    {
     "name": "stdout",
     "output_type": "stream",
     "text": [
      "default_value\n"
     ]
    }
   ],
   "source": [
    "print(d1.get(\"non_existent_key\", \"default_value\"))"
   ]
  },
  {
   "attachments": {},
   "cell_type": "markdown",
   "metadata": {},
   "source": [
    "The `setdefault()` method and `defaultdict` class from the `collections` modeule help simplify assigning default values."
   ]
  },
  {
   "cell_type": "code",
   "execution_count": 15,
   "metadata": {},
   "outputs": [
    {
     "name": "stdout",
     "output_type": "stream",
     "text": [
      "{'a': ['apple', 'atom'], 'b': ['bat', 'bar', 'book']}\n"
     ]
    }
   ],
   "source": [
    "from collections import defaultdict\n",
    "\n",
    "d = defaultdict(list)\n",
    "words = [\"apple\", \"bat\", \"bar\", \"atom\", \"book\"]\n",
    "for word in words:\n",
    "    d[word[0]].append(word)\n",
    "\n",
    "print(dict(d))"
   ]
  },
  {
   "attachments": {},
   "cell_type": "markdown",
   "metadata": {},
   "source": [
    "<b>6. Hashability and Key types</b>\n",
    "\n",
    "Dictionary keys must be immutable (hashable) Python objects. Strings, integers, floats, tuples, and frozensets can serve as dictionary keys, but lists and sets cannot. You can use the `hash()`function to check if an object is hashable."
   ]
  },
  {
   "cell_type": "code",
   "execution_count": 16,
   "metadata": {},
   "outputs": [
    {
     "name": "stdout",
     "output_type": "stream",
     "text": [
      "-894698539344563496\n"
     ]
    }
   ],
   "source": [
    "print(hash(\"string\"))"
   ]
  },
  {
   "attachments": {},
   "cell_type": "markdown",
   "metadata": {},
   "source": [
    "To use a list as a key, it must first be converted into a tuple."
   ]
  },
  {
   "cell_type": "code",
   "execution_count": 17,
   "metadata": {},
   "outputs": [
    {
     "name": "stdout",
     "output_type": "stream",
     "text": [
      "{(1, 2, 3): 5}\n"
     ]
    }
   ],
   "source": [
    "d = {}\n",
    "d[tuple([1, 2, 3])] = 5\n",
    "print(d)"
   ]
  },
  {
   "attachments": {},
   "cell_type": "markdown",
   "metadata": {},
   "source": [
    "#### Set\n",
    "1. Creation and Access\n",
    "\n",
    "Sets in Python are an unordered collection of unique elements. Sets can be created either through the `set()` function or using curly braces {}."
   ]
  },
  {
   "cell_type": "code",
   "execution_count": 1,
   "metadata": {},
   "outputs": [
    {
     "name": "stdout",
     "output_type": "stream",
     "text": [
      "{1, 2, 3}\n",
      "{1, 2, 3}\n"
     ]
    }
   ],
   "source": [
    "s1 = set([2, 2, 2, 1, 3, 3])\n",
    "s2 = {2, 2, 2, 1, 3, 3} # another way to create the same set\n",
    "print(s1)\n",
    "print(s2)"
   ]
  },
  {
   "attachments": {},
   "cell_type": "markdown",
   "metadata": {},
   "source": [
    "2. Set Operations\n",
    "\n",
    "Sets in Python support mathematical set operations such as union (|), intersection (&), difference (-), and symmetric difference (^)."
   ]
  },
  {
   "cell_type": "code",
   "execution_count": 15,
   "metadata": {},
   "outputs": [
    {
     "name": "stdout",
     "output_type": "stream",
     "text": [
      "The union of these two sets is the set\n",
      "of distinct elements occurring in either set.\n",
      "{1, 2, 3, 4, 5, 6, 7, 8}\n",
      "{1, 2, 3, 4, 5, 6, 7, 8}\n",
      "\n",
      "The intersection of these two sets is\n",
      "the set containing elements occurring in both sets.\n",
      "{3, 4, 5}\n",
      "{3, 4, 5}\n",
      "\n",
      "The difference of these two sets is the\n",
      "set containing elements occurring in the first set but not the second.\n",
      "{1, 2}\n",
      "{1, 2}\n",
      "\n",
      "The symmetric difference of these two sets\n",
      "is the set containing elements occurring in either set but not both.\n",
      "{1, 2, 6, 7, 8}\n",
      "{1, 2, 6, 7, 8}\n"
     ]
    }
   ],
   "source": [
    "a = {1, 2, 3, 4, 5}\n",
    "b = {3, 4, 5, 6, 7, 8}\n",
    "\n",
    "# Union\n",
    "print(\"The union of these two sets is the set\\nof distinct elements occurring in either set.\")\n",
    "print(a.union(b))\n",
    "print(a | b)\n",
    "print(\"\")\n",
    "# Intersection\n",
    "print(\"The intersection of these two sets is\\nthe set containing elements occurring in both sets.\")\n",
    "print(a.intersection(b))\n",
    "print(a & b)\n",
    "print(\"\")\n",
    "# Difference\n",
    "print(\"The difference of these two sets is the\\nset containing elements occurring in the first set but not the second.\")\n",
    "print(a.difference(b))\n",
    "print(a - b)\n",
    "print(\"\")\n",
    "# Symmetric difference\n",
    "print(\"The symmetric difference of these two sets\\nis the set containing elements occurring in either set but not both.\")\n",
    "print(a.symmetric_difference(b))\n",
    "print(a ^ b)"
   ]
  },
  {
   "attachments": {},
   "cell_type": "markdown",
   "metadata": {},
   "source": [
    "3. In-Palce Operations\n",
    "\n",
    "All the logical set operations have in-place counterparts which allow you to replace the contents of the set on the left side of the operation with the result. This can be more efficient for large sets."
   ]
  },
  {
   "cell_type": "code",
   "execution_count": 3,
   "metadata": {},
   "outputs": [
    {
     "name": "stdout",
     "output_type": "stream",
     "text": [
      "{1, 2, 3, 4, 5, 6, 7, 8}\n",
      "{3, 4, 5}\n"
     ]
    }
   ],
   "source": [
    "c = a.copy()\n",
    "c |= b\n",
    "print(c)\n",
    "\n",
    "d = a.copy()\n",
    "d &= b\n",
    "print(d)"
   ]
  },
  {
   "attachments": {},
   "cell_type": "markdown",
   "metadata": {},
   "source": [
    "4. Adding and Removing Elements\n",
    "\n",
    "You can add elements to a set using the add() method, and remove elements using the remove() method. If you need to remove an element that might not exist, you can use discard(), which won't raise an error."
   ]
  },
  {
   "cell_type": "code",
   "execution_count": 4,
   "metadata": {},
   "outputs": [
    {
     "name": "stdout",
     "output_type": "stream",
     "text": [
      "{1, 2, 3, 4, 5, 6}\n",
      "{1, 2, 3, 4, 5}\n"
     ]
    }
   ],
   "source": [
    "a.add(6)\n",
    "print(a)\n",
    "\n",
    "a.remove(6)\n",
    "print(a)"
   ]
  },
  {
   "attachments": {},
   "cell_type": "markdown",
   "metadata": {},
   "source": [
    "5. Hashability and Element Types\n",
    "\n",
    "Similar to dictionary keys, set elements must be hashable. Immutable objects like strings, integers, tuples, and frozensets can be elements of a set. Lists and dictionaries cannot be elements of a set due to their mutability."
   ]
  },
  {
   "cell_type": "code",
   "execution_count": 5,
   "metadata": {},
   "outputs": [
    {
     "name": "stdout",
     "output_type": "stream",
     "text": [
      "{(1, 2, 3, 4)}\n"
     ]
    }
   ],
   "source": [
    "my_data = [1, 2, 3, 4]\n",
    "my_set = {tuple(my_data)}\n",
    "print(my_set)"
   ]
  },
  {
   "attachments": {},
   "cell_type": "markdown",
   "metadata": {},
   "source": [
    "6. Set Comparisons\n",
    "\n",
    "You can compare sets using methods such as `issubset()`, `issuperset()`, and `isdisjoint()`. Two sets are considered equal if their contents are equal, regardless of order."
   ]
  },
  {
   "cell_type": "code",
   "execution_count": 7,
   "metadata": {},
   "outputs": [
    {
     "name": "stdout",
     "output_type": "stream",
     "text": [
      "True\n",
      "True\n",
      "True\n",
      "True\n"
     ]
    }
   ],
   "source": [
    "a_set = {1, 2, 3, 4, 5}\n",
    "print({1, 2, 3}.issubset(a_set))\n",
    "print(a_set.issuperset({1, 2, 3}))\n",
    "print({1, 2, 3} == {3, 2, 1})\n",
    "print(a_set.isdisjoint({6, 7, 8}))  "
   ]
  },
  {
   "attachments": {},
   "cell_type": "markdown",
   "metadata": {},
   "source": []
  }
 ],
 "metadata": {
  "kernelspec": {
   "display_name": "pydata-book",
   "language": "python",
   "name": "python3"
  },
  "language_info": {
   "codemirror_mode": {
    "name": "ipython",
    "version": 3
   },
   "file_extension": ".py",
   "mimetype": "text/x-python",
   "name": "python",
   "nbconvert_exporter": "python",
   "pygments_lexer": "ipython3",
   "version": "3.9.16"
  },
  "orig_nbformat": 4
 },
 "nbformat": 4,
 "nbformat_minor": 2
}
