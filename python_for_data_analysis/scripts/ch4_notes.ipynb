{
 "cells": [
  {
   "attachments": {},
   "cell_type": "markdown",
   "metadata": {},
   "source": [
    "### Notes on 4  NumPy Basics: Arrays and Vectorized Computation"
   ]
  },
  {
   "attachments": {},
   "cell_type": "markdown",
   "metadata": {},
   "source": [
    "* NumPy, short for Numerical Python, is pivotal for numerical computing in Python.\n",
    "* Numerous computational packages employ NumPy's array objects for data exchange.\n",
    "* Knowledge on NumPy also aids in understanding pandas.\n",
    "\n",
    "<b>Key Features of NumPy:</b>\n",
    "\n",
    "1. ndarray:\n",
    "\n",
    "* An efficient multidimensional array.\n",
    "* Enables fast array-oriented arithmetic operations.\n",
    "* Offers flexible broadcasting capabilities.\n",
    "\n",
    "2. Mathematical functions:\n",
    "\n",
    "* Enables fast operations on whole arrays.\n",
    "* Avoids the need to write loops.\n",
    "\n",
    "3. I/O Tools\n",
    "\n",
    "* Methods to read and write array data to disk, and to work with memory-mapped files.\n",
    "\n",
    "4. Additional Capabilities\n",
    "\n",
    "* Linear algebra, random number generation, and Fourier transform functions.\n",
    "\n",
    "5. C API Integration:\n",
    "\n",
    "* Enables integration with libraries written in C, C++, or FORTRAN.\n",
    "* Makes Python suitable for wrapping legacy low-level language codebases.\n",
    "* While NumPy is foundational, it doesn't directly provide scientific or modeling functionality. But knowing NumPy can aid in utilizing other tools like pandas more effectively.\n",
    "\n",
    "<b> NumPy's Importance </b>\n",
    "\n",
    "* Array-based operations for:\n",
    "    * Data munging and cleaning.\n",
    "    * Subsetting, filtering, and transforming data.\n",
    "    * Computing.\n",
    "\n",
    "\n",
    "* Algorithms: Sorting, finding unique elements, and set operations.\n",
    "\n",
    "* Data Operations: Descriptive statistics, data aggregation, and summarization.\n",
    "\n",
    "* Data Handling: Aligning data, merging and joining datasets.\n",
    "\n",
    "* Logic Expression: Using array expressions over traditional if-elif-else loop branches.\n",
    "\n",
    "* Group Operations: Aggregating, transforming, and applying functions.\n",
    "\n",
    "* Pandas offers more domain-specific functions, like time series manipulation.\n",
    "\n",
    "<b>Why is NumPy Efficient?</b>\n",
    "\n",
    "* Contiguous Memory Storage: Stores data in a block of memory, separate from Python's built-in objects.\n",
    "\n",
    "* C-based Algorithms: Uses C language algorithms that eliminate type-checking and overhead found in Python. These algorithms directly operate on NumPy's memory storage.\n",
    "\n",
    "* Memory Efficiency: Uses significantly less memory than built-in Python sequences.\n",
    "\n",
    "* Speed: Performs computations on entire arrays without needing Python loops."
   ]
  },
  {
   "attachments": {},
   "cell_type": "markdown",
   "metadata": {},
   "source": [
    "#### The NumPy ndarray: A Multidimensional Array Object"
   ]
  },
  {
   "attachments": {},
   "cell_type": "markdown",
   "metadata": {},
   "source": [
    "NumPy's ndarray is a flexible container for datasets in Python, allowing for efficient mathematical operations on entire datasets."
   ]
  },
  {
   "cell_type": "code",
   "execution_count": 1,
   "metadata": {},
   "outputs": [
    {
     "name": "stdout",
     "output_type": "stream",
     "text": [
      "[[ 15.  -1.  30.]\n",
      " [  0. -30.  65.]]\n",
      "[[ 3.  -0.2  6. ]\n",
      " [ 0.  -6.  13. ]]\n"
     ]
    }
   ],
   "source": [
    "import numpy as np\n",
    "\n",
    "data = np.array([[1.5, -0.1, 3], [0, -3, 6.5]])\n",
    "print(data * 10)\n",
    "print(data + data)"
   ]
  },
  {
   "attachments": {},
   "cell_type": "markdown",
   "metadata": {},
   "source": [
    "ndarray's have attributes like `shape` and `dtype` that provide information about the dimensions and type of the data."
   ]
  },
  {
   "cell_type": "code",
   "execution_count": 2,
   "metadata": {},
   "outputs": [
    {
     "name": "stdout",
     "output_type": "stream",
     "text": [
      "(2, 3)\n",
      "float64\n"
     ]
    }
   ],
   "source": [
    "print(data.shape)\n",
    "print(data.dtype)"
   ]
  },
  {
   "attachments": {},
   "cell_type": "markdown",
   "metadata": {},
   "source": [
    "<b>1. Creating ndarrays</b>\n",
    "\n",
    "You can convert regular Python sequences into ndarrays:"
   ]
  },
  {
   "cell_type": "code",
   "execution_count": 3,
   "metadata": {},
   "outputs": [
    {
     "name": "stdout",
     "output_type": "stream",
     "text": [
      "[6.  7.5 8.  0.  1. ]\n",
      "2\n",
      "(2, 4)\n"
     ]
    }
   ],
   "source": [
    "data1 = [6, 7.5, 8, 0, 1]\n",
    "arr1 = np.array(data1)\n",
    "print(arr1)\n",
    "\n",
    "# multidimensional array\n",
    "data2 = [[1, 2, 3, 4], [5, 6, 7, 8]]\n",
    "arr2 = np.array(data2)\n",
    "\n",
    "# Inspecting ndim and shape\n",
    "print(arr2.ndim)\n",
    "print(arr2.shape)"
   ]
  },
  {
   "attachments": {},
   "cell_type": "markdown",
   "metadata": {},
   "source": [
    "There are functions to generate arrays filled with zeros, ones, or uninitialized values:"
   ]
  },
  {
   "cell_type": "code",
   "execution_count": 4,
   "metadata": {},
   "outputs": [
    {
     "name": "stdout",
     "output_type": "stream",
     "text": [
      "[0. 0. 0. 0. 0. 0. 0. 0. 0. 0.]\n",
      "[[0. 0. 0. 0. 0. 0.]\n",
      " [0. 0. 0. 0. 0. 0.]\n",
      " [0. 0. 0. 0. 0. 0.]]\n",
      "[[[-0.00000000e+000 -0.00000000e+000]\n",
      "  [ 9.43470737e+164  9.15185966e-071]\n",
      "  [ 7.40907256e-038  2.49173156e+180]]\n",
      "\n",
      " [[ 4.71112282e-062  3.31064072e-309]\n",
      "  [ 1.73060221e-077 -2.32035820e+077]\n",
      "  [-2.32035820e+077  8.38742096e-309]]]\n"
     ]
    }
   ],
   "source": [
    "print(np.zeros(10))\n",
    "print(np.zeros((3, 6)))\n",
    "print(np.empty((2, 3, 2)))"
   ]
  },
  {
   "attachments": {},
   "cell_type": "markdown",
   "metadata": {},
   "source": [
    "There's an array-version of Python's range: `arange`."
   ]
  },
  {
   "cell_type": "code",
   "execution_count": 5,
   "metadata": {},
   "outputs": [
    {
     "name": "stdout",
     "output_type": "stream",
     "text": [
      "[ 0  1  2  3  4  5  6  7  8  9 10 11 12 13 14]\n"
     ]
    }
   ],
   "source": [
    "print(np.arange(15))"
   ]
  },
  {
   "attachments": {},
   "cell_type": "markdown",
   "metadata": {},
   "source": [
    "2. Data Types for ndaarays\n",
    "\n",
    "NumPy's flexibility stems from its varied data types. Here's how you can specify data types for an array:"
   ]
  },
  {
   "cell_type": "code",
   "execution_count": 6,
   "metadata": {},
   "outputs": [
    {
     "name": "stdout",
     "output_type": "stream",
     "text": [
      "float64\n",
      "int32\n"
     ]
    }
   ],
   "source": [
    "arr1 = np.array([1, 2, 3], dtype=np.float64)\n",
    "arr2 = np.array([1, 2, 3], dtype=np.int32)\n",
    "\n",
    "print(arr1.dtype)\n",
    "print(arr2.dtype)"
   ]
  },
  {
   "attachments": {},
   "cell_type": "markdown",
   "metadata": {},
   "source": [
    "You can also cast an array from one data type to another:"
   ]
  },
  {
   "cell_type": "code",
   "execution_count": 7,
   "metadata": {},
   "outputs": [
    {
     "name": "stdout",
     "output_type": "stream",
     "text": [
      "float64\n",
      "[ 3 -1 -2  0 12 10]\n"
     ]
    }
   ],
   "source": [
    "arr = np.array([1, 2, 3, 4, 5])\n",
    "float_arr = arr.astype(np.float64)\n",
    "print(float_arr.dtype)\n",
    "\n",
    "arr_floats = np.array([3.7, -1.2, -2.6, 0.5, 12.9, 10.1])\n",
    "print(arr_floats.astype(np.int32))"
   ]
  },
  {
   "attachments": {},
   "cell_type": "markdown",
   "metadata": {},
   "source": [
    "3. Arithmetic with NumPy Arrays\n",
    "\n",
    "Arrays allow batch operations on data without explicit for loops, a process termed as vectorization. Operations between equal-size arrays are executed element-wise."
   ]
  },
  {
   "cell_type": "code",
   "execution_count": 8,
   "metadata": {},
   "outputs": [
    {
     "name": "stdout",
     "output_type": "stream",
     "text": [
      "[[ 1.  4.  9.]\n",
      " [16. 25. 36.]]\n",
      "[[0. 0. 0.]\n",
      " [0. 0. 0.]]\n"
     ]
    }
   ],
   "source": [
    "arr = np.array([[1., 2., 3.], [4., 5., 6.]])\n",
    "print(arr * arr)\n",
    "print(arr - arr)"
   ]
  },
  {
   "attachments": {},
   "cell_type": "markdown",
   "metadata": {},
   "source": [
    "Arithmetic operations with scalars propagate the scalar to each element:"
   ]
  },
  {
   "cell_type": "code",
   "execution_count": 9,
   "metadata": {},
   "outputs": [
    {
     "name": "stdout",
     "output_type": "stream",
     "text": [
      "[[1.         0.5        0.33333333]\n",
      " [0.25       0.2        0.16666667]]\n",
      "[[ 1.  4.  9.]\n",
      " [16. 25. 36.]]\n"
     ]
    }
   ],
   "source": [
    "print(1 / arr) \n",
    "print(arr ** 2)\n"
   ]
  },
  {
   "cell_type": "markdown",
   "metadata": {},
   "source": [
    "Comparisons between same-size arrays yield Boolean arrays:"
   ]
  },
  {
   "cell_type": "code",
   "execution_count": 10,
   "metadata": {},
   "outputs": [
    {
     "name": "stdout",
     "output_type": "stream",
     "text": [
      "[[False  True False]\n",
      " [ True False  True]]\n"
     ]
    }
   ],
   "source": [
    "arr2 = np.array([[0., 4., 1.], [7., 2., 12.]])\n",
    "print(arr2 > arr)"
   ]
  },
  {
   "cell_type": "markdown",
   "metadata": {},
   "source": [
    "4. Basic Indexing and Slicing\n",
    "\n",
    "Array indexing in NumPy is versatile, offering various ways to select data subsets.\n",
    "One-dimensional arrays are straightforward, behaving similarly to Python lists:"
   ]
  },
  {
   "cell_type": "code",
   "execution_count": 11,
   "metadata": {},
   "outputs": [
    {
     "name": "stdout",
     "output_type": "stream",
     "text": [
      "5\n",
      "[5 6 7]\n",
      "[ 0  1  2  3  4 12 12 12  8  9]\n"
     ]
    }
   ],
   "source": [
    "arr = np.arange(10)\n",
    "print(arr[5]) \n",
    "print(arr[5:8])\n",
    "arr[5:8] = 12\n",
    "print(arr)\n"
   ]
  },
  {
   "cell_type": "markdown",
   "metadata": {},
   "source": [
    "Important points:\n",
    "* Array slices are views on the original array. Any changes to the view reflect in the original array.\n",
    "* Explicit copying is required if a copy of the slice, not a view, is desired.\n",
    "\n",
    "For higher-dimensional arrays, individual elements are accessed with comma-separated indices:"
   ]
  },
  {
   "cell_type": "code",
   "execution_count": 12,
   "metadata": {},
   "outputs": [
    {
     "name": "stdout",
     "output_type": "stream",
     "text": [
      "[7 8 9]\n",
      "3\n"
     ]
    }
   ],
   "source": [
    "arr2d = np.array([[1, 2, 3], [4, 5, 6], [7, 8, 9]])\n",
    "print(arr2d[2])\n",
    "print(arr2d[0, 2])"
   ]
  },
  {
   "cell_type": "markdown",
   "metadata": {},
   "source": [
    "In multidimensional arrays, if you omit later indices, the result is an ndarray of all data along higher dimensions:"
   ]
  },
  {
   "cell_type": "code",
   "execution_count": 13,
   "metadata": {},
   "outputs": [
    {
     "name": "stdout",
     "output_type": "stream",
     "text": [
      "[[1 2 3]\n",
      " [4 5 6]]\n",
      "[[[42 42 42]\n",
      "  [42 42 42]]\n",
      "\n",
      " [[ 7  8  9]\n",
      "  [10 11 12]]]\n",
      "[[[ 1  2  3]\n",
      "  [ 4  5  6]]\n",
      "\n",
      " [[ 7  8  9]\n",
      "  [10 11 12]]]\n",
      "[7 8 9]\n"
     ]
    }
   ],
   "source": [
    "arr3d = np.array([[[1, 2, 3], [4, 5, 6]], [[7, 8, 9], [10, 11, 12]]])\n",
    "print(arr3d[0])\n",
    "old_values = arr3d[0].copy()\n",
    "arr3d[0] = 42\n",
    "print(arr3d)\n",
    "arr3d[0] = old_values\n",
    "print(arr3d)\n",
    "print(arr3d[1, 0])"
   ]
  },
  {
   "cell_type": "markdown",
   "metadata": {},
   "source": [
    "Subsections of arrays selected are views, ensuring any changes affect the original array. This multidimensional indexing doesn't apply to regular Python lists.\n",
    "\n",
    "5. Boolean Indexing\n",
    "\n",
    "Boolean indexing allows you to select and manipulate array data using Boolean conditions.\n",
    "\n",
    "* Comparing an array with a value yields a Boolean array.\n",
    "* Boolean arrays can be used to index and filter data from other arrays."
   ]
  },
  {
   "cell_type": "code",
   "execution_count": 14,
   "metadata": {},
   "outputs": [
    {
     "name": "stdout",
     "output_type": "stream",
     "text": [
      "[ True False False  True False False False]\n",
      "[[4 7]\n",
      " [0 0]]\n",
      "[[ 4  7]\n",
      " [-5  6]\n",
      " [ 0  0]\n",
      " [ 1  2]]\n"
     ]
    }
   ],
   "source": [
    "names = np.array(['Bob', 'Joe', 'Will', 'Bob', 'Will', 'Joe', 'Joe'])\n",
    "data = np.array([[4, 7], [0, 2], [-5, 6], [0, 0], [1, 2], [-12, -4], [3, 4]])\n",
    "\n",
    "# Creating a boolean array\n",
    "bool_array = names == 'Bob'\n",
    "print(bool_array)\n",
    "\n",
    "# Using boolean array for indexing\n",
    "print(data[names == 'Bob'])\n",
    "\n",
    "# Combining boolean conditions\n",
    "mask = (names == 'Bob') | (names == 'Will')\n",
    "print(data[mask])"
   ]
  },
  {
   "cell_type": "markdown",
   "metadata": {},
   "source": [
    "6. Fancy indeixing\n",
    "\n",
    "Fancy indexing refers to the indexing technique in NumPy where you can use arrays (or lists) of integers to index another array. It provides a way to create new derived arrays from the data of the original array.\n",
    "\n",
    "<b>Simple Indexing with Integer Arrays:</b> When you pass an array of integers to another array, you will get back a new array with the elements from the indices you provided."
   ]
  },
  {
   "cell_type": "code",
   "execution_count": 16,
   "metadata": {},
   "outputs": [
    {
     "name": "stdout",
     "output_type": "stream",
     "text": [
      "[10 20 30 40 50]\n",
      "[20 40]\n"
     ]
    }
   ],
   "source": [
    "arr = np.array([10, 20, 30, 40, 50])\n",
    "print(arr)\n",
    "\n",
    "index = np.array([1, 3])\n",
    "print(arr[index]) "
   ]
  },
  {
   "cell_type": "markdown",
   "metadata": {},
   "source": [
    "<b>Multidimensional Arrays:</b> For multidimensional arrays, things can get a bit more interesting."
   ]
  },
  {
   "cell_type": "code",
   "execution_count": 17,
   "metadata": {},
   "outputs": [
    {
     "name": "stdout",
     "output_type": "stream",
     "text": [
      "[[1 2 3]\n",
      " [4 5 6]\n",
      " [7 8 9]]\n",
      "[2 7]\n"
     ]
    }
   ],
   "source": [
    "arr_2d = np.array([[1, 2, 3], [4, 5, 6], [7, 8, 9]])\n",
    "print(arr_2d)\n",
    "\n",
    "print(arr_2d[[0, 2], [1, 0]])"
   ]
  },
  {
   "cell_type": "markdown",
   "metadata": {},
   "source": [
    "Think of the two lists you're passing ([0, 2] and [1, 0]) as representing coordinates. The first number from each list forms a coordinate and the second number from each list forms another coordinate.\n",
    "\n",
    "\n",
    "Some Key Characteristics:\n",
    "* Returns a Copy: Unlike simple slicing, fancy indexing returns a new copy of the data. This means modifications to the result won't affect the original array.\n",
    "\n",
    "* Multiple Index Arrays: When using multiple index arrays, the returned array has a shape that is the broadcasted shape of all the indices.\n",
    "\n",
    "* Rectangular Selection: One might expect fancy indexing to select a rectangle when using multiple index arrays, but it doesn't. Instead, it pairs up corresponding values from the index arrays. To actually get a rectangular region, you'd need to use slicing techniques combined with fancy indexing.\n",
    "\n",
    "* Negative Indexing: Just like with Python lists, negative integers will index from the end of the array.\n",
    "\n",
    "7. Transposing Arrays and Swapping Axes in NumPy\n",
    "\n",
    "Transposing and swapping axes are fundamental operations in matrix algebra and data manipulation. In NumPy, these operations can be performed effortlessly and efficiently without creating a new underlying data copy, but rather returning a view on the data.\n",
    "\n",
    "7.1. Transpose of an Array\n",
    "* The transpose of an array is essentially flipping its axes. This operation is useful in numerous mathematical computations.\n",
    "* NumPy provides the .T attribute to get the transpose of an array."
   ]
  },
  {
   "cell_type": "code",
   "execution_count": 19,
   "metadata": {},
   "outputs": [
    {
     "name": "stdout",
     "output_type": "stream",
     "text": [
      "[[ 0  1  2  3  4]\n",
      " [ 5  6  7  8  9]\n",
      " [10 11 12 13 14]]\n",
      "\n",
      "[[ 0  5 10]\n",
      " [ 1  6 11]\n",
      " [ 2  7 12]\n",
      " [ 3  8 13]\n",
      " [ 4  9 14]]\n"
     ]
    }
   ],
   "source": [
    "arr = np.arange(15).reshape((3, 5))\n",
    "print(arr)\n",
    "print(\"\")\n",
    "print(arr.T)"
   ]
  },
  {
   "cell_type": "markdown",
   "metadata": {},
   "source": [
    "7.2. Matrix Multiplication using Transpose\n",
    "\n",
    "* The `numpy.dot` function is used to perform matrix multiplication.\n",
    "* The `@` infix operator is an alternative and more readable way to perform matrix multiplication in Python (introduced in Python 3.5).\n"
   ]
  },
  {
   "cell_type": "code",
   "execution_count": 20,
   "metadata": {},
   "outputs": [
    {
     "name": "stdout",
     "output_type": "stream",
     "text": [
      "[[39 20 12]\n",
      " [20 14  2]\n",
      " [12  2 10]]\n",
      "\n",
      "[[39 20 12]\n",
      " [20 14  2]\n",
      " [12  2 10]]\n"
     ]
    }
   ],
   "source": [
    "arr = np.array([[0, 1, 0], [1, 2, -2], [6, 3, 2], [-1, 0, -1], [1, 0, 1]])\n",
    "\n",
    "# Using numpy.dot\n",
    "print(np.dot(arr.T, arr))\n",
    "print(\"\")\n",
    "\n",
    "# Using @ infix operator\n",
    "print(arr.T @ arr)"
   ]
  },
  {
   "cell_type": "markdown",
   "metadata": {},
   "source": [
    "7.3. Swapping Axes of an Array\n",
    "\n",
    "* Beyond transposing, more generally, you can rearrange the axes of a multi-dimensional array using the `swapaxes` method.\n",
    "* The `swapaxes` method takes two axis numbers as arguments and swaps them. Like transpose, this method returns a view on the data without making a new copy."
   ]
  },
  {
   "cell_type": "code",
   "execution_count": 21,
   "metadata": {},
   "outputs": [
    {
     "name": "stdout",
     "output_type": "stream",
     "text": [
      "[[ 0  1  0]\n",
      " [ 1  2 -2]\n",
      " [ 6  3  2]\n",
      " [-1  0 -1]\n",
      " [ 1  0  1]]\n",
      "\n",
      "[[ 0  1  6 -1  1]\n",
      " [ 1  2  3  0  0]\n",
      " [ 0 -2  2 -1  1]]\n"
     ]
    }
   ],
   "source": [
    "print(arr)\n",
    "print(\"\")\n",
    "print(arr.swapaxes(0, 1))"
   ]
  },
  {
   "cell_type": "markdown",
   "metadata": {},
   "source": [
    "#### Pseudorandom Number Generation\n",
    "\n",
    "<b>`numpy.random` Module</b>\n",
    "\n",
    "The `numpy.random` module is a powerful tool for generating random or pseudorandom numbers in Python.\n",
    "It enhances the capabilities of the built-in Python random module by providing efficient functions for generating arrays of sample values from various probability distributions.\n",
    "\n",
    "<b>Generating Samples</b>\n",
    "\n",
    "You can generate arrays of random samples using `numpy.random` functions. For example, to create a 4x4 array of samples from the standard normal distribution:"
   ]
  },
  {
   "cell_type": "code",
   "execution_count": 2,
   "metadata": {},
   "outputs": [
    {
     "name": "stdout",
     "output_type": "stream",
     "text": [
      "[[-1.29630285 -1.34843462 -0.63447616  0.0944583 ]\n",
      " [ 0.18106504  0.0684299  -0.59068655  1.36067094]\n",
      " [-0.05098132 -0.30842355  1.62047986  0.7728229 ]\n",
      " [-0.71033237 -0.53145379 -1.06237232 -0.82405552]]\n"
     ]
    }
   ],
   "source": [
    "samples = np.random.normal(size=(4, 4))\n",
    "print(samples)"
   ]
  },
  {
   "cell_type": "markdown",
   "metadata": {},
   "source": [
    "<b>Speed Comparison</b>\n",
    "\n",
    "`numpy.random` is significantly faster than Python's built-in `random` module for generating large samples. A benchmark shows that `numpy.random` is over an order of magnitude faster. For example:"
   ]
  },
  {
   "cell_type": "code",
   "execution_count": 6,
   "metadata": {},
   "outputs": [
    {
     "name": "stdout",
     "output_type": "stream",
     "text": [
      "571 ms ± 26 ms per loop (mean ± std. dev. of 7 runs, 1 loop each)\n",
      "34.6 ms ± 514 µs per loop (mean ± std. dev. of 7 runs, 10 loops each)\n"
     ]
    }
   ],
   "source": [
    "from random import normalvariate\n",
    "\n",
    "N = 1_000_000\n",
    "\n",
    "%timeit samples = [normalvariate(0, 1) for _ in range(N)]  # Using Python's random\n",
    "%timeit np.random.standard_normal(N)  # Using numpy.random\n"
   ]
  },
  {
   "cell_type": "markdown",
   "metadata": {},
   "source": [
    "<b>Pseudorandomness</b>\n",
    "\n",
    "The generated random numbers are not truly random but pseudorandom. They are generated by a deterministic random number generator. You can configure the random number generator by creating an explicit generator and setting the <i>seed</i> to determine its initial state.\n",
    "\n",
    "<b>Creating a Generator</b>\n",
    "\n",
    "To create an explicit random number generator with a specific <i>seed</i>:"
   ]
  },
  {
   "cell_type": "code",
   "execution_count": 3,
   "metadata": {},
   "outputs": [],
   "source": [
    "rng =np.random.default_rng(seed=12345)"
   ]
  },
  {
   "cell_type": "markdown",
   "metadata": {},
   "source": [
    "<b>Isolation of Generators</b>\n",
    "\n",
    "Generator objects, like rng, are isolated from other code that might use the numpy.random module. This isolation allows for better control and reproducibility of random data generation.\n",
    "\n",
    "<b>Methods for Random Generator Objects</b>\n",
    "\n",
    "Random generator objects, like rng, offer various methods for generating random data. \n",
    "\n",
    "#### Universal Functions: Fast Element-Wise Array Functions\n",
    "\n",
    "Universal Functions, often abbreviated as \"ufuncs,\" are functions in NumPy that perform element-wise operations on data stored in ndarrays. They act as fast, vectorized wrappers for simple functions that take one or more scalar values and produce one or more scalar results.\n",
    "\n",
    "<b>Unary Ufuncs</b>\n",
    "\n",
    "Unary ufuncs are functions that operate on a single array. They apply an operation to each element of the array independently. Examples of unary ufuncs include `numpy.sqrt` and `numpy.exp`.\n"
   ]
  },
  {
   "cell_type": "code",
   "execution_count": 2,
   "metadata": {},
   "outputs": [
    {
     "name": "stdout",
     "output_type": "stream",
     "text": [
      "[0.         1.         1.41421356 1.73205081 2.         2.23606798\n",
      " 2.44948974 2.64575131 2.82842712 3.        ]\n",
      "[1.00000000e+00 2.71828183e+00 7.38905610e+00 2.00855369e+01\n",
      " 5.45981500e+01 1.48413159e+02 4.03428793e+02 1.09663316e+03\n",
      " 2.98095799e+03 8.10308393e+03]\n"
     ]
    }
   ],
   "source": [
    "arr = np.arange(10)\n",
    "print(np.sqrt(arr))\n",
    "print(np.exp(arr))"
   ]
  },
  {
   "cell_type": "markdown",
   "metadata": {},
   "source": [
    "<b>Binary Ufuncs</b>\n",
    "\n",
    "Binary ufuncs are functions that take two arrays as input and return a single array as the result. They perform element-wise operations between corresponding elements of the two input arrays. Examples of binary ufuncs include `numpy.add` and `numpy.maximum`."
   ]
  },
  {
   "cell_type": "code",
   "execution_count": 6,
   "metadata": {},
   "outputs": [
    {
     "name": "stdout",
     "output_type": "stream",
     "text": [
      "[0.78884434 0.44948393 0.57585751 1.39897899 1.72473993 2.61815943\n",
      " 0.90291934 0.8286332 ]\n"
     ]
    }
   ],
   "source": [
    "x = rng.standard_normal(8)\n",
    "y = rng.standard_normal(8)\n",
    "print(np.maximum(x,y))"
   ]
  },
  {
   "cell_type": "markdown",
   "metadata": {},
   "source": [
    "<b>Ufuncs with Multiple Return Arrays</b>\n",
    "\n",
    "While uncommon, some ufuncs return multiple arrays. An example is numpy.modf, which returns the fractional and integral parts of a floating-point array."
   ]
  },
  {
   "cell_type": "code",
   "execution_count": 9,
   "metadata": {},
   "outputs": [
    {
     "name": "stdout",
     "output_type": "stream",
     "text": [
      "[0.67978425 0.73538882 0.3057201  0.354573   0.16827269 0.3874183\n",
      " 0.65126193]\n",
      "[0. 6. 0. 0. 2. 1. 2.]\n"
     ]
    }
   ],
   "source": [
    "arr = rng.standard_normal(7) * 5\n",
    "remainder, whole_part = np.modf(arr)\n",
    "\n",
    "print(remainder)\n",
    "print(whole_part)"
   ]
  },
  {
   "cell_type": "markdown",
   "metadata": {},
   "source": [
    "<b>Optional 'out' Argument</b>\n",
    "\n",
    "Ufuncs accept an optional 'out' argument that allows you to specify an existing array where the result should be stored instead of creating a new array. This can be useful for memory efficiency and performance when working with large arrays."
   ]
  },
  {
   "cell_type": "code",
   "execution_count": 10,
   "metadata": {},
   "outputs": [
    {
     "data": {
      "text/plain": [
       "array([ 1.53672097,  1.61835001,  0.20498254,  1.30003095, -0.60270159,\n",
       "        1.26679883, -0.26162378])"
      ]
     },
     "execution_count": 10,
     "metadata": {},
     "output_type": "execute_result"
    }
   ],
   "source": [
    "arr = rng.standard_normal(7)\n",
    "out = np.zeros_like(arr)\n",
    "np.add(arr, 1, out=out)"
   ]
  },
  {
   "cell_type": "markdown",
   "metadata": {},
   "source": [
    "#### Array-Oriented Programming with Arrays\n",
    "\n",
    "NumPy arrays allow for expressing various data processing tasks as concise array expressions, which can replace the need for writing explicit loops. This practice of replacing explicit loops with array expressions is commonly referred to as \"vectorization.\"\n",
    "\n",
    "Vectorized array operations in NumPy are typically significantly faster than equivalent pure Python loops. The impact of vectorization is most notable in numerical computations.\n",
    "\n",
    "<b>Example: Evaluating a Mathematical Function on a Grid</b>\n",
    "\n",
    "Suppose we want to evaluate the function sqrt(x^2 + y^2) across a regular grid of values. NumPy's `meshgrid` function is used to generate two two-dimensional matrices representing all pairs of (x, y) in two one-dimensional arrays."
   ]
  },
  {
   "cell_type": "code",
   "execution_count": 11,
   "metadata": {},
   "outputs": [
    {
     "name": "stdout",
     "output_type": "stream",
     "text": [
      "[[-5.   -5.   -5.   ... -5.   -5.   -5.  ]\n",
      " [-4.99 -4.99 -4.99 ... -4.99 -4.99 -4.99]\n",
      " [-4.98 -4.98 -4.98 ... -4.98 -4.98 -4.98]\n",
      " ...\n",
      " [ 4.97  4.97  4.97 ...  4.97  4.97  4.97]\n",
      " [ 4.98  4.98  4.98 ...  4.98  4.98  4.98]\n",
      " [ 4.99  4.99  4.99 ...  4.99  4.99  4.99]]\n"
     ]
    }
   ],
   "source": [
    "points = np.arange(-5, 5, 0.01)  # 1000 equally spaced points\n",
    "xs, ys = np.meshgrid(points, points)\n",
    "print(ys)"
   ]
  },
  {
   "cell_type": "markdown",
   "metadata": {},
   "source": [
    "The resulting matrices xs and ys represent the x and y coordinates of the grid.\n",
    "\n",
    "Evaluating the function is straightforward, just as if you were working with two individual points."
   ]
  },
  {
   "cell_type": "code",
   "execution_count": 12,
   "metadata": {},
   "outputs": [
    {
     "name": "stdout",
     "output_type": "stream",
     "text": [
      "[[7.07106781 7.06400028 7.05693985 ... 7.04988652 7.05693985 7.06400028]\n",
      " [7.06400028 7.05692568 7.04985815 ... 7.04279774 7.04985815 7.05692568]\n",
      " [7.05693985 7.04985815 7.04278354 ... 7.03571603 7.04278354 7.04985815]\n",
      " ...\n",
      " [7.04988652 7.04279774 7.03571603 ... 7.0286414  7.03571603 7.04279774]\n",
      " [7.05693985 7.04985815 7.04278354 ... 7.03571603 7.04278354 7.04985815]\n",
      " [7.06400028 7.05692568 7.04985815 ... 7.04279774 7.04985815 7.05692568]]\n"
     ]
    }
   ],
   "source": [
    "z = np.sqrt(xs ** 2 + ys ** 2)\n",
    "print(z)"
   ]
  },
  {
   "cell_type": "code",
   "execution_count": 13,
   "metadata": {},
   "outputs": [
    {
     "data": {
      "text/plain": [
       "Text(0.5, 1.0, 'Image plot of $\\\\sqrt{x^2 + y^2}$ for a grid of values')"
      ]
     },
     "execution_count": 13,
     "metadata": {},
     "output_type": "execute_result"
    },
    {
     "data": {
      "image/png": "[encoded data removed]",
      "text/plain": [
       "<Figure size 640x480 with 2 Axes>"
      ]
     },
     "metadata": {},
     "output_type": "display_data"
    }
   ],
   "source": [
    "import matplotlib.pyplot as plt\n",
    "\n",
    "plt.imshow(z, cmap=plt.cm.gray, extent=[-5, 5, -5, 5])\n",
    "plt.colorbar()\n",
    "plt.title(\"Image plot of $\\sqrt{x^2 + y^2}$ for a grid of values\")"
   ]
  },
  {
   "cell_type": "markdown",
   "metadata": {},
   "source": [
    "##### Expressing Conditional Logic as Array Operations\n",
    "\n",
    "`numpy.where` is a powerful function in NumPy that provides a vectorized way of expressing conditional logic. It is a vectorized version of the ternary expression x if condition else y."
   ]
  },
  {
   "cell_type": "code",
   "execution_count": 14,
   "metadata": {},
   "outputs": [],
   "source": [
    "xarr = np.array([1.1, 1.2, 1.3, 1.4, 1.5])\n",
    "yarr = np.array([2.1, 2.2, 2.3, 2.4, 2.5])\n",
    "cond = np.array([True, False, True, True, False])"
   ]
  },
  {
   "cell_type": "markdown",
   "metadata": {},
   "source": [
    "If we want to create a result array where the value is taken from xarr when the corresponding value in cond is True, and from yarr otherwise, we could use a list comprehension. However, this approach has limitations and can be slow for large arrays:"
   ]
  },
  {
   "cell_type": "code",
   "execution_count": 15,
   "metadata": {},
   "outputs": [
    {
     "name": "stdout",
     "output_type": "stream",
     "text": [
      "[1.1, 2.2, 1.3, 1.4, 2.5]\n"
     ]
    }
   ],
   "source": [
    "result = [(x if c else y) for x, y, c in zip(xarr, yarr, cond)]\n",
    "print(result)"
   ]
  },
  {
   "cell_type": "markdown",
   "metadata": {},
   "source": [
    "`numpy.where` allows us to achieve this more efficiently with a single function call:"
   ]
  },
  {
   "cell_type": "code",
   "execution_count": 16,
   "metadata": {},
   "outputs": [
    {
     "name": "stdout",
     "output_type": "stream",
     "text": [
      "[1.1 2.2 1.3 1.4 2.5]\n"
     ]
    }
   ],
   "source": [
    "result = np.where(cond, xarr, yarr)\n",
    "print(result)"
   ]
  },
  {
   "cell_type": "markdown",
   "metadata": {},
   "source": [
    "The first argument is the condition, the second argument is the value to take when the condition is True, and the third argument is the value to take when the condition is False.\n",
    "\n",
    "<b>Handling Multidimensional Arrays</b>\n",
    "\n",
    "Unlike list comprehensions, `numpy.where` can work with multidimensional arrays."
   ]
  },
  {
   "cell_type": "code",
   "execution_count": 17,
   "metadata": {},
   "outputs": [
    {
     "name": "stdout",
     "output_type": "stream",
     "text": [
      "[[-2  2 -2  2]\n",
      " [-2 -2  2 -2]\n",
      " [ 2 -2 -2 -2]\n",
      " [ 2  2 -2 -2]]\n"
     ]
    }
   ],
   "source": [
    "arr = rng.standard_normal((4, 4))\n",
    "result = np.where(arr > 0, 2, -2)\n",
    "print(result)"
   ]
  },
  {
   "cell_type": "markdown",
   "metadata": {},
   "source": [
    "##### Mathematical and Statistical Methods\n",
    "\n",
    "NumPy provides a set of mathematical and statistical functions that can compute statistics about an entire array or along a specified axis. These functions are accessible as methods of the NumPy array class and can also be used as top-level NumPy functions. Functions like `sum`, `mean`, and `std` (standard deviation) can be used to perform aggregations on arrays. You can call these functions either as array instance methods or as top-level NumPy functions."
   ]
  },
  {
   "cell_type": "code",
   "execution_count": 19,
   "metadata": {},
   "outputs": [
    {
     "name": "stdout",
     "output_type": "stream",
     "text": [
      "[[-0.35947965 -0.74864398 -0.96547891  0.36003466]\n",
      " [-0.24455253 -1.99585661 -0.15524762  1.06383087]\n",
      " [-0.27517157 -1.85333593 -0.12434193  0.78497452]\n",
      " [ 0.2019986  -0.42807444  1.8482889   1.89995289]\n",
      " [-0.09842503  0.81344544  0.39249439  0.7814429 ]]\n",
      "0.04489274829929097\n",
      "0.04489274829929097\n",
      "0.8978549659858194\n"
     ]
    }
   ],
   "source": [
    "arr = rng.standard_normal((5, 4))\n",
    "\n",
    "print(arr)\n",
    "\n",
    "print(arr.mean())\n",
    "print(np.mean(arr))\n",
    "print(arr.sum())"
   ]
  },
  {
   "cell_type": "markdown",
   "metadata": {},
   "source": [
    "Aggregation functions like mean and sum accept an optional axis argument to compute the statistic along the specified axis. This results in an array with one less dimension."
   ]
  },
  {
   "cell_type": "code",
   "execution_count": 21,
   "metadata": {},
   "outputs": [
    {
     "name": "stdout",
     "output_type": "stream",
     "text": [
      "[-0.42839197 -0.33295647 -0.36696873  0.88054149  0.47223942]\n",
      "[-0.77563018 -4.21246553  0.99571483  4.89023585]\n"
     ]
    }
   ],
   "source": [
    "print(arr.mean(axis=1))  # Mean across columns\n",
    "print(arr.sum(axis=0))   # Sum down rows"
   ]
  },
  {
   "cell_type": "markdown",
   "metadata": {},
   "source": [
    "Functions like `cumsum` and `cumprod` do not aggregate; instead, they produce an array of intermediate results. `cumsum` computes the cumulative sum of elements starting from 0, and `cumprod` computes the cumulative product of elements starting from 1."
   ]
  },
  {
   "cell_type": "code",
   "execution_count": 22,
   "metadata": {},
   "outputs": [
    {
     "data": {
      "text/plain": [
       "array([ 0,  1,  3,  6, 10, 15, 21, 28])"
      ]
     },
     "execution_count": 22,
     "metadata": {},
     "output_type": "execute_result"
    }
   ],
   "source": [
    "arr = np.array([0, 1, 2, 3, 4, 5, 6, 7])\n",
    "arr.cumsum()"
   ]
  },
  {
   "cell_type": "markdown",
   "metadata": {},
   "source": [
    "In multidimensional arrays, accumulation functions like cumsum return an array of the same size but with the partial aggregates computed along the indicated axis according to each lower-dimensional slice."
   ]
  },
  {
   "cell_type": "code",
   "execution_count": 23,
   "metadata": {},
   "outputs": [
    {
     "name": "stdout",
     "output_type": "stream",
     "text": [
      "[[ 0  1  2]\n",
      " [ 3  5  7]\n",
      " [ 9 12 15]]\n",
      "[[ 0  1  3]\n",
      " [ 3  7 12]\n",
      " [ 6 13 21]]\n"
     ]
    }
   ],
   "source": [
    "arr = np.array([[0, 1, 2], [3, 4, 5], [6, 7, 8]])\n",
    "print(arr.cumsum(axis=0))  # Cumulative sum along rows\n",
    "print(arr.cumsum(axis=1))  # Cumulative sum along columns"
   ]
  },
  {
   "cell_type": "markdown",
   "metadata": {},
   "source": [
    "##### Methods for Boolean Arrays\n",
    "\n",
    "In NumPy, Boolean values (True and False) are treated as integers, where True is coerced to 1, and False is coerced to 0. The `sum` function is often used to count the number of True values in a Boolean array."
   ]
  },
  {
   "cell_type": "code",
   "execution_count": 4,
   "metadata": {},
   "outputs": [
    {
     "name": "stdout",
     "output_type": "stream",
     "text": [
      "50\n"
     ]
    }
   ],
   "source": [
    "arr = rng.standard_normal(100)\n",
    "positive_count = (arr > 0).sum()\n",
    "print(positive_count)"
   ]
  },
  {
   "cell_type": "markdown",
   "metadata": {},
   "source": [
    "`any` checks if one or more values in the array are True. `all` checks if every value in the array is True."
   ]
  },
  {
   "cell_type": "code",
   "execution_count": 5,
   "metadata": {},
   "outputs": [
    {
     "name": "stdout",
     "output_type": "stream",
     "text": [
      "True\n",
      "False\n"
     ]
    }
   ],
   "source": [
    "bools = np.array([False, False, True, False])\n",
    "print(bools.any())\n",
    "print(bools.all())"
   ]
  },
  {
   "cell_type": "markdown",
   "metadata": {},
   "source": [
    "##### Sorting\n",
    "\n",
    "NumPy arrays can be sorted in place using the `sort` method."
   ]
  },
  {
   "cell_type": "code",
   "execution_count": 8,
   "metadata": {},
   "outputs": [
    {
     "name": "stdout",
     "output_type": "stream",
     "text": [
      "[-0.09842503  0.81344544  0.39249439  0.7814429   1.45327152  0.82018605]\n",
      "[-0.09842503  0.39249439  0.7814429   0.81344544  0.82018605  1.45327152]\n"
     ]
    }
   ],
   "source": [
    "arr = rng.standard_normal(6)\n",
    "print(arr)\n",
    "arr.sort()\n",
    "print(arr)"
   ]
  },
  {
   "cell_type": "markdown",
   "metadata": {},
   "source": [
    "For multidimensional arrays, you can sort each one-dimensional section of values along a specific axis using the axis parameter. `arr.sort(axis=0)` sorts values within each column along the 0th axis. `arr.sort(axis=1)` sorts values within each row along the 1st axis."
   ]
  },
  {
   "cell_type": "code",
   "execution_count": 9,
   "metadata": {},
   "outputs": [
    {
     "name": "stdout",
     "output_type": "stream",
     "text": [
      "[[ 0.08770534 -0.65350565 -0.81188688 -0.02553817  1.15818454]\n",
      " [ 0.30052087  0.05305665  0.25727152  0.03574286  0.54723669]\n",
      " [-1.12296158 -1.97524767 -0.42515005 -1.14907382  1.61513805]]\n",
      "[[-0.81188688 -0.65350565 -0.02553817  0.08770534  1.15818454]\n",
      " [ 0.03574286  0.05305665  0.25727152  0.30052087  0.54723669]\n",
      " [-1.97524767 -1.14907382 -1.12296158 -0.42515005  1.61513805]]\n",
      "[[-1.97524767 -1.14907382 -1.12296158 -0.42515005  0.54723669]\n",
      " [-0.81188688 -0.65350565 -0.02553817  0.08770534  1.15818454]\n",
      " [ 0.03574286  0.05305665  0.25727152  0.30052087  1.61513805]]\n"
     ]
    }
   ],
   "source": [
    "arr = rng.standard_normal((3, 5))\n",
    "print(arr)\n",
    "arr.sort(axis=1)\n",
    "print(arr)\n",
    "arr.sort(axis=0)\n",
    "print(arr)"
   ]
  },
  {
   "cell_type": "markdown",
   "metadata": {},
   "source": [
    "The top-level function `numpy.sort` returns a sorted copy of an array and does not modify the original array. This is similar to the Python built-in function `sorted`."
   ]
  },
  {
   "cell_type": "code",
   "execution_count": 10,
   "metadata": {},
   "outputs": [
    {
     "name": "stdout",
     "output_type": "stream",
     "text": [
      "[-10  -3   0   1   5   7]\n"
     ]
    }
   ],
   "source": [
    "arr = np.array([5, -10, 7, 1, 0, -3])\n",
    "sorted_arr = np.sort(arr)\n",
    "print(sorted_arr)"
   ]
  },
  {
   "cell_type": "markdown",
   "metadata": {},
   "source": [
    "##### Unique and Other Set Logic\n",
    "\n",
    "NumPy provides the `numpy.unique` function to find the sorted unique values in an array. It returns a NumPy array containing the unique values."
   ]
  },
  {
   "cell_type": "code",
   "execution_count": 11,
   "metadata": {},
   "outputs": [
    {
     "name": "stdout",
     "output_type": "stream",
     "text": [
      "['Bob' 'Joe' 'Will']\n"
     ]
    }
   ],
   "source": [
    "names = np.array(['Bob', 'Joe', 'Will', 'Bob', 'Will', 'Joe', 'Joe'])\n",
    "print(np.unique(names))"
   ]
  },
  {
   "cell_type": "markdown",
   "metadata": {},
   "source": [
    "#### File Input and Output with Arrays\n",
    "\n",
    "NumPy provides functions for efficiently saving and loading array data to and from disk.\n",
    "\n",
    "<b>Saving Arrays</b>\n",
    "\n",
    "Use `numpy.save` to save an array to disk in NumPy's built-in binary format. By default, the array is saved in an uncompressed raw binary format with a .npy file extension."
   ]
  },
  {
   "cell_type": "code",
   "execution_count": 14,
   "metadata": {},
   "outputs": [
    {
     "name": "stdout",
     "output_type": "stream",
     "text": [
      "[0 1 2 3 4 5 6 7 8 9]\n"
     ]
    }
   ],
   "source": [
    "arr = np.arange(10)\n",
    "print(arr)\n",
    "np.save('some_array', arr)"
   ]
  },
  {
   "cell_type": "markdown",
   "metadata": {},
   "source": [
    "<b>Loading Arrays</b>\n",
    "\n",
    "Use `numpy.load` to load an array from a .npy file."
   ]
  },
  {
   "cell_type": "code",
   "execution_count": 15,
   "metadata": {},
   "outputs": [
    {
     "name": "stdout",
     "output_type": "stream",
     "text": [
      "[0 1 2 3 4 5 6 7 8 9]\n"
     ]
    }
   ],
   "source": [
    "loaded_arr = np.load('some_array.npy')\n",
    "print(loaded_arr)"
   ]
  },
  {
   "cell_type": "markdown",
   "metadata": {},
   "source": [
    "<b>Saving and Loading Multiple Arrays</b>\n",
    "\n",
    "Use `numpy.savez` to save multiple arrays into an uncompressed archive, specifying the arrays as keyword arguments. Loading a .npz file returns a dictionary-like object containing the individual arrays."
   ]
  },
  {
   "cell_type": "code",
   "execution_count": 16,
   "metadata": {},
   "outputs": [
    {
     "name": "stdout",
     "output_type": "stream",
     "text": [
      "[0 1 2 3 4 5 6 7 8 9]\n"
     ]
    }
   ],
   "source": [
    "np.savez('array_archive.npz', a=arr, b=arr)\n",
    "arch = np.load('array_archive.npz')\n",
    "print(arch['b'])"
   ]
  },
  {
   "cell_type": "markdown",
   "metadata": {},
   "source": [
    "<b>Compressed Archives</b>\n",
    "\n",
    "If your data compresses well, you can use `numpy.savez_compressed` to save arrays in a compressed archive."
   ]
  },
  {
   "cell_type": "code",
   "execution_count": 17,
   "metadata": {},
   "outputs": [],
   "source": [
    "np.savez_compressed(\"arrays_compressed.npz\", a=arr, b=arr)"
   ]
  },
  {
   "cell_type": "markdown",
   "metadata": {},
   "source": [
    "#### Linear Algebra\n",
    "\n",
    "NumPy provides a range of linear algebra operations, including matrix multiplication, matrix decompositions, determinants, and more.\n",
    "\n",
    "<b>Matrix Multiplication</b>\n",
    "\n",
    "Element-wise multiplication of two two-dimensional arrays is done using `*`. Matrix multiplication requires using the dot function or the `@` infix operator."
   ]
  },
  {
   "cell_type": "code",
   "execution_count": 18,
   "metadata": {},
   "outputs": [
    {
     "name": "stdout",
     "output_type": "stream",
     "text": [
      "[[ 28.  64.]\n",
      " [ 67. 181.]]\n"
     ]
    }
   ],
   "source": [
    "x = np.array([[1., 2., 3.], [4., 5., 6.]])\n",
    "y = np.array([[6., 23.], [-1, 7], [8, 9]])\n",
    "result = x @ y\n",
    "print(result)"
   ]
  },
  {
   "cell_type": "markdown",
   "metadata": {},
   "source": [
    "<b>Matrix Decompositions and Inverse</b>\n",
    "\n",
    "NumPy's `linalg` module provides functions for matrix decompositions, inverse calculation, and more. Common functions include `inv` for matrix inverse, `qr` for QR decomposition, and `eig` for eigenvalues and eigenvectors."
   ]
  },
  {
   "cell_type": "code",
   "execution_count": 19,
   "metadata": {},
   "outputs": [
    {
     "name": "stdout",
     "output_type": "stream",
     "text": [
      "[[-0.15847686 -0.25287335 -1.53815403  0.28208603 -0.62361213]\n",
      " [ 1.12182226  0.84122103 -0.7758961   0.41071644 -2.7224161 ]\n",
      " [-0.6733048   1.24622153  0.79020803  0.17534089 -0.0292946 ]\n",
      " [-1.41951426 -1.35996632  0.22341156  1.76177943 -2.17088985]\n",
      " [ 0.62848817  0.60119653  0.95075786 -0.86924667 -0.52900707]]\n",
      "[[ 4.14695757  2.45302461 -0.87830238 -2.74919339 -0.1863803 ]\n",
      " [ 2.45302461  4.53561152  0.98879242 -2.42586392  0.46533351]\n",
      " [-0.87830238  0.98879242  4.54621455 -1.04685049  2.06041522]\n",
      " [-2.74919339 -2.42586392 -1.04685049  4.13846149 -4.66398131]\n",
      " [-0.1863803   0.46533351  2.06041522 -4.66398131 12.79391092]]\n",
      "[[ 1.81857215 -0.02748709  0.52211218  2.13908256  0.72320418]\n",
      " [-0.02748709  0.42908796 -0.07356869  0.35637811  0.12575755]\n",
      " [ 0.52211218 -0.07356869  0.39927992  0.58360339  0.15873006]\n",
      " [ 2.13908256  0.35637811  0.58360339  3.28220864  1.12073179]\n",
      " [ 0.72320418  0.12575755  0.15873006  1.12073179  0.46712019]]\n"
     ]
    }
   ],
   "source": [
    "from numpy.linalg import inv, qr\n",
    "\n",
    "X = rng.standard_normal((5, 5))\n",
    "print(X)\n",
    "mat = X.T @ X\n",
    "print(mat)\n",
    "inverse_mat = inv(mat)\n",
    "print(inverse_mat)"
   ]
  },
  {
   "cell_type": "markdown",
   "metadata": {},
   "source": [
    "#### Example\n",
    "\n",
    "Example involving a financial simulation of an investment portfolio using random walks. We'll simulate the performance of multiple stocks over time and calculate various statistics."
   ]
  },
  {
   "cell_type": "code",
   "execution_count": 22,
   "metadata": {},
   "outputs": [
    {
     "data": {
      "image/png": "[encoded data removed]",
      "text/plain": [
       "<Figure size 1200x600 with 1 Axes>"
      ]
     },
     "metadata": {},
     "output_type": "display_data"
    }
   ],
   "source": [
    "import numpy as np\n",
    "import matplotlib.pyplot as plt\n",
    "\n",
    "# Define simulation parameters\n",
    "n_years = 5   # Number of years for simulation\n",
    "n_stocks = 5  # Number of stocks in the portfolio\n",
    "n_days_per_year = 252  # Number of trading days per year\n",
    "\n",
    "# Generate daily returns for each stock using random walks\n",
    "rng = np.random.default_rng(seed=42)\n",
    "returns = rng.normal(loc=0.0005, scale=0.02, size=(n_years * n_days_per_year, n_stocks))\n",
    "\n",
    "# Create a cumulative returns array for each stock\n",
    "cumulative_returns = (1 + returns).cumprod(axis=0)\n",
    "\n",
    "# Calculate the total portfolio value over time\n",
    "initial_investment = 100000  # Initial investment in USD\n",
    "portfolio_values = initial_investment * cumulative_returns\n",
    "\n",
    "# Plot the performance of each stock\n",
    "plt.figure(figsize=(12, 6))\n",
    "for i in range(n_stocks):\n",
    "    plt.plot(portfolio_values[:, i], label=f'Stock {i + 1}')\n",
    "\n",
    "plt.title(\"Portfolio Performance Over Time\")\n",
    "plt.xlabel(\"Trading Days\")\n",
    "plt.ylabel(\"Portfolio Value (USD)\")\n",
    "plt.legend()\n",
    "plt.grid(True)\n",
    "\n",
    "# Calculate portfolio statistics\n",
    "final_portfolio_value = portfolio_values[-1, :]\n",
    "average_portfolio_return = ((final_portfolio_value / initial_investment) ** (1 / n_years)) - 1\n",
    "portfolio_volatility = np.std(returns, axis=0) * np.sqrt(n_days_per_year)\n",
    "sharpe_ratio = average_portfolio_return / portfolio_volatility\n",
    "\n"
   ]
  },
  {
   "cell_type": "code",
   "execution_count": null,
   "metadata": {},
   "outputs": [],
   "source": []
  }
 ],
 "metadata": {
  "kernelspec": {
   "display_name": "pydata-book",
   "language": "python",
   "name": "python3"
  },
  "language_info": {
   "codemirror_mode": {
    "name": "ipython",
    "version": 3
   },
   "file_extension": ".py",
   "mimetype": "text/x-python",
   "name": "python",
   "nbconvert_exporter": "python",
   "pygments_lexer": "ipython3",
   "version": "3.9.16"
  },
  "orig_nbformat": 4
 },
 "nbformat": 4,
 "nbformat_minor": 2
}
