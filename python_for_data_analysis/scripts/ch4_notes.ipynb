{
 "cells": [
  {
   "attachments": {},
   "cell_type": "markdown",
   "metadata": {},
   "source": [
    "### Notes on 4  NumPy Basics: Arrays and Vectorized Computation"
   ]
  },
  {
   "attachments": {},
   "cell_type": "markdown",
   "metadata": {},
   "source": [
    "* NumPy, short for Numerical Python, is pivotal for numerical computing in Python.\n",
    "* Numerous computational packages employ NumPy's array objects for data exchange.\n",
    "* Knowledge on NumPy also aids in understanding pandas.\n",
    "\n",
    "<b>Key Features of NumPy:</b>\n",
    "\n",
    "1. ndarray:\n",
    "\n",
    "* An efficient multidimensional array.\n",
    "* Enables fast array-oriented arithmetic operations.\n",
    "* Offers flexible broadcasting capabilities.\n",
    "\n",
    "2. Mathematical functions:\n",
    "\n",
    "* Enables fast operations on whole arrays.\n",
    "* Avoids the need to write loops.\n",
    "\n",
    "3. I/O Tools\n",
    "\n",
    "* Methods to read and write array data to disk, and to work with memory-mapped files.\n",
    "\n",
    "4. Additional Capabilities\n",
    "\n",
    "* Linear algebra, random number generation, and Fourier transform functions.\n",
    "\n",
    "5. C API Integration:\n",
    "\n",
    "* Enables integration with libraries written in C, C++, or FORTRAN.\n",
    "* Makes Python suitable for wrapping legacy low-level language codebases.\n",
    "* While NumPy is foundational, it doesn't directly provide scientific or modeling functionality. But knowing NumPy can aid in utilizing other tools like pandas more effectively.\n",
    "\n",
    "<b> NumPy's Importance </b>\n",
    "\n",
    "* Array-based operations for:\n",
    "    * Data munging and cleaning.\n",
    "    * Subsetting, filtering, and transforming data.\n",
    "    * Computing.\n",
    "\n",
    "\n",
    "* Algorithms: Sorting, finding unique elements, and set operations.\n",
    "\n",
    "* Data Operations: Descriptive statistics, data aggregation, and summarization.\n",
    "\n",
    "* Data Handling: Aligning data, merging and joining datasets.\n",
    "\n",
    "* Logic Expression: Using array expressions over traditional if-elif-else loop branches.\n",
    "\n",
    "* Group Operations: Aggregating, transforming, and applying functions.\n",
    "\n",
    "* Pandas offers more domain-specific functions, like time series manipulation.\n",
    "\n",
    "<b>Why is NumPy Efficient?</b>\n",
    "\n",
    "* Contiguous Memory Storage: Stores data in a block of memory, separate from Python's built-in objects.\n",
    "\n",
    "* C-based Algorithms: Uses C language algorithms that eliminate type-checking and overhead found in Python. These algorithms directly operate on NumPy's memory storage.\n",
    "\n",
    "* Memory Efficiency: Uses significantly less memory than built-in Python sequences.\n",
    "\n",
    "* Speed: Performs computations on entire arrays without needing Python loops."
   ]
  },
  {
   "attachments": {},
   "cell_type": "markdown",
   "metadata": {},
   "source": [
    "#### The NumPy ndarray: A Multidimensional Array Object"
   ]
  },
  {
   "attachments": {},
   "cell_type": "markdown",
   "metadata": {},
   "source": [
    "NumPy's ndarray is a flexible container for datasets in Python, allowing for efficient mathematical operations on entire datasets."
   ]
  },
  {
   "cell_type": "code",
   "execution_count": 1,
   "metadata": {},
   "outputs": [
    {
     "name": "stdout",
     "output_type": "stream",
     "text": [
      "[[ 15.  -1.  30.]\n",
      " [  0. -30.  65.]]\n",
      "[[ 3.  -0.2  6. ]\n",
      " [ 0.  -6.  13. ]]\n"
     ]
    }
   ],
   "source": [
    "import numpy as np\n",
    "\n",
    "data = np.array([[1.5, -0.1, 3], [0, -3, 6.5]])\n",
    "print(data * 10)\n",
    "print(data + data)"
   ]
  },
  {
   "attachments": {},
   "cell_type": "markdown",
   "metadata": {},
   "source": [
    "ndarray's have attributes like `shape` and `dtype` that provide information about the dimensions and type of the data."
   ]
  },
  {
   "cell_type": "code",
   "execution_count": 2,
   "metadata": {},
   "outputs": [
    {
     "name": "stdout",
     "output_type": "stream",
     "text": [
      "(2, 3)\n",
      "float64\n"
     ]
    }
   ],
   "source": [
    "print(data.shape)\n",
    "print(data.dtype)"
   ]
  },
  {
   "attachments": {},
   "cell_type": "markdown",
   "metadata": {},
   "source": [
    "<b>1. Creating ndarrays</b>\n",
    "\n",
    "You can convert regular Python sequences into ndarrays:"
   ]
  },
  {
   "cell_type": "code",
   "execution_count": 3,
   "metadata": {},
   "outputs": [
    {
     "name": "stdout",
     "output_type": "stream",
     "text": [
      "[6.  7.5 8.  0.  1. ]\n",
      "2\n",
      "(2, 4)\n"
     ]
    }
   ],
   "source": [
    "data1 = [6, 7.5, 8, 0, 1]\n",
    "arr1 = np.array(data1)\n",
    "print(arr1)\n",
    "\n",
    "# multidimensional array\n",
    "data2 = [[1, 2, 3, 4], [5, 6, 7, 8]]\n",
    "arr2 = np.array(data2)\n",
    "\n",
    "# Inspecting ndim and shape\n",
    "print(arr2.ndim)\n",
    "print(arr2.shape)"
   ]
  },
  {
   "attachments": {},
   "cell_type": "markdown",
   "metadata": {},
   "source": [
    "There are functions to generate arrays filled with zeros, ones, or uninitialized values:"
   ]
  },
  {
   "cell_type": "code",
   "execution_count": 4,
   "metadata": {},
   "outputs": [
    {
     "name": "stdout",
     "output_type": "stream",
     "text": [
      "[0. 0. 0. 0. 0. 0. 0. 0. 0. 0.]\n",
      "[[0. 0. 0. 0. 0. 0.]\n",
      " [0. 0. 0. 0. 0. 0.]\n",
      " [0. 0. 0. 0. 0. 0.]]\n",
      "[[[1.49166815e-154 2.00389432e+000]\n",
      "  [2.25633662e-314 2.26110380e-314]\n",
      "  [2.25635365e-314 2.25652526e-314]]\n",
      "\n",
      " [[2.25699915e-314 2.25634739e-314]\n",
      "  [2.25651302e-314 2.27631916e-314]\n",
      "  [2.28730775e-314 8.34404953e-309]]]\n"
     ]
    }
   ],
   "source": [
    "print(np.zeros(10))\n",
    "print(np.zeros((3, 6)))\n",
    "print(np.empty((2, 3, 2)))"
   ]
  },
  {
   "attachments": {},
   "cell_type": "markdown",
   "metadata": {},
   "source": [
    "There's an array-version of Python's range: `arange`."
   ]
  },
  {
   "cell_type": "code",
   "execution_count": 5,
   "metadata": {},
   "outputs": [
    {
     "name": "stdout",
     "output_type": "stream",
     "text": [
      "[ 0  1  2  3  4  5  6  7  8  9 10 11 12 13 14]\n"
     ]
    }
   ],
   "source": [
    "print(np.arange(15))"
   ]
  },
  {
   "attachments": {},
   "cell_type": "markdown",
   "metadata": {},
   "source": [
    "2. Data Types for ndaarays\n",
    "\n",
    "NumPy's flexibility stems from its varied data types. Here's how you can specify data types for an array:"
   ]
  },
  {
   "cell_type": "code",
   "execution_count": 6,
   "metadata": {},
   "outputs": [
    {
     "name": "stdout",
     "output_type": "stream",
     "text": [
      "float64\n",
      "int32\n"
     ]
    }
   ],
   "source": [
    "arr1 = np.array([1, 2, 3], dtype=np.float64)\n",
    "arr2 = np.array([1, 2, 3], dtype=np.int32)\n",
    "\n",
    "print(arr1.dtype)\n",
    "print(arr2.dtype)"
   ]
  },
  {
   "attachments": {},
   "cell_type": "markdown",
   "metadata": {},
   "source": [
    "You can also cast an array from one data type to another:"
   ]
  },
  {
   "cell_type": "code",
   "execution_count": 7,
   "metadata": {},
   "outputs": [
    {
     "name": "stdout",
     "output_type": "stream",
     "text": [
      "float64\n",
      "[ 3 -1 -2  0 12 10]\n"
     ]
    }
   ],
   "source": [
    "arr = np.array([1, 2, 3, 4, 5])\n",
    "float_arr = arr.astype(np.float64)\n",
    "print(float_arr.dtype)\n",
    "\n",
    "arr_floats = np.array([3.7, -1.2, -2.6, 0.5, 12.9, 10.1])\n",
    "print(arr_floats.astype(np.int32))"
   ]
  },
  {
   "attachments": {},
   "cell_type": "markdown",
   "metadata": {},
   "source": [
    "3. Arithmetic with NumPy Arrays\n",
    "\n",
    "Arrays allow batch operations on data without explicit for loops, a process termed as vectorization. Operations between equal-size arrays are executed element-wise."
   ]
  },
  {
   "cell_type": "code",
   "execution_count": 8,
   "metadata": {},
   "outputs": [
    {
     "name": "stdout",
     "output_type": "stream",
     "text": [
      "[[ 1.  4.  9.]\n",
      " [16. 25. 36.]]\n",
      "[[0. 0. 0.]\n",
      " [0. 0. 0.]]\n"
     ]
    }
   ],
   "source": [
    "arr = np.array([[1., 2., 3.], [4., 5., 6.]])\n",
    "print(arr * arr)\n",
    "print(arr - arr)"
   ]
  },
  {
   "attachments": {},
   "cell_type": "markdown",
   "metadata": {},
   "source": [
    "Arithmetic operations with scalars propagate the scalar to each element:"
   ]
  },
  {
   "cell_type": "code",
   "execution_count": 9,
   "metadata": {},
   "outputs": [
    {
     "name": "stdout",
     "output_type": "stream",
     "text": [
      "[[1.         0.5        0.33333333]\n",
      " [0.25       0.2        0.16666667]]\n",
      "[[ 1.  4.  9.]\n",
      " [16. 25. 36.]]\n"
     ]
    }
   ],
   "source": [
    "print(1 / arr) \n",
    "print(arr ** 2)\n"
   ]
  },
  {
   "cell_type": "markdown",
   "metadata": {},
   "source": [
    "Comparisons between same-size arrays yield Boolean arrays:"
   ]
  },
  {
   "cell_type": "code",
   "execution_count": 10,
   "metadata": {},
   "outputs": [
    {
     "name": "stdout",
     "output_type": "stream",
     "text": [
      "[[False  True False]\n",
      " [ True False  True]]\n"
     ]
    }
   ],
   "source": [
    "arr2 = np.array([[0., 4., 1.], [7., 2., 12.]])\n",
    "print(arr2 > arr)"
   ]
  },
  {
   "cell_type": "markdown",
   "metadata": {},
   "source": [
    "4. Basic Indexing and Slicing\n",
    "\n",
    "Array indexing in NumPy is versatile, offering various ways to select data subsets.\n",
    "One-dimensional arrays are straightforward, behaving similarly to Python lists:"
   ]
  },
  {
   "cell_type": "code",
   "execution_count": 14,
   "metadata": {},
   "outputs": [
    {
     "name": "stdout",
     "output_type": "stream",
     "text": [
      "5\n",
      "[5 6 7]\n",
      "[ 0  1  2  3  4 12 12 12  8  9]\n"
     ]
    }
   ],
   "source": [
    "arr = np.arange(10)\n",
    "print(arr[5]) \n",
    "print(arr[5:8])\n",
    "arr[5:8] = 12\n",
    "print(arr)\n"
   ]
  },
  {
   "cell_type": "markdown",
   "metadata": {},
   "source": [
    "Important points:\n",
    "* Array slices are views on the original array. Any changes to the view reflect in the original array.\n",
    "* Explicit copying is required if a copy of the slice, not a view, is desired.\n",
    "\n",
    "For higher-dimensional arrays, individual elements are accessed with comma-separated indices:"
   ]
  },
  {
   "cell_type": "code",
   "execution_count": 15,
   "metadata": {},
   "outputs": [
    {
     "name": "stdout",
     "output_type": "stream",
     "text": [
      "[7 8 9]\n",
      "3\n"
     ]
    }
   ],
   "source": [
    "arr2d = np.array([[1, 2, 3], [4, 5, 6], [7, 8, 9]])\n",
    "print(arr2d[2])\n",
    "print(arr2d[0, 2])"
   ]
  },
  {
   "cell_type": "markdown",
   "metadata": {},
   "source": [
    "In multidimensional arrays, if you omit later indices, the result is an ndarray of all data along higher dimensions:"
   ]
  },
  {
   "cell_type": "code",
   "execution_count": 16,
   "metadata": {},
   "outputs": [
    {
     "name": "stdout",
     "output_type": "stream",
     "text": [
      "[[1 2 3]\n",
      " [4 5 6]]\n",
      "[[[42 42 42]\n",
      "  [42 42 42]]\n",
      "\n",
      " [[ 7  8  9]\n",
      "  [10 11 12]]]\n",
      "[[[ 1  2  3]\n",
      "  [ 4  5  6]]\n",
      "\n",
      " [[ 7  8  9]\n",
      "  [10 11 12]]]\n",
      "[7 8 9]\n"
     ]
    }
   ],
   "source": [
    "arr3d = np.array([[[1, 2, 3], [4, 5, 6]], [[7, 8, 9], [10, 11, 12]]])\n",
    "print(arr3d[0])\n",
    "old_values = arr3d[0].copy()\n",
    "arr3d[0] = 42\n",
    "print(arr3d)\n",
    "arr3d[0] = old_values\n",
    "print(arr3d)\n",
    "print(arr3d[1, 0])"
   ]
  },
  {
   "cell_type": "markdown",
   "metadata": {},
   "source": [
    "Subsections of arrays selected are views, ensuring any changes affect the original array. This multidimensional indexing doesn't apply to regular Python lists."
   ]
  },
  {
   "cell_type": "markdown",
   "metadata": {},
   "source": []
  }
 ],
 "metadata": {
  "kernelspec": {
   "display_name": "pydata-book",
   "language": "python",
   "name": "python3"
  },
  "language_info": {
   "codemirror_mode": {
    "name": "ipython",
    "version": 3
   },
   "file_extension": ".py",
   "mimetype": "text/x-python",
   "name": "python",
   "nbconvert_exporter": "python",
   "pygments_lexer": "ipython3",
   "version": "3.9.16"
  },
  "orig_nbformat": 4
 },
 "nbformat": 4,
 "nbformat_minor": 2
}
