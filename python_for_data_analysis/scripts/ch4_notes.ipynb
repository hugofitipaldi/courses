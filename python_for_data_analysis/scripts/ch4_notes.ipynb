{
 "cells": [
  {
   "attachments": {},
   "cell_type": "markdown",
   "metadata": {},
   "source": [
    "### Notes on 4  NumPy Basics: Arrays and Vectorized Computation"
   ]
  },
  {
   "attachments": {},
   "cell_type": "markdown",
   "metadata": {},
   "source": [
    "* NumPy, short for Numerical Python, is pivotal for numerical computing in Python.\n",
    "* Numerous computational packages employ NumPy's array objects for data exchange.\n",
    "* Knowledge on NumPy also aids in understanding pandas.\n",
    "\n",
    "<b>Key Features of NumPy:</b>\n",
    "\n",
    "1. ndarray:\n",
    "\n",
    "* An efficient multidimensional array.\n",
    "* Enables fast array-oriented arithmetic operations.\n",
    "* Offers flexible broadcasting capabilities.\n",
    "\n",
    "2. Mathematical functions:\n",
    "\n",
    "* Enables fast operations on whole arrays.\n",
    "* Avoids the need to write loops.\n",
    "\n",
    "3. I/O Tools\n",
    "\n",
    "* Methods to read and write array data to disk, and to work with memory-mapped files.\n",
    "\n",
    "4. Additional Capabilities\n",
    "\n",
    "* Linear algebra, random number generation, and Fourier transform functions.\n",
    "\n",
    "5. C API Integration:\n",
    "\n",
    "* Enables integration with libraries written in C, C++, or FORTRAN.\n",
    "* Makes Python suitable for wrapping legacy low-level language codebases.\n",
    "* While NumPy is foundational, it doesn't directly provide scientific or modeling functionality. But knowing NumPy can aid in utilizing other tools like pandas more effectively.\n",
    "\n",
    "<b> NumPy's Importance </b>\n",
    "\n",
    "* Array-based operations for:\n",
    "    * Data munging and cleaning.\n",
    "    * Subsetting, filtering, and transforming data.\n",
    "    * Computing.\n",
    "\n",
    "\n",
    "* Algorithms: Sorting, finding unique elements, and set operations.\n",
    "\n",
    "* Data Operations: Descriptive statistics, data aggregation, and summarization.\n",
    "\n",
    "* Data Handling: Aligning data, merging and joining datasets.\n",
    "\n",
    "* Logic Expression: Using array expressions over traditional if-elif-else loop branches.\n",
    "\n",
    "* Group Operations: Aggregating, transforming, and applying functions.\n",
    "\n",
    "* Pandas offers more domain-specific functions, like time series manipulation.\n",
    "\n",
    "<b>Why is NumPy Efficient?</b>\n",
    "\n",
    "* Contiguous Memory Storage: Stores data in a block of memory, separate from Python's built-in objects.\n",
    "\n",
    "* C-based Algorithms: Uses C language algorithms that eliminate type-checking and overhead found in Python. These algorithms directly operate on NumPy's memory storage.\n",
    "\n",
    "* Memory Efficiency: Uses significantly less memory than built-in Python sequences.\n",
    "\n",
    "* Speed: Performs computations on entire arrays without needing Python loops."
   ]
  },
  {
   "attachments": {},
   "cell_type": "markdown",
   "metadata": {},
   "source": [
    "#### The NumPy ndarray: A Multidimensional Array Object"
   ]
  },
  {
   "attachments": {},
   "cell_type": "markdown",
   "metadata": {},
   "source": [
    "NumPy's ndarray is a flexible container for datasets in Python, allowing for efficient mathematical operations on entire datasets."
   ]
  },
  {
   "cell_type": "code",
   "execution_count": 1,
   "metadata": {},
   "outputs": [
    {
     "name": "stdout",
     "output_type": "stream",
     "text": [
      "[[ 15.  -1.  30.]\n",
      " [  0. -30.  65.]]\n",
      "[[ 3.  -0.2  6. ]\n",
      " [ 0.  -6.  13. ]]\n"
     ]
    }
   ],
   "source": [
    "import numpy as np\n",
    "\n",
    "data = np.array([[1.5, -0.1, 3], [0, -3, 6.5]])\n",
    "print(data * 10)\n",
    "print(data + data)"
   ]
  },
  {
   "attachments": {},
   "cell_type": "markdown",
   "metadata": {},
   "source": [
    "ndarray's have attributes like `shape` and `dtype` that provide information about the dimensions and type of the data."
   ]
  },
  {
   "cell_type": "code",
   "execution_count": 2,
   "metadata": {},
   "outputs": [
    {
     "name": "stdout",
     "output_type": "stream",
     "text": [
      "(2, 3)\n",
      "float64\n"
     ]
    }
   ],
   "source": [
    "print(data.shape)\n",
    "print(data.dtype)"
   ]
  },
  {
   "attachments": {},
   "cell_type": "markdown",
   "metadata": {},
   "source": [
    "<b>1. Creating ndarrays</b>\n",
    "\n",
    "You can convert regular Python sequences into ndarrays:"
   ]
  },
  {
   "cell_type": "code",
   "execution_count": 3,
   "metadata": {},
   "outputs": [
    {
     "name": "stdout",
     "output_type": "stream",
     "text": [
      "[6.  7.5 8.  0.  1. ]\n",
      "2\n",
      "(2, 4)\n"
     ]
    }
   ],
   "source": [
    "data1 = [6, 7.5, 8, 0, 1]\n",
    "arr1 = np.array(data1)\n",
    "print(arr1)\n",
    "\n",
    "# multidimensional array\n",
    "data2 = [[1, 2, 3, 4], [5, 6, 7, 8]]\n",
    "arr2 = np.array(data2)\n",
    "\n",
    "# Inspecting ndim and shape\n",
    "print(arr2.ndim)\n",
    "print(arr2.shape)"
   ]
  },
  {
   "attachments": {},
   "cell_type": "markdown",
   "metadata": {},
   "source": [
    "There are functions to generate arrays filled with zeros, ones, or uninitialized values:"
   ]
  },
  {
   "cell_type": "code",
   "execution_count": 4,
   "metadata": {},
   "outputs": [
    {
     "name": "stdout",
     "output_type": "stream",
     "text": [
      "[0. 0. 0. 0. 0. 0. 0. 0. 0. 0.]\n",
      "[[0. 0. 0. 0. 0. 0.]\n",
      " [0. 0. 0. 0. 0. 0.]\n",
      " [0. 0. 0. 0. 0. 0.]]\n",
      "[[[-0.00000000e+000 -0.00000000e+000]\n",
      "  [ 9.43470737e+164  9.15185966e-071]\n",
      "  [ 7.40907256e-038  2.49173156e+180]]\n",
      "\n",
      " [[ 4.71112282e-062  3.31064072e-309]\n",
      "  [ 1.73060221e-077 -2.32035820e+077]\n",
      "  [-2.32035820e+077  8.38742096e-309]]]\n"
     ]
    }
   ],
   "source": [
    "print(np.zeros(10))\n",
    "print(np.zeros((3, 6)))\n",
    "print(np.empty((2, 3, 2)))"
   ]
  },
  {
   "attachments": {},
   "cell_type": "markdown",
   "metadata": {},
   "source": [
    "There's an array-version of Python's range: `arange`."
   ]
  },
  {
   "cell_type": "code",
   "execution_count": 5,
   "metadata": {},
   "outputs": [
    {
     "name": "stdout",
     "output_type": "stream",
     "text": [
      "[ 0  1  2  3  4  5  6  7  8  9 10 11 12 13 14]\n"
     ]
    }
   ],
   "source": [
    "print(np.arange(15))"
   ]
  },
  {
   "attachments": {},
   "cell_type": "markdown",
   "metadata": {},
   "source": [
    "2. Data Types for ndaarays\n",
    "\n",
    "NumPy's flexibility stems from its varied data types. Here's how you can specify data types for an array:"
   ]
  },
  {
   "cell_type": "code",
   "execution_count": 6,
   "metadata": {},
   "outputs": [
    {
     "name": "stdout",
     "output_type": "stream",
     "text": [
      "float64\n",
      "int32\n"
     ]
    }
   ],
   "source": [
    "arr1 = np.array([1, 2, 3], dtype=np.float64)\n",
    "arr2 = np.array([1, 2, 3], dtype=np.int32)\n",
    "\n",
    "print(arr1.dtype)\n",
    "print(arr2.dtype)"
   ]
  },
  {
   "attachments": {},
   "cell_type": "markdown",
   "metadata": {},
   "source": [
    "You can also cast an array from one data type to another:"
   ]
  },
  {
   "cell_type": "code",
   "execution_count": 7,
   "metadata": {},
   "outputs": [
    {
     "name": "stdout",
     "output_type": "stream",
     "text": [
      "float64\n",
      "[ 3 -1 -2  0 12 10]\n"
     ]
    }
   ],
   "source": [
    "arr = np.array([1, 2, 3, 4, 5])\n",
    "float_arr = arr.astype(np.float64)\n",
    "print(float_arr.dtype)\n",
    "\n",
    "arr_floats = np.array([3.7, -1.2, -2.6, 0.5, 12.9, 10.1])\n",
    "print(arr_floats.astype(np.int32))"
   ]
  },
  {
   "attachments": {},
   "cell_type": "markdown",
   "metadata": {},
   "source": [
    "3. Arithmetic with NumPy Arrays\n",
    "\n",
    "Arrays allow batch operations on data without explicit for loops, a process termed as vectorization. Operations between equal-size arrays are executed element-wise."
   ]
  },
  {
   "cell_type": "code",
   "execution_count": 8,
   "metadata": {},
   "outputs": [
    {
     "name": "stdout",
     "output_type": "stream",
     "text": [
      "[[ 1.  4.  9.]\n",
      " [16. 25. 36.]]\n",
      "[[0. 0. 0.]\n",
      " [0. 0. 0.]]\n"
     ]
    }
   ],
   "source": [
    "arr = np.array([[1., 2., 3.], [4., 5., 6.]])\n",
    "print(arr * arr)\n",
    "print(arr - arr)"
   ]
  },
  {
   "attachments": {},
   "cell_type": "markdown",
   "metadata": {},
   "source": [
    "Arithmetic operations with scalars propagate the scalar to each element:"
   ]
  },
  {
   "cell_type": "code",
   "execution_count": 9,
   "metadata": {},
   "outputs": [
    {
     "name": "stdout",
     "output_type": "stream",
     "text": [
      "[[1.         0.5        0.33333333]\n",
      " [0.25       0.2        0.16666667]]\n",
      "[[ 1.  4.  9.]\n",
      " [16. 25. 36.]]\n"
     ]
    }
   ],
   "source": [
    "print(1 / arr) \n",
    "print(arr ** 2)\n"
   ]
  },
  {
   "cell_type": "markdown",
   "metadata": {},
   "source": [
    "Comparisons between same-size arrays yield Boolean arrays:"
   ]
  },
  {
   "cell_type": "code",
   "execution_count": 10,
   "metadata": {},
   "outputs": [
    {
     "name": "stdout",
     "output_type": "stream",
     "text": [
      "[[False  True False]\n",
      " [ True False  True]]\n"
     ]
    }
   ],
   "source": [
    "arr2 = np.array([[0., 4., 1.], [7., 2., 12.]])\n",
    "print(arr2 > arr)"
   ]
  },
  {
   "cell_type": "markdown",
   "metadata": {},
   "source": [
    "4. Basic Indexing and Slicing\n",
    "\n",
    "Array indexing in NumPy is versatile, offering various ways to select data subsets.\n",
    "One-dimensional arrays are straightforward, behaving similarly to Python lists:"
   ]
  },
  {
   "cell_type": "code",
   "execution_count": 11,
   "metadata": {},
   "outputs": [
    {
     "name": "stdout",
     "output_type": "stream",
     "text": [
      "5\n",
      "[5 6 7]\n",
      "[ 0  1  2  3  4 12 12 12  8  9]\n"
     ]
    }
   ],
   "source": [
    "arr = np.arange(10)\n",
    "print(arr[5]) \n",
    "print(arr[5:8])\n",
    "arr[5:8] = 12\n",
    "print(arr)\n"
   ]
  },
  {
   "cell_type": "markdown",
   "metadata": {},
   "source": [
    "Important points:\n",
    "* Array slices are views on the original array. Any changes to the view reflect in the original array.\n",
    "* Explicit copying is required if a copy of the slice, not a view, is desired.\n",
    "\n",
    "For higher-dimensional arrays, individual elements are accessed with comma-separated indices:"
   ]
  },
  {
   "cell_type": "code",
   "execution_count": 12,
   "metadata": {},
   "outputs": [
    {
     "name": "stdout",
     "output_type": "stream",
     "text": [
      "[7 8 9]\n",
      "3\n"
     ]
    }
   ],
   "source": [
    "arr2d = np.array([[1, 2, 3], [4, 5, 6], [7, 8, 9]])\n",
    "print(arr2d[2])\n",
    "print(arr2d[0, 2])"
   ]
  },
  {
   "cell_type": "markdown",
   "metadata": {},
   "source": [
    "In multidimensional arrays, if you omit later indices, the result is an ndarray of all data along higher dimensions:"
   ]
  },
  {
   "cell_type": "code",
   "execution_count": 13,
   "metadata": {},
   "outputs": [
    {
     "name": "stdout",
     "output_type": "stream",
     "text": [
      "[[1 2 3]\n",
      " [4 5 6]]\n",
      "[[[42 42 42]\n",
      "  [42 42 42]]\n",
      "\n",
      " [[ 7  8  9]\n",
      "  [10 11 12]]]\n",
      "[[[ 1  2  3]\n",
      "  [ 4  5  6]]\n",
      "\n",
      " [[ 7  8  9]\n",
      "  [10 11 12]]]\n",
      "[7 8 9]\n"
     ]
    }
   ],
   "source": [
    "arr3d = np.array([[[1, 2, 3], [4, 5, 6]], [[7, 8, 9], [10, 11, 12]]])\n",
    "print(arr3d[0])\n",
    "old_values = arr3d[0].copy()\n",
    "arr3d[0] = 42\n",
    "print(arr3d)\n",
    "arr3d[0] = old_values\n",
    "print(arr3d)\n",
    "print(arr3d[1, 0])"
   ]
  },
  {
   "cell_type": "markdown",
   "metadata": {},
   "source": [
    "Subsections of arrays selected are views, ensuring any changes affect the original array. This multidimensional indexing doesn't apply to regular Python lists.\n",
    "\n",
    "5. Boolean Indexing\n",
    "\n",
    "Boolean indexing allows you to select and manipulate array data using Boolean conditions.\n",
    "\n",
    "* Comparing an array with a value yields a Boolean array.\n",
    "* Boolean arrays can be used to index and filter data from other arrays."
   ]
  },
  {
   "cell_type": "code",
   "execution_count": 14,
   "metadata": {},
   "outputs": [
    {
     "name": "stdout",
     "output_type": "stream",
     "text": [
      "[ True False False  True False False False]\n",
      "[[4 7]\n",
      " [0 0]]\n",
      "[[ 4  7]\n",
      " [-5  6]\n",
      " [ 0  0]\n",
      " [ 1  2]]\n"
     ]
    }
   ],
   "source": [
    "names = np.array(['Bob', 'Joe', 'Will', 'Bob', 'Will', 'Joe', 'Joe'])\n",
    "data = np.array([[4, 7], [0, 2], [-5, 6], [0, 0], [1, 2], [-12, -4], [3, 4]])\n",
    "\n",
    "# Creating a boolean array\n",
    "bool_array = names == 'Bob'\n",
    "print(bool_array)\n",
    "\n",
    "# Using boolean array for indexing\n",
    "print(data[names == 'Bob'])\n",
    "\n",
    "# Combining boolean conditions\n",
    "mask = (names == 'Bob') | (names == 'Will')\n",
    "print(data[mask])"
   ]
  },
  {
   "cell_type": "markdown",
   "metadata": {},
   "source": [
    "6. Fancy indeixing\n",
    "\n",
    "Fancy indexing refers to the indexing technique in NumPy where you can use arrays (or lists) of integers to index another array. It provides a way to create new derived arrays from the data of the original array.\n",
    "\n",
    "<b>Simple Indexing with Integer Arrays:</b> When you pass an array of integers to another array, you will get back a new array with the elements from the indices you provided."
   ]
  },
  {
   "cell_type": "code",
   "execution_count": 16,
   "metadata": {},
   "outputs": [
    {
     "name": "stdout",
     "output_type": "stream",
     "text": [
      "[10 20 30 40 50]\n",
      "[20 40]\n"
     ]
    }
   ],
   "source": [
    "arr = np.array([10, 20, 30, 40, 50])\n",
    "print(arr)\n",
    "\n",
    "index = np.array([1, 3])\n",
    "print(arr[index]) "
   ]
  },
  {
   "cell_type": "markdown",
   "metadata": {},
   "source": [
    "<b>Multidimensional Arrays:</b> For multidimensional arrays, things can get a bit more interesting."
   ]
  },
  {
   "cell_type": "code",
   "execution_count": 17,
   "metadata": {},
   "outputs": [
    {
     "name": "stdout",
     "output_type": "stream",
     "text": [
      "[[1 2 3]\n",
      " [4 5 6]\n",
      " [7 8 9]]\n",
      "[2 7]\n"
     ]
    }
   ],
   "source": [
    "arr_2d = np.array([[1, 2, 3], [4, 5, 6], [7, 8, 9]])\n",
    "print(arr_2d)\n",
    "\n",
    "print(arr_2d[[0, 2], [1, 0]])"
   ]
  },
  {
   "cell_type": "markdown",
   "metadata": {},
   "source": [
    "Think of the two lists you're passing ([0, 2] and [1, 0]) as representing coordinates. The first number from each list forms a coordinate and the second number from each list forms another coordinate.\n",
    "\n",
    "\n",
    "Some Key Characteristics:\n",
    "* Returns a Copy: Unlike simple slicing, fancy indexing returns a new copy of the data. This means modifications to the result won't affect the original array.\n",
    "\n",
    "* Multiple Index Arrays: When using multiple index arrays, the returned array has a shape that is the broadcasted shape of all the indices.\n",
    "\n",
    "* Rectangular Selection: One might expect fancy indexing to select a rectangle when using multiple index arrays, but it doesn't. Instead, it pairs up corresponding values from the index arrays. To actually get a rectangular region, you'd need to use slicing techniques combined with fancy indexing.\n",
    "\n",
    "* Negative Indexing: Just like with Python lists, negative integers will index from the end of the array.\n",
    "\n",
    "7. Transposing Arrays and Swapping Axes in NumPy\n",
    "\n",
    "Transposing and swapping axes are fundamental operations in matrix algebra and data manipulation. In NumPy, these operations can be performed effortlessly and efficiently without creating a new underlying data copy, but rather returning a view on the data.\n",
    "\n",
    "7.1. Transpose of an Array\n",
    "* The transpose of an array is essentially flipping its axes. This operation is useful in numerous mathematical computations.\n",
    "* NumPy provides the .T attribute to get the transpose of an array."
   ]
  },
  {
   "cell_type": "code",
   "execution_count": 19,
   "metadata": {},
   "outputs": [
    {
     "name": "stdout",
     "output_type": "stream",
     "text": [
      "[[ 0  1  2  3  4]\n",
      " [ 5  6  7  8  9]\n",
      " [10 11 12 13 14]]\n",
      "\n",
      "[[ 0  5 10]\n",
      " [ 1  6 11]\n",
      " [ 2  7 12]\n",
      " [ 3  8 13]\n",
      " [ 4  9 14]]\n"
     ]
    }
   ],
   "source": [
    "arr = np.arange(15).reshape((3, 5))\n",
    "print(arr)\n",
    "print(\"\")\n",
    "print(arr.T)"
   ]
  },
  {
   "cell_type": "markdown",
   "metadata": {},
   "source": [
    "7.2. Matrix Multiplication using Transpose\n",
    "\n",
    "* The `numpy.dot` function is used to perform matrix multiplication.\n",
    "* The `@` infix operator is an alternative and more readable way to perform matrix multiplication in Python (introduced in Python 3.5).\n"
   ]
  },
  {
   "cell_type": "code",
   "execution_count": 20,
   "metadata": {},
   "outputs": [
    {
     "name": "stdout",
     "output_type": "stream",
     "text": [
      "[[39 20 12]\n",
      " [20 14  2]\n",
      " [12  2 10]]\n",
      "\n",
      "[[39 20 12]\n",
      " [20 14  2]\n",
      " [12  2 10]]\n"
     ]
    }
   ],
   "source": [
    "arr = np.array([[0, 1, 0], [1, 2, -2], [6, 3, 2], [-1, 0, -1], [1, 0, 1]])\n",
    "\n",
    "# Using numpy.dot\n",
    "print(np.dot(arr.T, arr))\n",
    "print(\"\")\n",
    "\n",
    "# Using @ infix operator\n",
    "print(arr.T @ arr)"
   ]
  },
  {
   "cell_type": "markdown",
   "metadata": {},
   "source": [
    "7.3. Swapping Axes of an Array\n",
    "\n",
    "* Beyond transposing, more generally, you can rearrange the axes of a multi-dimensional array using the `swapaxes` method.\n",
    "* The `swapaxes` method takes two axis numbers as arguments and swaps them. Like transpose, this method returns a view on the data without making a new copy."
   ]
  },
  {
   "cell_type": "code",
   "execution_count": 21,
   "metadata": {},
   "outputs": [
    {
     "name": "stdout",
     "output_type": "stream",
     "text": [
      "[[ 0  1  0]\n",
      " [ 1  2 -2]\n",
      " [ 6  3  2]\n",
      " [-1  0 -1]\n",
      " [ 1  0  1]]\n",
      "\n",
      "[[ 0  1  6 -1  1]\n",
      " [ 1  2  3  0  0]\n",
      " [ 0 -2  2 -1  1]]\n"
     ]
    }
   ],
   "source": [
    "print(arr)\n",
    "print(\"\")\n",
    "print(arr.swapaxes(0, 1))"
   ]
  },
  {
   "cell_type": "markdown",
   "metadata": {},
   "source": []
  }
 ],
 "metadata": {
  "kernelspec": {
   "display_name": "pydata-book",
   "language": "python",
   "name": "python3"
  },
  "language_info": {
   "codemirror_mode": {
    "name": "ipython",
    "version": 3
   },
   "file_extension": ".py",
   "mimetype": "text/x-python",
   "name": "python",
   "nbconvert_exporter": "python",
   "pygments_lexer": "ipython3",
   "version": "3.9.16"
  },
  "orig_nbformat": 4
 },
 "nbformat": 4,
 "nbformat_minor": 2
}
