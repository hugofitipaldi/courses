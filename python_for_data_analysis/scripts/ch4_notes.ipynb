{
 "cells": [
  {
   "attachments": {},
   "cell_type": "markdown",
   "metadata": {},
   "source": [
    "### Notes on 4  NumPy Basics: Arrays and Vectorized Computation"
   ]
  },
  {
   "attachments": {},
   "cell_type": "markdown",
   "metadata": {},
   "source": [
    "* NumPy, short for Numerical Python, is pivotal for numerical computing in Python.\n",
    "* Numerous computational packages employ NumPy's array objects for data exchange.\n",
    "* Knowledge on NumPy also aids in understanding pandas.\n",
    "\n",
    "<b>Key Features of NumPy:</b>\n",
    "\n",
    "1. ndarray:\n",
    "\n",
    "* An efficient multidimensional array.\n",
    "* Enables fast array-oriented arithmetic operations.\n",
    "* Offers flexible broadcasting capabilities.\n",
    "\n",
    "2. Mathematical functions:\n",
    "\n",
    "* Enables fast operations on whole arrays.\n",
    "* Avoids the need to write loops.\n",
    "\n",
    "3. I/O Tools\n",
    "\n",
    "* Methods to read and write array data to disk, and to work with memory-mapped files.\n",
    "\n",
    "4. Additional Capabilities\n",
    "\n",
    "* Linear algebra, random number generation, and Fourier transform functions.\n",
    "\n",
    "5. C API Integration:\n",
    "\n",
    "* Enables integration with libraries written in C, C++, or FORTRAN.\n",
    "* Makes Python suitable for wrapping legacy low-level language codebases.\n",
    "* While NumPy is foundational, it doesn't directly provide scientific or modeling functionality. But knowing NumPy can aid in utilizing other tools like pandas more effectively.\n",
    "\n",
    "<b> NumPy's Importance </b>\n",
    "\n",
    "* Array-based operations for:\n",
    "    * Data munging and cleaning.\n",
    "    * Subsetting, filtering, and transforming data.\n",
    "    * Computing.\n",
    "\n",
    "\n",
    "* Algorithms: Sorting, finding unique elements, and set operations.\n",
    "\n",
    "* Data Operations: Descriptive statistics, data aggregation, and summarization.\n",
    "\n",
    "* Data Handling: Aligning data, merging and joining datasets.\n",
    "\n",
    "* Logic Expression: Using array expressions over traditional if-elif-else loop branches.\n",
    "\n",
    "* Group Operations: Aggregating, transforming, and applying functions.\n",
    "\n",
    "* Pandas offers more domain-specific functions, like time series manipulation.\n",
    "\n",
    "<b>Why is NumPy Efficient?</b>\n",
    "\n",
    "* Contiguous Memory Storage: Stores data in a block of memory, separate from Python's built-in objects.\n",
    "\n",
    "* C-based Algorithms: Uses C language algorithms that eliminate type-checking and overhead found in Python. These algorithms directly operate on NumPy's memory storage.\n",
    "\n",
    "* Memory Efficiency: Uses significantly less memory than built-in Python sequences.\n",
    "\n",
    "* Speed: Performs computations on entire arrays without needing Python loops."
   ]
  },
  {
   "attachments": {},
   "cell_type": "markdown",
   "metadata": {},
   "source": [
    "#### The NumPy ndarray: A Multidimensional Array Object"
   ]
  },
  {
   "attachments": {},
   "cell_type": "markdown",
   "metadata": {},
   "source": [
    "NumPy's ndarray is a flexible container for datasets in Python, allowing for efficient mathematical operations on entire datasets."
   ]
  },
  {
   "cell_type": "code",
   "execution_count": 1,
   "metadata": {},
   "outputs": [
    {
     "name": "stdout",
     "output_type": "stream",
     "text": [
      "[[ 15.  -1.  30.]\n",
      " [  0. -30.  65.]]\n",
      "[[ 3.  -0.2  6. ]\n",
      " [ 0.  -6.  13. ]]\n"
     ]
    }
   ],
   "source": [
    "import numpy as np\n",
    "\n",
    "data = np.array([[1.5, -0.1, 3], [0, -3, 6.5]])\n",
    "print(data * 10)\n",
    "print(data + data)"
   ]
  },
  {
   "attachments": {},
   "cell_type": "markdown",
   "metadata": {},
   "source": [
    "ndarray's have attributes like `shape` and `dtype` that provide information about the dimensions and type of the data."
   ]
  },
  {
   "cell_type": "code",
   "execution_count": 2,
   "metadata": {},
   "outputs": [
    {
     "name": "stdout",
     "output_type": "stream",
     "text": [
      "(2, 3)\n",
      "float64\n"
     ]
    }
   ],
   "source": [
    "print(data.shape)\n",
    "print(data.dtype)"
   ]
  },
  {
   "attachments": {},
   "cell_type": "markdown",
   "metadata": {},
   "source": [
    "<b>1. Creating ndarrays</b>\n",
    "\n",
    "You can convert regular Python sequences into ndarrays:"
   ]
  },
  {
   "cell_type": "code",
   "execution_count": 4,
   "metadata": {},
   "outputs": [
    {
     "name": "stdout",
     "output_type": "stream",
     "text": [
      "[6.  7.5 8.  0.  1. ]\n",
      "2\n",
      "(2, 4)\n"
     ]
    }
   ],
   "source": [
    "data1 = [6, 7.5, 8, 0, 1]\n",
    "arr1 = np.array(data1)\n",
    "print(arr1)\n",
    "\n",
    "# multidimensional array\n",
    "data2 = [[1, 2, 3, 4], [5, 6, 7, 8]]\n",
    "arr2 = np.array(data2)\n",
    "\n",
    "# Inspecting ndim and shape\n",
    "print(arr2.ndim)\n",
    "print(arr2.shape)"
   ]
  },
  {
   "attachments": {},
   "cell_type": "markdown",
   "metadata": {},
   "source": [
    "There are functions to generate arrays filled with zeros, ones, or uninitialized values:"
   ]
  },
  {
   "cell_type": "code",
   "execution_count": 5,
   "metadata": {},
   "outputs": [
    {
     "name": "stdout",
     "output_type": "stream",
     "text": [
      "[0. 0. 0. 0. 0. 0. 0. 0. 0. 0.]\n",
      "[[0. 0. 0. 0. 0. 0.]\n",
      " [0. 0. 0. 0. 0. 0.]\n",
      " [0. 0. 0. 0. 0. 0.]]\n",
      "[[[-1.28822975e-231 -1.28822975e-231]\n",
      "  [ 2.41907520e-312  2.14321575e-312]\n",
      "  [ 2.46151512e-312  2.31297541e-312]]\n",
      "\n",
      " [[ 2.35541533e-312  2.05833592e-312]\n",
      "  [ 2.22809558e-312  2.56761491e-312]\n",
      "  [ 2.48273508e-312  2.05833592e-312]]]\n"
     ]
    }
   ],
   "source": [
    "print(np.zeros(10))\n",
    "print(np.zeros((3, 6)))\n",
    "print(np.empty((2, 3, 2)))"
   ]
  },
  {
   "attachments": {},
   "cell_type": "markdown",
   "metadata": {},
   "source": [
    "There's an array-version of Python's range: `arange`."
   ]
  },
  {
   "cell_type": "code",
   "execution_count": 6,
   "metadata": {},
   "outputs": [
    {
     "name": "stdout",
     "output_type": "stream",
     "text": [
      "[ 0  1  2  3  4  5  6  7  8  9 10 11 12 13 14]\n"
     ]
    }
   ],
   "source": [
    "print(np.arange(15))"
   ]
  },
  {
   "attachments": {},
   "cell_type": "markdown",
   "metadata": {},
   "source": [
    "2. Data Types for ndaarays\n",
    "\n",
    "NumPy's flexibility stems from its varied data types. Here's how you can specify data types for an array:"
   ]
  },
  {
   "cell_type": "code",
   "execution_count": 7,
   "metadata": {},
   "outputs": [
    {
     "name": "stdout",
     "output_type": "stream",
     "text": [
      "float64\n",
      "int32\n"
     ]
    }
   ],
   "source": [
    "arr1 = np.array([1, 2, 3], dtype=np.float64)\n",
    "arr2 = np.array([1, 2, 3], dtype=np.int32)\n",
    "\n",
    "print(arr1.dtype)\n",
    "print(arr2.dtype)"
   ]
  },
  {
   "attachments": {},
   "cell_type": "markdown",
   "metadata": {},
   "source": [
    "You can also cast an array from one data type to another:"
   ]
  },
  {
   "cell_type": "code",
   "execution_count": 8,
   "metadata": {},
   "outputs": [
    {
     "name": "stdout",
     "output_type": "stream",
     "text": [
      "float64\n",
      "[ 3 -1 -2  0 12 10]\n"
     ]
    }
   ],
   "source": [
    "arr = np.array([1, 2, 3, 4, 5])\n",
    "float_arr = arr.astype(np.float64)\n",
    "print(float_arr.dtype)\n",
    "\n",
    "arr_floats = np.array([3.7, -1.2, -2.6, 0.5, 12.9, 10.1])\n",
    "print(arr_floats.astype(np.int32))"
   ]
  },
  {
   "attachments": {},
   "cell_type": "markdown",
   "metadata": {},
   "source": []
  }
 ],
 "metadata": {
  "kernelspec": {
   "display_name": "pydata-book",
   "language": "python",
   "name": "python3"
  },
  "language_info": {
   "codemirror_mode": {
    "name": "ipython",
    "version": 3
   },
   "file_extension": ".py",
   "mimetype": "text/x-python",
   "name": "python",
   "nbconvert_exporter": "python",
   "pygments_lexer": "ipython3",
   "version": "3.9.16"
  },
  "orig_nbformat": 4
 },
 "nbformat": 4,
 "nbformat_minor": 2
}
