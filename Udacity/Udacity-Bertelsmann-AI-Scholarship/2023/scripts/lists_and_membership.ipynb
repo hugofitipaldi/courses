{
 "cells": [
  {
   "cell_type": "markdown",
   "metadata": {},
   "source": [
    "## Quiz: List Indexing\n",
    "\n",
    "Use list indexing to determine how many days are in a particular month based on the integer variable `month`, and store that value in the integer variable `num_days`. For example, if `month` is 8, `num_days` should be set to 31, since the eighth month, August, has 31 days.\n",
    "\n",
    "Remember to account for zero-based indexing!"
   ]
  },
  {
   "cell_type": "code",
   "execution_count": 10,
   "metadata": {
    "edited": true,
    "gradable": true,
    "grader_id": "5u80myck73d",
    "udacity_user_query": ""
   },
   "outputs": [
    {
     "data": {
      "text/plain": [
       "31"
      ]
     },
     "execution_count": 10,
     "metadata": {},
     "output_type": "execute_result"
    }
   ],
   "source": [
    "month = 8\n",
    "days_in_month = [31,28,31,30,31,30,31,31,30,31,30,31]\n",
    "\n",
    "# TODO: replace None with appropriate code\n",
    "# Use list indexing to determine the number of days in `month`\n",
    "num_days = days_in_month[month - 1]\n",
    "num_days"
   ]
  },
  {
   "cell_type": "markdown",
   "metadata": {},
   "source": [
    "## Quiz: Slicing Lists\n",
    "\n",
    "Select the three most recent dates from this list using list slicing notation. Hint: negative indexes work in slices!"
   ]
  },
  {
   "cell_type": "code",
   "execution_count": 9,
   "metadata": {
    "edited": true,
    "gradable": true,
    "grader_id": "iv28qkil0o",
    "udacity_user_query": ""
   },
   "outputs": [
    {
     "data": {
      "text/plain": [
       "['November 13, 2012', 'March 20, 2015', 'March 9, 2016']"
      ]
     },
     "execution_count": 9,
     "metadata": {},
     "output_type": "execute_result"
    }
   ],
   "source": [
    "eclipse_dates = ['June 21, 2001', 'December 4, 2002', 'November 23, 2003',\n",
    "                 'March 29, 2006', 'August 1, 2008', 'July 22, 2009',\n",
    "                 'July 11, 2010', 'November 13, 2012', 'March 20, 2015',\n",
    "                 'March 9, 2016']          \n",
    "                 \n",
    "# TODO: Replace None with appropriate code\n",
    "# Modify this code so it prints the last three elements of the list\n",
    "last_three_dates = eclipse_dates[-3:]\n",
    "last_three_dates"
   ]
  },
  {
   "cell_type": "code",
   "execution_count": null,
   "metadata": {},
   "outputs": [],
   "source": []
  }
 ],
 "metadata": {
  "grader_mode": "",
  "kernelspec": {
   "display_name": "Python 3",
   "language": "python",
   "name": "python3"
  },
  "language_info": {
   "codemirror_mode": {
    "name": "ipython",
    "version": 3
   },
   "file_extension": ".py",
   "mimetype": "text/x-python",
   "name": "python",
   "nbconvert_exporter": "python",
   "pygments_lexer": "ipython3",
   "version": "3.6.3"
  },
  "showGradeBtn": true
 },
 "nbformat": 4,
 "nbformat_minor": 2
}
