{
 "cells": [
  {
   "cell_type": "markdown",
   "metadata": {},
   "source": [
    "## String method playgroud\n",
    "Browse the complete list of string methods at:\n",
    "https://docs.python.org/3/library/stdtypes.html#string-methods\n",
    "and try them out in the cell below."
   ]
  },
  {
   "cell_type": "code",
   "execution_count": null,
   "metadata": {},
   "outputs": [],
   "source": [
    "## String method playgroud\n",
    "\n",
    "# 13.37.islower() error "
   ]
  },
  {
   "cell_type": "markdown",
   "metadata": {},
   "source": [
    "## `format()` practice"
   ]
  },
  {
   "cell_type": "code",
   "execution_count": 1,
   "metadata": {},
   "outputs": [
    {
     "data": {
      "text/plain": [
       "'He said his name was John Doe and that he was 35 years old'"
      ]
     },
     "execution_count": 1,
     "metadata": {},
     "output_type": "execute_result"
    }
   ],
   "source": [
    "# Write two lines of code below, each assigning a value to a variable\n",
    "name = \"John Doe\"\n",
    "age = 35\n",
    "\n",
    "# Now write a print statement using .format() to print out a sentence and the \n",
    "# values of both of the variables\n",
    "\n",
    "f\"He said his name was {name} and that he was {age} years old\""
   ]
  },
  {
   "cell_type": "code",
   "execution_count": null,
   "metadata": {},
   "outputs": [],
   "source": []
  }
 ],
 "metadata": {
  "kernelspec": {
   "display_name": "Python 3",
   "language": "python",
   "name": "python3"
  },
  "language_info": {
   "codemirror_mode": {
    "name": "ipython",
    "version": 3
   },
   "file_extension": ".py",
   "mimetype": "text/x-python",
   "name": "python",
   "nbconvert_exporter": "python",
   "pygments_lexer": "ipython3",
   "version": "3.6.3"
  }
 },
 "nbformat": 4,
 "nbformat_minor": 2
}
