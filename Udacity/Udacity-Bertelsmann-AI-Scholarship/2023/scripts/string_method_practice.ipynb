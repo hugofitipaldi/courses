{
 "cells": [
  {
   "cell_type": "markdown",
   "metadata": {},
   "source": [
    "Answer the following questions about `verse`\n",
    "1. What is the length of the string variable `verse`?\n",
    "2. What is the index of the first occurrence of the word 'and' in `verse`?\n",
    "3. What is the index of the last occurrence of the word 'you' in `verse`?\n",
    "4. What is the count of occurrences of the word 'you' in the `verse`?"
   ]
  },
  {
   "cell_type": "code",
   "execution_count": 2,
   "metadata": {},
   "outputs": [
    {
     "name": "stdout",
     "output_type": "stream",
     "text": [
      "If you can keep your head when all about you\n",
      "  Are losing theirs and blaming it on you,\n",
      "If you can trust yourself when all men doubt you,\n",
      "  But make allowance for their doubting too;\n",
      "If you can wait and not be tired by waiting,\n",
      "  Or being lied about, don’t deal in lies,\n",
      "Or being hated, don’t give way to hating,\n",
      "  And yet don’t look too good, nor talk too wise:\n",
      "\n",
      "The length of the string variable verse is: 362\n",
      "The index of the first occurrence of the word 'and' in verse is: 65\n",
      "The index of the last occurrence of the word 'you' in verse is: 186\n",
      "The count of occurrences of the word 'you' in the verse is: 8\n"
     ]
    }
   ],
   "source": [
    "verse = \"If you can keep your head when all about you\\n  Are losing theirs and blaming it on you,\\nIf you can trust yourself when all men doubt you,\\n  But make allowance for their doubting too;\\nIf you can wait and not be tired by waiting,\\n  Or being lied about, don’t deal in lies,\\nOr being hated, don’t give way to hating,\\n  And yet don’t look too good, nor talk too wise:\"\n",
    "print(verse)\n",
    "print(\"\")\n",
    "# Use the appropriate functions and methods to answer the questions above\n",
    "# Bonus: practice using .format() to output your answers in descriptive messages!\n",
    "\n",
    "# 1\n",
    "verse_length = len(verse)\n",
    "print(\"The length of the string variable verse is: {}\".format(verse_length))\n",
    "\n",
    "#2\n",
    "first_and_index = verse.find('and')\n",
    "print(\"The index of the first occurrence of the word 'and' in verse is: {}\".format(first_and_index))\n",
    "\n",
    "#3\n",
    "last_you_index = verse.rfind('you')\n",
    "print(\"The index of the last occurrence of the word 'you' in verse is: {}\".format(last_you_index))\n",
    "\n",
    "#4\n",
    "you_count = verse.count('you')\n",
    "print(\"The count of occurrences of the word 'you' in the verse is: {}\".format(you_count))"
   ]
  },
  {
   "cell_type": "code",
   "execution_count": null,
   "metadata": {},
   "outputs": [],
   "source": []
  }
 ],
 "metadata": {
  "kernelspec": {
   "display_name": "Python 3",
   "language": "python",
   "name": "python3"
  },
  "language_info": {
   "codemirror_mode": {
    "name": "ipython",
    "version": 3
   },
   "file_extension": ".py",
   "mimetype": "text/x-python",
   "name": "python",
   "nbconvert_exporter": "python",
   "pygments_lexer": "ipython3",
   "version": "3.6.3"
  }
 },
 "nbformat": 4,
 "nbformat_minor": 2
}
