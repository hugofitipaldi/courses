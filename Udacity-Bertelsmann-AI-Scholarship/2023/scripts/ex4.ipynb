{
 "cells": [
  {
   "cell_type": "markdown",
   "metadata": {},
   "source": [
    "##  Quiz: Flying Circus Cast List\n",
    "\n",
    "You're going to create a list of the actors who appeared in the television programme Monty Python's Flying Circus.\n",
    "\n",
    "Write a function called create_cast_list that takes a filename as input and returns a list of actors' names. It will be run on the file flying_circus_cast.txt (this information was collected from imdb.com). Each line of that file consists of an actor's name, a comma, and then some (messy) information about roles they played in the programme. You'll need to extract only the name and add it to a list. You might use the .split() method to process each line."
   ]
  },
  {
   "cell_type": "code",
   "execution_count": 2,
   "metadata": {},
   "outputs": [],
   "source": [
    "actor_names = [\n",
    "    'Graham Chapman', 'Eric Idle', 'Terry Jones', 'Michael Palin', 'Terry Gilliam',\n",
    "    'John Cleese', 'Carol Cleveland', 'Ian Davidson', 'John Hughman',\n",
    "    'The Fred Tomlinson Singers', 'Connie Booth', 'Bob Raymond', 'Lyn Ashley',\n",
    "    'Rita Davies', 'Stanley Mason', 'David Ballantyne', 'Donna Reading',\n",
    "    'Peter Brett', 'Maureen Flanagan', 'Katya Wyeth', 'Frank Lester',\n",
    "    'Neil Innes', 'Dick Vosburgh', 'Sandra Richards', 'Julia Breck',\n",
    "    'Nicki Howorth', 'Jimmy Hill', 'Barry Cryer', 'Jeannette Wild', 'Marjorie Wilde',\n",
    "    'Marie Anderson', 'Caron Gardner', 'Nosher Powell', 'Carolae Donoghue',\n",
    "    'Vincent Wong', 'Helena Clayton', 'Nigel Jones', 'Roy Gunson', 'Daphne Davey',\n",
    "    'Stenson Falke', 'Alexander Curry', 'Frank Williams', 'Ralph Wood',\n",
    "    'Rosalind Bailey', 'Marion Mould', 'Sheila Sands', 'Richard Baker',\n",
    "    'Douglas Adams', 'Ewa Aulin', 'Reginald Bosanquet', 'Barbara Lindley',\n",
    "    'Roy Brent', 'Jonas Card', 'Tony Christopher', 'Beulah Hughes', 'Peter Kodak',\n",
    "    'Lulu', 'Jay Neill', 'Graham Skidmore', 'Ringo Starr', 'Fred Tomlinson',\n",
    "    'David Hamilton', 'Suzy Mandel', 'Peter Woods'\n",
    "]\n",
    "\n",
    "with open('../data/flying_circus_cast.txt', 'w') as file:\n",
    "    for actor in actor_names:\n",
    "        file.write(actor + '\\n')"
   ]
  },
  {
   "cell_type": "code",
   "execution_count": 3,
   "metadata": {},
   "outputs": [
    {
     "data": {
      "text/plain": [
       "['Graham Chapman\\n',\n",
       " 'Eric Idle\\n',\n",
       " 'Terry Jones\\n',\n",
       " 'Michael Palin\\n',\n",
       " 'Terry Gilliam\\n',\n",
       " 'John Cleese\\n',\n",
       " 'Carol Cleveland\\n',\n",
       " 'Ian Davidson\\n',\n",
       " 'John Hughman\\n',\n",
       " 'The Fred Tomlinson Singers\\n',\n",
       " 'Connie Booth\\n',\n",
       " 'Bob Raymond\\n',\n",
       " 'Lyn Ashley\\n',\n",
       " 'Rita Davies\\n',\n",
       " 'Stanley Mason\\n',\n",
       " 'David Ballantyne\\n',\n",
       " 'Donna Reading\\n',\n",
       " 'Peter Brett\\n',\n",
       " 'Maureen Flanagan\\n',\n",
       " 'Katya Wyeth\\n',\n",
       " 'Frank Lester\\n',\n",
       " 'Neil Innes\\n',\n",
       " 'Dick Vosburgh\\n',\n",
       " 'Sandra Richards\\n',\n",
       " 'Julia Breck\\n',\n",
       " 'Nicki Howorth\\n',\n",
       " 'Jimmy Hill\\n',\n",
       " 'Barry Cryer\\n',\n",
       " 'Jeannette Wild\\n',\n",
       " 'Marjorie Wilde\\n',\n",
       " 'Marie Anderson\\n',\n",
       " 'Caron Gardner\\n',\n",
       " 'Nosher Powell\\n',\n",
       " 'Carolae Donoghue\\n',\n",
       " 'Vincent Wong\\n',\n",
       " 'Helena Clayton\\n',\n",
       " 'Nigel Jones\\n',\n",
       " 'Roy Gunson\\n',\n",
       " 'Daphne Davey\\n',\n",
       " 'Stenson Falke\\n',\n",
       " 'Alexander Curry\\n',\n",
       " 'Frank Williams\\n',\n",
       " 'Ralph Wood\\n',\n",
       " 'Rosalind Bailey\\n',\n",
       " 'Marion Mould\\n',\n",
       " 'Sheila Sands\\n',\n",
       " 'Richard Baker\\n',\n",
       " 'Douglas Adams\\n',\n",
       " 'Ewa Aulin\\n',\n",
       " 'Reginald Bosanquet\\n',\n",
       " 'Barbara Lindley\\n',\n",
       " 'Roy Brent\\n',\n",
       " 'Jonas Card\\n',\n",
       " 'Tony Christopher\\n',\n",
       " 'Beulah Hughes\\n',\n",
       " 'Peter Kodak\\n',\n",
       " 'Lulu\\n',\n",
       " 'Jay Neill\\n',\n",
       " 'Graham Skidmore\\n',\n",
       " 'Ringo Starr\\n',\n",
       " 'Fred Tomlinson\\n',\n",
       " 'David Hamilton\\n',\n",
       " 'Suzy Mandel\\n',\n",
       " 'Peter Woods\\n']"
      ]
     },
     "execution_count": 3,
     "metadata": {},
     "output_type": "execute_result"
    }
   ],
   "source": [
    "def create_cast_list(filename):\n",
    "    cast_list = []\n",
    "    #use with to open the file filename\n",
    "    with open(filename) as file:\n",
    "        #use the for loop syntax to process each line\n",
    "        for line in file:\n",
    "            #and add the actor name to cast_list\n",
    "            cast_list.append(line.split(',')[0])\n",
    "    return cast_list\n",
    "\n",
    "cast_list = create_cast_list('../data/flying_circus_cast.txt')\n",
    "cast_list"
   ]
  },
  {
   "cell_type": "code",
   "execution_count": null,
   "metadata": {},
   "outputs": [],
   "source": []
  }
 ],
 "metadata": {
  "kernelspec": {
   "display_name": "pydata-book",
   "language": "python",
   "name": "python3"
  },
  "language_info": {
   "codemirror_mode": {
    "name": "ipython",
    "version": 3
   },
   "file_extension": ".py",
   "mimetype": "text/x-python",
   "name": "python",
   "nbconvert_exporter": "python",
   "pygments_lexer": "ipython3",
   "version": "3.9.16"
  }
 },
 "nbformat": 4,
 "nbformat_minor": 2
}
