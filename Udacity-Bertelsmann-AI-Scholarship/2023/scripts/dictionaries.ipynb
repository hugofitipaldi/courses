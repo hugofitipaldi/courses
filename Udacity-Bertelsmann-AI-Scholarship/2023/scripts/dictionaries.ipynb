{
 "cells": [
  {
   "cell_type": "markdown",
   "metadata": {},
   "source": [
    "## Quiz: Define a Dictionary\n",
    "\n",
    "Define a dictionary named `population` that contains this data:\n",
    "\n",
    "|  **Keys** | **Values**  |\n",
    "|---|---|\n",
    "|  Shanghai | 17.8  |\n",
    "|  Istanbul | 13.3  |\n",
    "|  Karachi |  13.0 |\n",
    "|  Mumbai | 12.5  |"
   ]
  },
  {
   "cell_type": "code",
   "execution_count": 1,
   "metadata": {
    "edited": true,
    "gradable": true,
    "grader_id": "x2puz2gtaf",
    "udacity_user_query": ""
   },
   "outputs": [
    {
     "data": {
      "text/plain": [
       "{'Shanghai': 17.8, 'Istanbul': 13.3, 'Karachi': 13.0, 'Mumbai': 12.5}"
      ]
     },
     "execution_count": 1,
     "metadata": {},
     "output_type": "execute_result"
    }
   ],
   "source": [
    "# TODO: replace None with appropriate code\n",
    "# Define a dictionary, `population`, that provides information\n",
    "# on the world's largest cities. The key is the name of a city\n",
    "# (a string), and the associated value is its population in\n",
    "# millions of people.\n",
    "#   Key     |   Value\n",
    "# Shanghai  |   17.8\n",
    "# Istanbul  |   13.3\n",
    "# Karachi   |   13.0\n",
    "# Mumbai    |   12.5\n",
    "population = {'Shanghai': 17.8,'Istanbul': 13.3,'Karachi': 13.0,'Mumbai': 12.5}\n",
    "population"
   ]
  },
  {
   "cell_type": "code",
   "execution_count": null,
   "metadata": {},
   "outputs": [],
   "source": []
  }
 ],
 "metadata": {
  "grader_mode": "",
  "kernelspec": {
   "display_name": "Python 3",
   "language": "python",
   "name": "python3"
  },
  "language_info": {
   "codemirror_mode": {
    "name": "ipython",
    "version": 3
   },
   "file_extension": ".py",
   "mimetype": "text/x-python",
   "name": "python",
   "nbconvert_exporter": "python",
   "pygments_lexer": "ipython3",
   "version": "3.6.3"
  },
  "showGradeBtn": true
 },
 "nbformat": 4,
 "nbformat_minor": 2
}
