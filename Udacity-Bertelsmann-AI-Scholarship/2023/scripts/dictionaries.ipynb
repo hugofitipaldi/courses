{
 "cells": [
  {
   "cell_type": "markdown",
   "metadata": {},
   "source": [
    "## Quiz: Fruit Basket - Task 1\n",
    "You would like to count the number of fruits in your basket.  In order to do this, you have the following dictionary and list of fruits.  Use the dictionary and list to count the total number of fruits, but you do not want to count the other items in your basket."
   ]
  },
  {
   "cell_type": "code",
   "execution_count": 3,
   "metadata": {
    "edited": true,
    "gradable": true,
    "grader_id": "qfj9lpypwe",
    "udacity_user_query": ""
   },
   "outputs": [
    {
     "name": "stdout",
     "output_type": "stream",
     "text": [
      "23\n"
     ]
    }
   ],
   "source": [
    "# You would like to count the number of fruits in your basket. \n",
    "# In order to do this, you have the following dictionary and list of\n",
    "# fruits.  Use the dictionary and list to count the total number\n",
    "# of fruits, but you do not want to count the other items in your basket.\n",
    "\n",
    "result = 0\n",
    "basket_items = {'apples': 4, 'oranges': 19, 'kites': 3, 'sandwiches': 8}\n",
    "fruits = ['apples', 'oranges', 'pears', 'peaches', 'grapes', 'bananas']\n",
    "\n",
    "#Iterate through the dictionary\n",
    "for item in basket_items:\n",
    "    # If the key is in the list of fruits, add the value (number of fruits) to result\n",
    "    if item in fruits:\n",
    "        result += basket_items[item]\n",
    "\n",
    "print(result)"
   ]
  },
  {
   "cell_type": "markdown",
   "metadata": {},
   "source": [
    "## Quiz: Fruit Basket - Task 2\n",
    "If your solution is robust, you should be able to use it with any dictionary of items to count the number of fruits in the basket.  Try the loop for each of the dictionaries below to make sure it always works."
   ]
  },
  {
   "cell_type": "code",
   "execution_count": 4,
   "metadata": {
    "grader_id": "xlyqb83ovds"
   },
   "outputs": [
    {
     "name": "stdout",
     "output_type": "stream",
     "text": [
      "28\n",
      "9\n",
      "4\n"
     ]
    }
   ],
   "source": [
    "#Example 1\n",
    "\n",
    "result = 0\n",
    "basket_items = {'pears': 5, 'grapes': 19, 'kites': 3, 'sandwiches': 8, 'bananas': 4}\n",
    "fruits = ['apples', 'oranges', 'pears', 'peaches', 'grapes', 'bananas']\n",
    "\n",
    "# Iterate through the dictionary\n",
    "for item in basket_items:\n",
    "    # If the key is in the list of fruits, add the value (number of fruits) to result\n",
    "    if item in fruits:\n",
    "        result += basket_items[item]\n",
    "\n",
    "print(result)\n",
    "\n",
    "#Example 2\n",
    "\n",
    "result = 0\n",
    "basket_items = {'peaches': 5, 'lettuce': 2, 'kites': 3, 'sandwiches': 8, 'pears': 4}\n",
    "fruits = ['apples', 'oranges', 'pears', 'peaches', 'grapes', 'bananas']\n",
    "\n",
    "# Iterate through the dictionary\n",
    "for item in basket_items:\n",
    "    # If the key is in the list of fruits, add the value (number of fruits) to result\n",
    "    if item in fruits:\n",
    "        result += basket_items[item]\n",
    "\n",
    "print(result)\n",
    "\n",
    "#Example 3\n",
    "\n",
    "result = 0\n",
    "basket_items = {'lettuce': 2, 'kites': 3, 'sandwiches': 8, 'pears': 4, 'bears': 10}\n",
    "fruits = ['apples', 'oranges', 'pears', 'peaches', 'grapes', 'bananas']\n",
    "\n",
    "# Iterate through the dictionary\n",
    "for item in basket_items:\n",
    "    # If the key is in the list of fruits, add the value (number of fruits) to result\n",
    "    if item in fruits:\n",
    "        result += basket_items[item]\n",
    "\n",
    "print(result)\n"
   ]
  },
  {
   "cell_type": "markdown",
   "metadata": {},
   "source": [
    "## Quiz: Fruit Basket - Task 3\n",
    "So, a couple of things about the above examples:\n",
    "\n",
    "1. It is a bit annoying having to copy and paste all the code to each spot - wouldn't it be nice to have a way to repeat the process without copying all the code?  Don't worry! You will learn how to do this in the next lesson!\n",
    "2. It would be nice to keep track of both the number of fruits and other items in the basket.\n",
    "\n",
    "Use the environment below to try out this second part."
   ]
  },
  {
   "cell_type": "code",
   "execution_count": 5,
   "metadata": {
    "edited": true,
    "gradable": true,
    "grader_id": "lvlwx7cjxy",
    "udacity_user_query": ""
   },
   "outputs": [
    {
     "name": "stdout",
     "output_type": "stream",
     "text": [
      "Number of fruits: 23\n",
      "Number of non-fruits: 11\n"
     ]
    }
   ],
   "source": [
    "fruit_count, not_fruit_count = 0, 0\n",
    "basket_items = {'apples': 4, 'oranges': 19, 'kites': 3, 'sandwiches': 8}\n",
    "fruits = ['apples', 'oranges', 'pears', 'peaches', 'grapes', 'bananas']\n",
    "\n",
    "# Iterate through the dictionary\n",
    "for item in basket_items:\n",
    "    # If the key is in the list of fruits, add to fruit_count\n",
    "    if item in fruits:\n",
    "        fruit_count += basket_items[item]\n",
    "    # If the key is not in the list, add to not_fruit_count\n",
    "    else:\n",
    "        not_fruit_count += basket_items[item]\n",
    "\n",
    "print(\"Number of fruits:\", fruit_count)\n",
    "print(\"Number of non-fruits:\", not_fruit_count)\n"
   ]
  },
  {
   "cell_type": "code",
   "execution_count": null,
   "metadata": {},
   "outputs": [],
   "source": []
  }
 ],
 "metadata": {
  "grader_mode": "",
  "kernelspec": {
   "display_name": "Python 3",
   "language": "python",
   "name": "python3"
  },
  "language_info": {
   "codemirror_mode": {
    "name": "ipython",
    "version": 3
   },
   "file_extension": ".py",
   "mimetype": "text/x-python",
   "name": "python",
   "nbconvert_exporter": "python",
   "pygments_lexer": "ipython3",
   "version": "3.6.3"
  },
  "showGradeBtn": true
 },
 "nbformat": 4,
 "nbformat_minor": 2
}
