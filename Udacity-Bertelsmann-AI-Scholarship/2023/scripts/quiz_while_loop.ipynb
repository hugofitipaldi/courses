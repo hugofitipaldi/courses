{
 "cells": [
  {
   "cell_type": "markdown",
   "metadata": {},
   "source": [
    "## Quiz: Count By\n",
    "Suppose you want to count from some number `start_num` by another number `count_by` until you hit a final number `end_num`. Use `break_num` as the variable that you'll change each time through the loop.  For simplicity, assume that `end_num` is always larger than `start_num` and `count_by` is always positive. \n",
    "\n",
    "Before the loop, what do you want to set `break_num` equal to? How do you want to change `break_num` each time through the loop? What condition will you use to see when it's time to stop looping?\n",
    "\n",
    "After the loop is done, what's the value of `break_num`? It is the case that `break_num` should be a number that is the first number larger than `end_num`."
   ]
  },
  {
   "cell_type": "code",
   "execution_count": 1,
   "metadata": {
    "edited": true,
    "gradable": true,
    "grader_id": "tkkwvwazu6k",
    "udacity_user_query": ""
   },
   "outputs": [
    {
     "name": "stdout",
     "output_type": "stream",
     "text": [
      "101\n"
     ]
    }
   ],
   "source": [
    "start_num = 5\n",
    "end_num = 100\n",
    "count_by = 2\n",
    "\n",
    "# Check if start_num is greater than end_num\n",
    "if start_num > end_num:\n",
    "    result = \"Oops! Looks like your start value is greater than the end value. Please try again.\"\n",
    "else:\n",
    "    # Set break_num to start_num\n",
    "    break_num = start_num\n",
    "    \n",
    "    # Loop until break_num is greater than end_num\n",
    "    while break_num < end_num:\n",
    "        # Update break_num by adding count_by\n",
    "        break_num += count_by\n",
    "    \n",
    "    result = break_num\n",
    "\n",
    "print(result)\n"
   ]
  },
  {
   "cell_type": "markdown",
   "metadata": {},
   "source": [
    "## Quiz: Count By Check\n",
    "Suppose you want to count from some number `start_num` by another number `count_by` until you hit a final number `end_num`, and calculate `break_num` the way you did in the last quiz.\n",
    "\n",
    "Now in addition, address what would happen if someone gives a `start_num` that is greater than `end_num`. If this is the case, set `result` to `\"Oops!  Looks like your start value is greater than the end value.  Please try again.\"` \n",
    "\n",
    "Otherwise, set `result` to the value of `break_num`."
   ]
  },
  {
   "cell_type": "code",
   "execution_count": 2,
   "metadata": {
    "edited": true,
    "gradable": true,
    "grader_id": "2ed62rgwy4e",
    "udacity_user_query": ""
   },
   "outputs": [
    {
     "name": "stdout",
     "output_type": "stream",
     "text": [
      "101\n"
     ]
    }
   ],
   "source": [
    "start_num = 5\n",
    "end_num = 100\n",
    "count_by = 2\n",
    "\n",
    "# Check if start_num is greater than end_num\n",
    "if start_num > end_num:\n",
    "    result = \"Oops! Looks like your start value is greater than the end value. Please try again.\"\n",
    "else:\n",
    "    # Set break_num to start_num\n",
    "    break_num = start_num\n",
    "    \n",
    "    # Loop until break_num is greater than end_num\n",
    "    while break_num < end_num:\n",
    "        # Update break_num by adding count_by\n",
    "        break_num += count_by\n",
    "    \n",
    "    result = break_num\n",
    "\n",
    "print(result)\n"
   ]
  },
  {
   "cell_type": "markdown",
   "metadata": {},
   "source": [
    "## Quiz: Nearest Square\n",
    "Write a while loop that finds the largest square number less than an integer `limit` and stores it in a variable `nearest_square`. A square number is the product of an integer multiplied by itself, for example 36 is a square number because it equals 6*6.\n",
    "\n",
    "For example, if limit is `40`, your code should set the `nearest_square` to 36."
   ]
  },
  {
   "cell_type": "code",
   "execution_count": 3,
   "metadata": {
    "edited": true,
    "gradable": true,
    "grader_id": "zkyaywwqgsi",
    "udacity_user_query": ""
   },
   "outputs": [
    {
     "name": "stdout",
     "output_type": "stream",
     "text": [
      "36\n"
     ]
    }
   ],
   "source": [
    "limit = 40\n",
    "nearest_square = 0\n",
    "number = 1\n",
    "\n",
    "# Write a while loop to find the largest square number less than the limit\n",
    "while number ** 2 < limit:\n",
    "    nearest_square = number ** 2\n",
    "    number += 1\n",
    "\n",
    "print(nearest_square)\n"
   ]
  },
  {
   "cell_type": "code",
   "execution_count": null,
   "metadata": {
    "grader_id": "3u4ovmh3ey3"
   },
   "outputs": [],
   "source": []
  }
 ],
 "metadata": {
  "grader_mode": "",
  "kernelspec": {
   "display_name": "Python 3",
   "language": "python",
   "name": "python3"
  },
  "language_info": {
   "codemirror_mode": {
    "name": "ipython",
    "version": 3
   },
   "file_extension": ".py",
   "mimetype": "text/x-python",
   "name": "python",
   "nbconvert_exporter": "python",
   "pygments_lexer": "ipython3",
   "version": "3.6.3"
  },
  "showGradeBtn": true
 },
 "nbformat": 4,
 "nbformat_minor": 2
}
